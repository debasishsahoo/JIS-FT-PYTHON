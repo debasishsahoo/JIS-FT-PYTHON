{
  "nbformat": 4,
  "nbformat_minor": 0,
  "metadata": {
    "colab": {
      "provenance": []
    },
    "kernelspec": {
      "name": "python3",
      "display_name": "Python 3"
    },
    "language_info": {
      "name": "python"
    }
  },
  "cells": [
    {
      "cell_type": "code",
      "execution_count": null,
      "metadata": {
        "colab": {
          "base_uri": "https://localhost:8080/"
        },
        "id": "sK2Xbo8C3H2Z",
        "outputId": "3e37be98-059e-472d-81aa-1072a675e731"
      },
      "outputs": [
        {
          "output_type": "execute_result",
          "data": {
            "text/plain": [
              "4"
            ]
          },
          "metadata": {},
          "execution_count": 3
        }
      ],
      "source": [
        "# in python we two type of function \n",
        "#1.Built_in_function\n",
        "#2.User_Defind Function\n",
        "# Doc string\n",
        "\n",
        "def square(n):\n",
        "  '''Takes in a number n,return the square of n'''\n",
        "  return n**2\n",
        "square(2)"
      ]
    },
    {
      "cell_type": "code",
      "source": [
        "print(square.__doc__)"
      ],
      "metadata": {
        "colab": {
          "base_uri": "https://localhost:8080/"
        },
        "id": "JvMm7LQO4Xss",
        "outputId": "5ba47d0e-82d2-439a-aa31-4f9c3811be14"
      },
      "execution_count": null,
      "outputs": [
        {
          "output_type": "stream",
          "name": "stdout",
          "text": [
            "Takes in a number n,return the square of n\n"
          ]
        }
      ]
    },
    {
      "cell_type": "code",
      "source": [
        "import pickle\n",
        "print(pickle.__doc__)"
      ],
      "metadata": {
        "colab": {
          "base_uri": "https://localhost:8080/"
        },
        "id": "9JVNWNL94mW1",
        "outputId": "80b2317a-5ffd-4c99-f8e8-afb180e28ee8"
      },
      "execution_count": null,
      "outputs": [
        {
          "output_type": "stream",
          "name": "stdout",
          "text": [
            "Create portable serialized representations of Python objects.\n",
            "\n",
            "See module copyreg for a mechanism for registering custom picklers.\n",
            "See module pickletools source for extensive comments.\n",
            "\n",
            "Classes:\n",
            "\n",
            "    Pickler\n",
            "    Unpickler\n",
            "\n",
            "Functions:\n",
            "\n",
            "    dump(object, file)\n",
            "    dumps(object) -> string\n",
            "    load(file) -> object\n",
            "    loads(string) -> object\n",
            "\n",
            "Misc variables:\n",
            "\n",
            "    __version__\n",
            "    format_version\n",
            "    compatible_formats\n",
            "\n",
            "\n"
          ]
        }
      ]
    },
    {
      "cell_type": "code",
      "source": [
        "import numpy\n",
        "print(numpy.__doc__)"
      ],
      "metadata": {
        "colab": {
          "base_uri": "https://localhost:8080/"
        },
        "id": "Rt9BSFE54yUO",
        "outputId": "bc9f799d-f332-49a9-f064-1b882e9c936c"
      },
      "execution_count": null,
      "outputs": [
        {
          "output_type": "stream",
          "name": "stdout",
          "text": [
            "\n",
            "NumPy\n",
            "=====\n",
            "\n",
            "Provides\n",
            "  1. An array object of arbitrary homogeneous items\n",
            "  2. Fast mathematical operations over arrays\n",
            "  3. Linear Algebra, Fourier Transforms, Random Number Generation\n",
            "\n",
            "How to use the documentation\n",
            "----------------------------\n",
            "Documentation is available in two forms: docstrings provided\n",
            "with the code, and a loose standing reference guide, available from\n",
            "`the NumPy homepage <https://www.scipy.org>`_.\n",
            "\n",
            "We recommend exploring the docstrings using\n",
            "`IPython <https://ipython.org>`_, an advanced Python shell with\n",
            "TAB-completion and introspection capabilities.  See below for further\n",
            "instructions.\n",
            "\n",
            "The docstring examples assume that `numpy` has been imported as `np`::\n",
            "\n",
            "  >>> import numpy as np\n",
            "\n",
            "Code snippets are indicated by three greater-than signs::\n",
            "\n",
            "  >>> x = 42\n",
            "  >>> x = x + 1\n",
            "\n",
            "Use the built-in ``help`` function to view a function's docstring::\n",
            "\n",
            "  >>> help(np.sort)\n",
            "  ... # doctest: +SKIP\n",
            "\n",
            "For some objects, ``np.info(obj)`` may provide additional help.  This is\n",
            "particularly true if you see the line \"Help on ufunc object:\" at the top\n",
            "of the help() page.  Ufuncs are implemented in C, not Python, for speed.\n",
            "The native Python help() does not know how to view their help, but our\n",
            "np.info() function does.\n",
            "\n",
            "To search for documents containing a keyword, do::\n",
            "\n",
            "  >>> np.lookfor('keyword')\n",
            "  ... # doctest: +SKIP\n",
            "\n",
            "General-purpose documents like a glossary and help on the basic concepts\n",
            "of numpy are available under the ``doc`` sub-module::\n",
            "\n",
            "  >>> from numpy import doc\n",
            "  >>> help(doc)\n",
            "  ... # doctest: +SKIP\n",
            "\n",
            "Available subpackages\n",
            "---------------------\n",
            "doc\n",
            "    Topical documentation on broadcasting, indexing, etc.\n",
            "lib\n",
            "    Basic functions used by several sub-packages.\n",
            "random\n",
            "    Core Random Tools\n",
            "linalg\n",
            "    Core Linear Algebra Tools\n",
            "fft\n",
            "    Core FFT routines\n",
            "polynomial\n",
            "    Polynomial tools\n",
            "testing\n",
            "    NumPy testing tools\n",
            "f2py\n",
            "    Fortran to Python Interface Generator.\n",
            "distutils\n",
            "    Enhancements to distutils with support for\n",
            "    Fortran compilers support and more.\n",
            "\n",
            "Utilities\n",
            "---------\n",
            "test\n",
            "    Run numpy unittests\n",
            "show_config\n",
            "    Show numpy build configuration\n",
            "dual\n",
            "    Overwrite certain functions with high-performance SciPy tools.\n",
            "    Note: `numpy.dual` is deprecated.  Use the functions from NumPy or Scipy\n",
            "    directly instead of importing them from `numpy.dual`.\n",
            "matlib\n",
            "    Make everything matrices.\n",
            "__version__\n",
            "    NumPy version string\n",
            "\n",
            "Viewing documentation using IPython\n",
            "-----------------------------------\n",
            "Start IPython with the NumPy profile (``ipython -p numpy``), which will\n",
            "import `numpy` under the alias `np`.  Then, use the ``cpaste`` command to\n",
            "paste examples into the shell.  To see which functions are available in\n",
            "`numpy`, type ``np.<TAB>`` (where ``<TAB>`` refers to the TAB key), or use\n",
            "``np.*cos*?<ENTER>`` (where ``<ENTER>`` refers to the ENTER key) to narrow\n",
            "down the list.  To view the docstring for a function, use\n",
            "``np.cos?<ENTER>`` (to view the docstring) and ``np.cos??<ENTER>`` (to view\n",
            "the source code).\n",
            "\n",
            "Copies vs. in-place operation\n",
            "-----------------------------\n",
            "Most of the functions in `numpy` return a copy of the array argument\n",
            "(e.g., `np.sort`).  In-place versions of these functions are often\n",
            "available as array methods, i.e. ``x = np.array([1,2,3]); x.sort()``.\n",
            "Exceptions to this rule are documented.\n",
            "\n",
            "\n"
          ]
        }
      ]
    },
    {
      "cell_type": "code",
      "source": [
        "# BUilt_in_Function\n",
        "#range(),print(),input(),type(),id(),eval(),\n",
        "#abs(),ascii(),bin(),bool(),dict(),filter()"
      ],
      "metadata": {
        "id": "GF5CjcmM5PfT"
      },
      "execution_count": null,
      "outputs": []
    },
    {
      "cell_type": "code",
      "source": [
        "#abc()\n",
        "a=-23\n",
        "print(abs(a))\n",
        "\n",
        "b=-3.45\n",
        "print(abs(b))\n",
        "\n",
        "c=(3-4j)\n",
        "print(abs(c))"
      ],
      "metadata": {
        "colab": {
          "base_uri": "https://localhost:8080/"
        },
        "id": "OAfCbx_k50hH",
        "outputId": "06ee4634-2c7c-4e2b-bc94-619c76c50fa6"
      },
      "execution_count": null,
      "outputs": [
        {
          "output_type": "stream",
          "name": "stdout",
          "text": [
            "23\n",
            "3.45\n",
            "5.0\n"
          ]
        }
      ]
    },
    {
      "cell_type": "code",
      "source": [
        "#any()\n",
        "a=[1,2,3,4] # if any of the value is true then all the value is true\n",
        "print(any(a))\n",
        "\n",
        "a=[0,False] # if all of the value is False then all the value is False\n",
        "print(any(a))\n",
        "\n",
        "\n",
        "a=[0,False,5] # if any element is true the return true\n",
        "print(any(a))\n",
        "\n",
        "a=[] # all things are Empty\n",
        "print(any(a))\n",
        "\n",
        "\n",
        "\n"
      ],
      "metadata": {
        "colab": {
          "base_uri": "https://localhost:8080/"
        },
        "id": "KQWcRbMD6lk9",
        "outputId": "a78bbb63-ce24-4dd1-9508-a51d710e5b64"
      },
      "execution_count": null,
      "outputs": [
        {
          "output_type": "stream",
          "name": "stdout",
          "text": [
            "True\n",
            "False\n",
            "True\n",
            "False\n"
          ]
        }
      ]
    },
    {
      "cell_type": "code",
      "source": [
        "#all()\n",
        "a=[1,2,3,4] # if all of the value is true then all the value is true\n",
        "print(all(a))\n",
        "\n",
        "a=[0,False] # if any of the value is False then all the value is False\n",
        "print(all(a))\n",
        "\n",
        "a=[0,False,5] # if all element is true the return true\n",
        "print(all(a))\n",
        "\n",
        "\n",
        "a=[] # all things are Empty return true\n",
        "print(all(a))\n",
        "\n",
        "a=[1,2,0,3,4] # if all of the value is true then all the value is true\n",
        "print(all(a))"
      ],
      "metadata": {
        "colab": {
          "base_uri": "https://localhost:8080/"
        },
        "id": "H89B21sP7z0m",
        "outputId": "16677d52-6239-4d64-b4a7-167cdd36198b"
      },
      "execution_count": null,
      "outputs": [
        {
          "output_type": "stream",
          "name": "stdout",
          "text": [
            "True\n",
            "False\n",
            "False\n",
            "True\n",
            "False\n"
          ]
        }
      ]
    },
    {
      "cell_type": "code",
      "source": [
        "a='Python'\n",
        "b='PythÖn'\n",
        "c=\"Ö\"\n",
        "d=\"∞\"\n",
        "e=\"ë\"\n",
        "f=\"≥\"\n",
        "g='∑'\n",
        "print(ascii(a))\n",
        "print(ascii(b))\n",
        "print(ascii(c))\n",
        "print(ascii(d))\n",
        "print(ascii(e))\n",
        "print(ascii(f))\n",
        "print(ascii(g))\n",
        "\n"
      ],
      "metadata": {
        "colab": {
          "base_uri": "https://localhost:8080/"
        },
        "id": "NZJMH6Vs8jpU",
        "outputId": "ebb5aa9f-5f5f-4930-df61-ec31f431dd5a"
      },
      "execution_count": null,
      "outputs": [
        {
          "output_type": "stream",
          "name": "stdout",
          "text": [
            "'Python'\n",
            "'Pyth\\xd6n'\n",
            "'\\xd6'\n",
            "'\\u221e'\n",
            "'\\xeb'\n",
            "'\\u2265'\n",
            "'\\u2211'\n"
          ]
        }
      ]
    },
    {
      "cell_type": "code",
      "source": [
        "#bin convert int to binary and 0b prefix is the symbol of binary\n",
        "n=5\n",
        "print(bin(n))"
      ],
      "metadata": {
        "colab": {
          "base_uri": "https://localhost:8080/"
        },
        "id": "UbzuiQIL-5gN",
        "outputId": "661cad9f-dae6-4755-d12e-0cfd90fc5942"
      },
      "execution_count": null,
      "outputs": [
        {
          "output_type": "stream",
          "name": "stdout",
          "text": [
            "0b101\n"
          ]
        }
      ]
    },
    {
      "cell_type": "code",
      "source": [
        "#bool\n",
        "n=[]\n",
        "a=0\n",
        "b=0.0\n",
        "c=[0]\n",
        "d=None\n",
        "e='0'\n",
        "print(bool(n))\n",
        "print(bool(a))\n",
        "print(bool(b))\n",
        "print(bool(c))\n",
        "print(bool(d))\n",
        "print(bool(e))"
      ],
      "metadata": {
        "colab": {
          "base_uri": "https://localhost:8080/"
        },
        "id": "eBxC0Y29AIPG",
        "outputId": "9a81eb89-4691-4cd2-a592-d3945c711199"
      },
      "execution_count": null,
      "outputs": [
        {
          "output_type": "stream",
          "name": "stdout",
          "text": [
            "False\n",
            "False\n",
            "False\n",
            "True\n",
            "False\n",
            "True\n"
          ]
        }
      ]
    },
    {
      "cell_type": "code",
      "source": [
        "#chr\n",
        "print(chr(97))\n",
        "print(chr(65))\n",
        "print(chr(33))\n",
        "print(chr(1200))\n",
        "print(chr(214))\n",
        "print(chr(8377))\n",
        "\n",
        "#ord\n",
        "print(ord('a'))\n",
        "print(ord('A'))\n",
        "print(ord('!'))\n",
        "print(ord('Ұ'))\n",
        "print(ord(\"Ö\"))\n",
        "print(ord('₹'))"
      ],
      "metadata": {
        "colab": {
          "base_uri": "https://localhost:8080/"
        },
        "id": "dL3imnfdBE0-",
        "outputId": "7839c383-9d3f-415b-c89f-3431a11f8e34"
      },
      "execution_count": null,
      "outputs": [
        {
          "output_type": "stream",
          "name": "stdout",
          "text": [
            "a\n",
            "A\n",
            "!\n",
            "Ұ\n",
            "Ö\n",
            "₹\n",
            "97\n",
            "65\n",
            "33\n",
            "1200\n",
            "214\n",
            "8377\n"
          ]
        }
      ]
    },
    {
      "cell_type": "code",
      "source": [
        "#byte\n",
        "str=\"Python is good\"\n",
        "arr=bytes(str,'utf-8')\n",
        "print(arr)\n"
      ],
      "metadata": {
        "colab": {
          "base_uri": "https://localhost:8080/"
        },
        "id": "YRJXVqW8C2c0",
        "outputId": "065bb2d2-a0a3-41f7-afab-9b9c0a5289af"
      },
      "execution_count": null,
      "outputs": [
        {
          "output_type": "stream",
          "name": "stdout",
          "text": [
            "b'Python is good'\n"
          ]
        }
      ]
    },
    {
      "cell_type": "code",
      "source": [
        "l=[1,2,3,4,5,6,7,8,9]\n",
        "l=[1,2,3,4,5,6]\n",
        "l=[1,2,3,4,5,6,7,8]\n",
        "l=[1,2,3,4,5,6,7,8,9,10,11,12,13]\n",
        "arr=bytes(l)\n",
        "print(arr)"
      ],
      "metadata": {
        "colab": {
          "base_uri": "https://localhost:8080/"
        },
        "id": "104p4fuEDWGm",
        "outputId": "d0e8424a-e4de-4961-eac2-5eca52df158b"
      },
      "execution_count": null,
      "outputs": [
        {
          "output_type": "stream",
          "name": "stdout",
          "text": [
            "b'\\x01\\x02\\x03\\x04\\x05\\x06\\x07\\x08\\t\\n\\x0b\\x0c\\r'\n"
          ]
        }
      ]
    },
    {
      "cell_type": "code",
      "source": [
        "# float\n",
        "print(float(10))\n",
        "print(float(10.23))\n",
        "print(float(-10))\n",
        "print(float(-10.6796))\n",
        "print(float('-10.696'))\n",
        "\n",
        "\n",
        "print(float('abc'))"
      ],
      "metadata": {
        "colab": {
          "base_uri": "https://localhost:8080/",
          "height": 293
        },
        "id": "tH6jI-N-ESvl",
        "outputId": "387421d6-39c4-48af-c2fd-297a78ec61b6"
      },
      "execution_count": null,
      "outputs": [
        {
          "output_type": "stream",
          "name": "stdout",
          "text": [
            "10.0\n",
            "10.23\n",
            "-10.0\n",
            "-10.6796\n",
            "-10.696\n"
          ]
        },
        {
          "output_type": "error",
          "ename": "ValueError",
          "evalue": "ignored",
          "traceback": [
            "\u001b[0;31m---------------------------------------------------------------------------\u001b[0m",
            "\u001b[0;31mValueError\u001b[0m                                Traceback (most recent call last)",
            "\u001b[0;32m<ipython-input-45-15a09a007a2f>\u001b[0m in \u001b[0;36m<module>\u001b[0;34m\u001b[0m\n\u001b[1;32m      7\u001b[0m \u001b[0;34m\u001b[0m\u001b[0m\n\u001b[1;32m      8\u001b[0m \u001b[0;34m\u001b[0m\u001b[0m\n\u001b[0;32m----> 9\u001b[0;31m \u001b[0mprint\u001b[0m\u001b[0;34m(\u001b[0m\u001b[0mfloat\u001b[0m\u001b[0;34m(\u001b[0m\u001b[0;34m'abc'\u001b[0m\u001b[0;34m)\u001b[0m\u001b[0;34m)\u001b[0m\u001b[0;34m\u001b[0m\u001b[0;34m\u001b[0m\u001b[0m\n\u001b[0m",
            "\u001b[0;31mValueError\u001b[0m: could not convert string to float: 'abc'"
          ]
        }
      ]
    },
    {
      "cell_type": "code",
      "source": [
        "#str\n",
        "str(1234)\n",
        "str(12334)\n",
        "r=str(10)\n",
        "print(r)"
      ],
      "metadata": {
        "colab": {
          "base_uri": "https://localhost:8080/",
          "height": 240
        },
        "id": "aTTVvPwPFAKb",
        "outputId": "a2853155-5ee4-4c3b-96c8-bf7eee8f69f1"
      },
      "execution_count": null,
      "outputs": [
        {
          "output_type": "error",
          "ename": "TypeError",
          "evalue": "ignored",
          "traceback": [
            "\u001b[0;31m---------------------------------------------------------------------------\u001b[0m",
            "\u001b[0;31mTypeError\u001b[0m                                 Traceback (most recent call last)",
            "\u001b[0;32m<ipython-input-54-0e2cc5f4b2cf>\u001b[0m in \u001b[0;36m<module>\u001b[0;34m\u001b[0m\n\u001b[1;32m      1\u001b[0m \u001b[0;31m#str\u001b[0m\u001b[0;34m\u001b[0m\u001b[0;34m\u001b[0m\u001b[0;34m\u001b[0m\u001b[0m\n\u001b[0;32m----> 2\u001b[0;31m \u001b[0mstr\u001b[0m\u001b[0;34m(\u001b[0m\u001b[0;36m1234\u001b[0m\u001b[0;34m)\u001b[0m\u001b[0;34m\u001b[0m\u001b[0;34m\u001b[0m\u001b[0m\n\u001b[0m\u001b[1;32m      3\u001b[0m \u001b[0mstr\u001b[0m\u001b[0;34m(\u001b[0m\u001b[0;36m12334\u001b[0m\u001b[0;34m)\u001b[0m\u001b[0;34m\u001b[0m\u001b[0;34m\u001b[0m\u001b[0m\n\u001b[1;32m      4\u001b[0m \u001b[0mr\u001b[0m\u001b[0;34m=\u001b[0m\u001b[0mstr\u001b[0m\u001b[0;34m(\u001b[0m\u001b[0;36m10\u001b[0m\u001b[0;34m)\u001b[0m\u001b[0;34m\u001b[0m\u001b[0;34m\u001b[0m\u001b[0m\n\u001b[1;32m      5\u001b[0m \u001b[0mprint\u001b[0m\u001b[0;34m(\u001b[0m\u001b[0mr\u001b[0m\u001b[0;34m)\u001b[0m\u001b[0;34m\u001b[0m\u001b[0;34m\u001b[0m\u001b[0m\n",
            "\u001b[0;31mTypeError\u001b[0m: 'str' object is not callable"
          ]
        }
      ]
    },
    {
      "cell_type": "code",
      "source": [
        "b=bytes('PythÖn',encoding='utf-8')\n",
        "print(b)\n",
        "print('value:',str(b,encoding='ascii',errors='ignore'))"
      ],
      "metadata": {
        "colab": {
          "base_uri": "https://localhost:8080/",
          "height": 222
        },
        "id": "lIvgEgOwHLt6",
        "outputId": "06795e8f-2af7-4749-9cf8-2b3a37bd3354"
      },
      "execution_count": null,
      "outputs": [
        {
          "output_type": "stream",
          "name": "stdout",
          "text": [
            "b'Pyth\\xc3\\x96n'\n"
          ]
        },
        {
          "output_type": "error",
          "ename": "TypeError",
          "evalue": "ignored",
          "traceback": [
            "\u001b[0;31m---------------------------------------------------------------------------\u001b[0m",
            "\u001b[0;31mTypeError\u001b[0m                                 Traceback (most recent call last)",
            "\u001b[0;32m<ipython-input-56-3e5a8086efe6>\u001b[0m in \u001b[0;36m<module>\u001b[0;34m\u001b[0m\n\u001b[1;32m      1\u001b[0m \u001b[0mb\u001b[0m\u001b[0;34m=\u001b[0m\u001b[0mbytes\u001b[0m\u001b[0;34m(\u001b[0m\u001b[0;34m'PythÖn'\u001b[0m\u001b[0;34m,\u001b[0m\u001b[0mencoding\u001b[0m\u001b[0;34m=\u001b[0m\u001b[0;34m'utf-8'\u001b[0m\u001b[0;34m)\u001b[0m\u001b[0;34m\u001b[0m\u001b[0;34m\u001b[0m\u001b[0m\n\u001b[1;32m      2\u001b[0m \u001b[0mprint\u001b[0m\u001b[0;34m(\u001b[0m\u001b[0mb\u001b[0m\u001b[0;34m)\u001b[0m\u001b[0;34m\u001b[0m\u001b[0;34m\u001b[0m\u001b[0m\n\u001b[0;32m----> 3\u001b[0;31m \u001b[0mprint\u001b[0m\u001b[0;34m(\u001b[0m\u001b[0;34m'value:'\u001b[0m\u001b[0;34m,\u001b[0m\u001b[0mstr\u001b[0m\u001b[0;34m(\u001b[0m\u001b[0mb\u001b[0m\u001b[0;34m,\u001b[0m\u001b[0mencoding\u001b[0m\u001b[0;34m=\u001b[0m\u001b[0;34m'ascii'\u001b[0m\u001b[0;34m,\u001b[0m\u001b[0merrors\u001b[0m\u001b[0;34m=\u001b[0m\u001b[0;34m'ignore'\u001b[0m\u001b[0;34m)\u001b[0m\u001b[0;34m)\u001b[0m\u001b[0;34m\u001b[0m\u001b[0;34m\u001b[0m\u001b[0m\n\u001b[0m",
            "\u001b[0;31mTypeError\u001b[0m: 'str' object is not callable"
          ]
        }
      ]
    },
    {
      "cell_type": "code",
      "source": [
        "#int\n",
        "print(int(123))\n",
        "print(int(123.34))\n",
        "print(int('123'))"
      ],
      "metadata": {
        "colab": {
          "base_uri": "https://localhost:8080/"
        },
        "id": "drFZDAKXHdRE",
        "outputId": "8fb6a38a-f9a1-4e3b-c07c-993ac4b4abdb"
      },
      "execution_count": null,
      "outputs": [
        {
          "output_type": "stream",
          "name": "stdout",
          "text": [
            "123\n",
            "123\n",
            "123\n"
          ]
        }
      ]
    },
    {
      "cell_type": "code",
      "source": [
        "#Binary Number with base 2  (0,1)\n",
        "print(int('1010',2))\n",
        "print(int('0b1010',2))\n",
        "\n",
        "#ocatal Number with base 8 (0,1,2,3,4,5,6,7)\n",
        "print(int('12',8))\n",
        "print(int('0o12',8))\n",
        "\n",
        "#HexaDecmal Number with base 16(0,1,2,3,4,5,6,7,8,9,A,B,C,D,E,F)\n",
        "print(int('A',16))\n",
        "print(int('0xA',16))"
      ],
      "metadata": {
        "colab": {
          "base_uri": "https://localhost:8080/"
        },
        "id": "AvTJSjqDIJv6",
        "outputId": "35aae892-5484-4489-db8d-2d6a4828ccef"
      },
      "execution_count": null,
      "outputs": [
        {
          "output_type": "stream",
          "name": "stdout",
          "text": [
            "10\n",
            "10\n",
            "10\n",
            "10\n",
            "10\n",
            "10\n"
          ]
        }
      ]
    },
    {
      "cell_type": "code",
      "source": [
        "datasourse=['A','I','C','K','W','U','T','R','O','E']\n",
        "\n",
        "def filter_criteria(l):\n",
        "  vowels=['A','E','I','O','U']\n",
        "  if(l in vowels):\n",
        "    return True\n",
        "  else:\n",
        "    return False\n",
        "\n",
        "filtredVowles=filter(filter_criteria,datasourse)\n",
        "\n",
        "for i in filtredVowles:\n",
        "  print(i)"
      ],
      "metadata": {
        "colab": {
          "base_uri": "https://localhost:8080/"
        },
        "id": "GM01TnntJkM-",
        "outputId": "08b3b677-3bbf-42dc-a384-9f13734b2216"
      },
      "execution_count": null,
      "outputs": [
        {
          "output_type": "stream",
          "name": "stdout",
          "text": [
            "A\n",
            "I\n",
            "U\n",
            "O\n",
            "E\n"
          ]
        }
      ]
    },
    {
      "cell_type": "code",
      "source": [
        "print(filter.__doc__)\n",
        "\n",
        "\n",
        "\n",
        "random_list=[1,'a',0,False,True,'0',1==1,1==0]\n",
        "filterdList=filter(None,random_list)\n",
        "for i in filterdList:\n",
        "  print(i)\n",
        "\n"
      ],
      "metadata": {
        "colab": {
          "base_uri": "https://localhost:8080/"
        },
        "id": "fIlwySqabT0b",
        "outputId": "a592a554-8d49-498a-9822-fe3883cf6ede"
      },
      "execution_count": 71,
      "outputs": [
        {
          "output_type": "stream",
          "name": "stdout",
          "text": [
            "filter(function or None, iterable) --> filter object\n",
            "\n",
            "Return an iterator yielding those items of iterable for which function(item)\n",
            "is true. If function is None, return the items that are true.\n",
            "1\n",
            "a\n",
            "True\n",
            "0\n",
            "True\n"
          ]
        }
      ]
    },
    {
      "cell_type": "code",
      "source": [
        "#enumarate\n",
        "topic=['Python','ML','DL','OPEN CV']\n",
        "\n",
        "emu_topic=enumerate(topic)\n",
        "print(emu_topic)\n",
        "print(type(emu_topic))\n",
        "print(list(emu_topic))\n",
        "change_topic=enumerate(topic,25)\n",
        "print(list(change_topic))"
      ],
      "metadata": {
        "colab": {
          "base_uri": "https://localhost:8080/"
        },
        "id": "XiGxs0hLcfir",
        "outputId": "ade5510e-6109-4b29-de5f-e0963498da96"
      },
      "execution_count": 75,
      "outputs": [
        {
          "output_type": "stream",
          "name": "stdout",
          "text": [
            "<enumerate object at 0x7f1a666ed380>\n",
            "<class 'enumerate'>\n",
            "[(0, 'Python'), (1, 'ML'), (2, 'DL'), (3, 'OPEN CV')]\n",
            "[(25, 'Python'), (26, 'ML'), (27, 'DL'), (28, 'OPEN CV')]\n"
          ]
        }
      ]
    },
    {
      "cell_type": "code",
      "source": [
        "topic=['Python','ML','DL','OPEN CV']\n",
        "\n",
        "\n",
        "for i in topic:\n",
        "  print(i)\n",
        "print('---------------------------------------------------------')\n",
        "for i in enumerate(topic):\n",
        "  print(i)\n",
        "print('---------------------------------------------------------')\n",
        "for count,i in enumerate(topic):\n",
        "  print(count,i)\n",
        "print('---------------------------------------------------------')\n",
        "for count,i in enumerate(topic,101):\n",
        "  print(count,i)"
      ],
      "metadata": {
        "colab": {
          "base_uri": "https://localhost:8080/"
        },
        "id": "3zvPQ2jYd0Ul",
        "outputId": "2d575bc3-d120-4da6-d7a3-31ea4061f853"
      },
      "execution_count": 80,
      "outputs": [
        {
          "output_type": "stream",
          "name": "stdout",
          "text": [
            "Python\n",
            "ML\n",
            "DL\n",
            "OPEN CV\n",
            "---------------------------------------------------------\n",
            "(0, 'Python')\n",
            "(1, 'ML')\n",
            "(2, 'DL')\n",
            "(3, 'OPEN CV')\n",
            "---------------------------------------------------------\n",
            "0 Python\n",
            "1 ML\n",
            "2 DL\n",
            "3 OPEN CV\n",
            "---------------------------------------------------------\n",
            "101 Python\n",
            "102 ML\n",
            "103 DL\n",
            "104 OPEN CV\n"
          ]
        }
      ]
    },
    {
      "cell_type": "code",
      "source": [
        "#Dictionary\n",
        "\n",
        "number=dict(x=5,y=6);\n",
        "print(number)\n",
        "print(type(number))\n",
        "\n",
        "empty=dict()\n",
        "print(empty)\n",
        "print(type(empty))\n",
        "\n",
        "\n"
      ],
      "metadata": {
        "colab": {
          "base_uri": "https://localhost:8080/"
        },
        "id": "32KCiiLRemDU",
        "outputId": "1c289297-f700-44bd-acfd-ead6890976b2"
      },
      "execution_count": 83,
      "outputs": [
        {
          "output_type": "stream",
          "name": "stdout",
          "text": [
            "{'x': 5, 'y': 6}\n",
            "<class 'dict'>\n",
            "{}\n",
            "<class 'dict'>\n"
          ]
        }
      ]
    },
    {
      "cell_type": "code",
      "source": [
        "num1=dict([('x',5),('y',-5)])\n",
        "print(num1)\n",
        "\n",
        "\n",
        "num2=dict([('x',5),('y',-5)],z=8)\n",
        "print(num2)\n",
        "\n",
        "\n",
        "num3=dict(dict(zip(['x','y','z'],[1,2,3])))\n",
        "print(num3)"
      ],
      "metadata": {
        "colab": {
          "base_uri": "https://localhost:8080/"
        },
        "id": "xqh46oJOfOjo",
        "outputId": "3710b4cf-6bf5-46f0-a856-1887a75dd093"
      },
      "execution_count": 86,
      "outputs": [
        {
          "output_type": "stream",
          "name": "stdout",
          "text": [
            "{'x': 5, 'y': -5}\n",
            "{'x': 5, 'y': -5, 'z': 8}\n",
            "{'x': 1, 'y': 2, 'z': 3}\n"
          ]
        }
      ]
    },
    {
      "cell_type": "code",
      "source": [
        "#list\n",
        "print(list())\n",
        "\n",
        "vowel_string='aeiou'\n",
        "print(list(vowel_string))\n",
        "\n",
        "vowel_tuple=('a', 'e', 'i', 'o', 'u')\n",
        "print(list(vowel_tuple))\n",
        "\n",
        "\n",
        "vowel_list=['a', 'e', 'i', 'o', 'u']\n",
        "print(list(vowel_list))\n",
        "\n",
        "\n",
        "vowel_set={'a', 'e', 'i', 'o', 'u'}\n",
        "print(list(vowel_set))\n",
        "\n",
        "vowel_dict={'a':1, 'e':2, 'i':3, 'o':4, 'u':5}\n",
        "print(list(vowel_dict))\n"
      ],
      "metadata": {
        "colab": {
          "base_uri": "https://localhost:8080/"
        },
        "id": "pPvxB9Z7gHrf",
        "outputId": "767d89b1-06dc-4736-8564-1ebf30f7faf1"
      },
      "execution_count": 91,
      "outputs": [
        {
          "output_type": "stream",
          "name": "stdout",
          "text": [
            "[]\n",
            "['a', 'e', 'i', 'o', 'u']\n",
            "['a', 'e', 'i', 'o', 'u']\n",
            "['a', 'e', 'i', 'o', 'u']\n",
            "['u', 'a', 'i', 'e', 'o']\n",
            "['a', 'e', 'i', 'o', 'u']\n"
          ]
        }
      ]
    },
    {
      "cell_type": "code",
      "source": [
        "class PowTwo:\n",
        "  def __init__(self,max):\n",
        "    self.max=max\n",
        "\n",
        "  def __iter__(self):\n",
        "    self.num=0\n",
        "    return self\n",
        "  def __next__(self):\n",
        "    if(self.num>=self.max):\n",
        "      raise StopIteration\n",
        "    result=2**self.num\n",
        "    self.num+=1\n",
        "    return result\n",
        "\n",
        "\n",
        "pow_two=PowTwo(5)\n",
        "pow_two_iter=iter(pow_two)\n",
        "\n",
        "print(list(pow_two_iter))\n",
        "\n",
        "\n",
        "\n",
        "\n",
        "\n",
        "\n",
        "\n"
      ],
      "metadata": {
        "colab": {
          "base_uri": "https://localhost:8080/"
        },
        "id": "HoXJEnbphUoP",
        "outputId": "866a7706-3d07-4f03-db2f-44f51ff31841"
      },
      "execution_count": 92,
      "outputs": [
        {
          "output_type": "stream",
          "name": "stdout",
          "text": [
            "[1, 2, 4, 8, 16]\n"
          ]
        }
      ]
    },
    {
      "cell_type": "code",
      "source": [
        "#len,max,min,\n",
        "\n",
        "print('Length:',len([]))\n",
        "print('Length:',len([1]))\n",
        "print('Length:',len([1,2,3,4,5,6]))\n",
        "\n",
        "\n",
        "print(\"max of list value is\",max([1,2,3,4,5,6]))\n",
        "print(\"min of list value is\",min([1,2,3,4,5,6]))\n",
        "\n"
      ],
      "metadata": {
        "colab": {
          "base_uri": "https://localhost:8080/"
        },
        "id": "YlgIEztyi8lV",
        "outputId": "c5451c62-c257-4e9b-a1d9-4e238cb515d3"
      },
      "execution_count": 96,
      "outputs": [
        {
          "output_type": "stream",
          "name": "stdout",
          "text": [
            "Length: 0\n",
            "Length: 1\n",
            "Length: 6\n",
            "max of list value is 6\n",
            "min of list value is 1\n"
          ]
        }
      ]
    },
    {
      "cell_type": "code",
      "source": [
        "languages=['python','c','c#','j','c++','javascript','zend']\n",
        "print(max(languages))\n",
        "\n",
        "\n",
        "square={2:4,-3:9,-1:1,-2:4}\n",
        "\n",
        "# Largest Key\n",
        "key1=max(square);\n",
        "print(key1)\n",
        "\n",
        "# which key hold the largest value\n",
        "key2=max(square,key=lambda k:square[k])\n",
        "print(key2)\n",
        "\n",
        "# get the largest Value\n",
        "print(square[key2])\n",
        "\n"
      ],
      "metadata": {
        "colab": {
          "base_uri": "https://localhost:8080/"
        },
        "id": "WLSw8qTUjr8K",
        "outputId": "b2467759-bac4-4764-f296-0c9fb73dde03"
      },
      "execution_count": 104,
      "outputs": [
        {
          "output_type": "stream",
          "name": "stdout",
          "text": [
            "zend\n",
            "2\n",
            "-3\n",
            "9\n"
          ]
        }
      ]
    },
    {
      "cell_type": "code",
      "source": [
        "languages=['python','c','c#','j','c++','javascript','zend']\n",
        "print(min(languages))\n",
        "\n",
        "square={2:4,-3:9,-1:1,-2:4}\n",
        "\n",
        "# smallest Key\n",
        "key1=min(square);\n",
        "print(key1)\n",
        "\n",
        "# which key hold the smallest value\n",
        "key2=min(square,key=lambda k:square[k])\n",
        "print(key2)\n",
        "\n",
        "# get the smallest Value\n",
        "print(square[key2])\n",
        "\n",
        "\n",
        "\n"
      ],
      "metadata": {
        "colab": {
          "base_uri": "https://localhost:8080/"
        },
        "id": "mdDVew0QnGPL",
        "outputId": "519c867c-4d42-48df-fc28-e52f965cd36a"
      },
      "execution_count": 107,
      "outputs": [
        {
          "output_type": "stream",
          "name": "stdout",
          "text": [
            "c\n",
            "-3\n",
            "-1\n",
            "1\n"
          ]
        }
      ]
    },
    {
      "cell_type": "code",
      "source": [
        "#map()\n",
        "\n",
        "def calculateSquare(n):\n",
        "  return n*n\n",
        "\n",
        "num=(1,2,3,4,5,6,7,8,9)\n",
        "results=map(calculateSquare,num)\n",
        "\n",
        "for i in results:\n",
        "  print(i)\n"
      ],
      "metadata": {
        "colab": {
          "base_uri": "https://localhost:8080/"
        },
        "id": "f84QjZFFnuew",
        "outputId": "ced19acd-2f7d-4570-ea04-04e26e07e99c"
      },
      "execution_count": 110,
      "outputs": [
        {
          "output_type": "stream",
          "name": "stdout",
          "text": [
            "1\n",
            "4\n",
            "9\n",
            "16\n",
            "25\n",
            "36\n",
            "49\n",
            "64\n",
            "81\n"
          ]
        }
      ]
    },
    {
      "cell_type": "code",
      "source": [
        "num=(1,2,3,4,5,6,7,8,9)\n",
        "results=map(lambda x:x*x,num)\n",
        "\n",
        "for i in results:\n",
        "  print(i)\n",
        "  "
      ],
      "metadata": {
        "colab": {
          "base_uri": "https://localhost:8080/"
        },
        "id": "Hnl0KdXIpHIK",
        "outputId": "66b9c8b0-923d-4b75-a942-a84a4e0fef6d"
      },
      "execution_count": 112,
      "outputs": [
        {
          "output_type": "stream",
          "name": "stdout",
          "text": [
            "1\n",
            "4\n",
            "9\n",
            "16\n",
            "25\n",
            "36\n",
            "49\n",
            "64\n",
            "81\n"
          ]
        }
      ]
    },
    {
      "cell_type": "code",
      "source": [
        "num1=[4,5,6]\n",
        "num2=[5,6,7]\n",
        "\n",
        "results=map(lambda n1,n2:n1+n2,num1,num2)\n",
        "\n",
        "for i in results:\n",
        "  print(i)"
      ],
      "metadata": {
        "colab": {
          "base_uri": "https://localhost:8080/"
        },
        "id": "xqMAMok-ptJH",
        "outputId": "b1b980e2-3fa3-4b98-b183-b3fa8066754e"
      },
      "execution_count": 114,
      "outputs": [
        {
          "output_type": "stream",
          "name": "stdout",
          "text": [
            "9\n",
            "11\n",
            "13\n"
          ]
        }
      ]
    },
    {
      "cell_type": "code",
      "source": [
        "# MODE R => READING MODE\n",
        "# ENCODE => CONVERT INTO READIBALE CHAR\n",
        "f=open('/content/sample_data/test.txt', mode='r',encoding='utf-8')\n",
        "\n",
        "print(set(f))"
      ],
      "metadata": {
        "colab": {
          "base_uri": "https://localhost:8080/"
        },
        "id": "m4369rVLq7Mo",
        "outputId": "68dfab34-c9d0-4dce-b700-8e21aba4c1e2"
      },
      "execution_count": 121,
      "outputs": [
        {
          "output_type": "stream",
          "name": "stdout",
          "text": [
            "{'WE ARE WOKING WITH PYTHON FILE\\n', 'HELLO GNIT\\n'}\n"
          ]
        }
      ]
    },
    {
      "cell_type": "code",
      "source": [
        "#POW()\n",
        "print(pow(2,2)) #x**y  2^2\n",
        "print(pow(-2,2))  #-2^2\n",
        "print(pow(2,-2))  #2^-2\n",
        "print(pow(-2,-2)) -2^-2\n"
      ],
      "metadata": {
        "colab": {
          "base_uri": "https://localhost:8080/"
        },
        "id": "B96qFdV4sZYK",
        "outputId": "a5d9937b-7f79-4878-8336-cdafb20dde3f"
      },
      "execution_count": 123,
      "outputs": [
        {
          "output_type": "stream",
          "name": "stdout",
          "text": [
            "4\n",
            "4\n",
            "0.25\n",
            "0.25\n"
          ]
        }
      ]
    },
    {
      "cell_type": "code",
      "source": [
        "x=7\n",
        "y=2\n",
        "z=5\n",
        "print(pow(x,y,z)) #(x**y)%z =>(7^2)%5=>49%5=>4"
      ],
      "metadata": {
        "colab": {
          "base_uri": "https://localhost:8080/"
        },
        "id": "mg9lemC3s8Zn",
        "outputId": "ff9befa3-5936-4e28-8dad-2036bd429c5f"
      },
      "execution_count": 124,
      "outputs": [
        {
          "output_type": "stream",
          "name": "stdout",
          "text": [
            "4\n"
          ]
        }
      ]
    },
    {
      "cell_type": "code",
      "source": [
        "print(round(10))\n",
        "print(round(10.4))\n",
        "print(round(10.49))\n",
        "print(round(10.5))\n",
        "print(round(10.51))\n",
        "print(round(10.6))\n"
      ],
      "metadata": {
        "colab": {
          "base_uri": "https://localhost:8080/"
        },
        "id": "dQk4NE9LuZYL",
        "outputId": "15ddfd14-8640-4d2d-ddad-482ccb07f9b3"
      },
      "execution_count": 127,
      "outputs": [
        {
          "output_type": "stream",
          "name": "stdout",
          "text": [
            "10\n",
            "10\n",
            "10\n",
            "10\n",
            "11\n",
            "11\n"
          ]
        }
      ]
    },
    {
      "cell_type": "code",
      "source": [
        "print(round(.26654579765667,2))\n",
        "print(round(.26654579765667,4))"
      ],
      "metadata": {
        "colab": {
          "base_uri": "https://localhost:8080/"
        },
        "id": "_rkxnbdnvYOh",
        "outputId": "27cf5300-da56-4ca7-91f4-70fc0ef6c348"
      },
      "execution_count": 128,
      "outputs": [
        {
          "output_type": "stream",
          "name": "stdout",
          "text": [
            "0.27\n",
            "0.2665\n"
          ]
        }
      ]
    },
    {
      "cell_type": "code",
      "source": [
        "x=1.0\n",
        "y=2.0\n",
        "z=3.0\n",
        "\n",
        "print((x+y)==z)\n",
        "\n",
        "\n",
        "\n",
        "a=2.675    #2.674999999999999999 this is the binary number  =>2.6749  \n",
        "b=2.68\n",
        "\n",
        "print(round(a,2))\n",
        "print(round(a)==b)"
      ],
      "metadata": {
        "colab": {
          "base_uri": "https://localhost:8080/"
        },
        "id": "qxq3ZaRHvunc",
        "outputId": "b17a1f94-f2f2-4902-dd70-a35a2e939c11"
      },
      "execution_count": 131,
      "outputs": [
        {
          "output_type": "stream",
          "name": "stdout",
          "text": [
            "True\n",
            "2.67\n",
            "False\n"
          ]
        }
      ]
    },
    {
      "cell_type": "code",
      "source": [
        "from decimal import Decimal\n",
        "num=2.675\n",
        "print(round(num,2))\n",
        "\n",
        "num=Decimal('2.675')# =>2.675\n",
        "print(round(num,2))\n"
      ],
      "metadata": {
        "colab": {
          "base_uri": "https://localhost:8080/"
        },
        "id": "W6gudofnxRnY",
        "outputId": "a17e1cd1-4331-4d82-8177-d09d21e3cf6e"
      },
      "execution_count": 132,
      "outputs": [
        {
          "output_type": "stream",
          "name": "stdout",
          "text": [
            "2.67\n",
            "2.68\n"
          ]
        }
      ]
    },
    {
      "cell_type": "code",
      "source": [
        "#Slice(start,stop,step)\n",
        "str='Debasish'\n",
        "#Slice(0,2,1) =>slice(3)\n",
        "sliceObj=slice(3)\n",
        "print(str[sliceObj])\n",
        "\n",
        "# D e b a s i s h\n",
        "# 0 1 2 3 4 5 6 7\n",
        "                 \n",
        "sliceobject=slice(1,6,2)  #1 is Start point, 6 is end point 2 is step\n",
        "print(str[sliceobject])\n"
      ],
      "metadata": {
        "colab": {
          "base_uri": "https://localhost:8080/"
        },
        "id": "WqgiuUAgyjeq",
        "outputId": "93a4a1f8-3bf6-4a0d-c99a-c9260da56d38"
      },
      "execution_count": 135,
      "outputs": [
        {
          "output_type": "stream",
          "name": "stdout",
          "text": [
            "Deb\n",
            "eai\n"
          ]
        }
      ]
    },
    {
      "cell_type": "code",
      "source": [
        "str='Debasish'\n",
        "#-8-7-6-5-4-3-2-1\n",
        "# D e b a s i s h\n",
        "# 0 1 2 3 4 5 6 7\n",
        "\n",
        "slobj=slice(-1,-4,-1)\n",
        "print(str[slobj])"
      ],
      "metadata": {
        "colab": {
          "base_uri": "https://localhost:8080/"
        },
        "id": "3X9LRGo2zStV",
        "outputId": "eab7b262-32df-4485-c2e8-b0a6e795c189"
      },
      "execution_count": 136,
      "outputs": [
        {
          "output_type": "stream",
          "name": "stdout",
          "text": [
            "hsi\n"
          ]
        }
      ]
    },
    {
      "cell_type": "code",
      "source": [
        "l1=['P','Y','T','H','O','N']\n",
        "SLOBJ=slice(3)\n",
        "print(l1[SLOBJ]);\n",
        "slobj=slice(1,5,2)\n",
        "print(l1[slobj]);\n",
        "print(l1[0:3]);"
      ],
      "metadata": {
        "colab": {
          "base_uri": "https://localhost:8080/"
        },
        "id": "_O8kqQEj1Z5_",
        "outputId": "ce7407a3-e1fe-4824-fab4-9672978eac78"
      },
      "execution_count": 139,
      "outputs": [
        {
          "output_type": "stream",
          "name": "stdout",
          "text": [
            "['P', 'Y', 'T']\n",
            "['Y', 'H']\n",
            "['P', 'Y', 'T']\n"
          ]
        }
      ]
    },
    {
      "cell_type": "code",
      "source": [
        "#sort\n",
        "li=['e','a','u','o','i']\n",
        "print(sorted(li))\n",
        "li='python'\n",
        "print(sorted(li))\n",
        "print(sorted(li,reverse=True))"
      ],
      "metadata": {
        "colab": {
          "base_uri": "https://localhost:8080/"
        },
        "id": "oYdmXoFm2T3P",
        "outputId": "a455fcc2-c948-4d9b-b90f-084125bcec5b"
      },
      "execution_count": 142,
      "outputs": [
        {
          "output_type": "stream",
          "name": "stdout",
          "text": [
            "['a', 'e', 'i', 'o', 'u']\n",
            "['h', 'n', 'o', 'p', 't', 'y']\n",
            "['y', 't', 'p', 'o', 'n', 'h']\n"
          ]
        }
      ]
    },
    {
      "cell_type": "code",
      "source": [
        "li=('e','a','u','o','i')\n",
        "print(sorted(li))\n",
        "li={'e','a','u','o','i'}\n",
        "print(sorted(li))\n",
        "\n",
        "li={'e':1,'a':2,'u':3,'o':4,'i':5}\n",
        "print(sorted(li))"
      ],
      "metadata": {
        "colab": {
          "base_uri": "https://localhost:8080/"
        },
        "id": "GZg1zIBw3h_A",
        "outputId": "3d38b172-697b-4f84-ac6a-d0dcaa01f878"
      },
      "execution_count": 143,
      "outputs": [
        {
          "output_type": "stream",
          "name": "stdout",
          "text": [
            "['a', 'e', 'i', 'o', 'u']\n",
            "['a', 'e', 'i', 'o', 'u']\n",
            "['a', 'e', 'i', 'o', 'u']\n"
          ]
        }
      ]
    },
    {
      "cell_type": "code",
      "source": [
        "l1=[(2,2),(3,4),(4,1),(1,3)]\n",
        "\n",
        "def take_second(elm):\n",
        "  return elm[1]\n",
        "\n",
        "def take_first(elm):\n",
        "  return elm[0]  \n",
        "\n",
        "sorted_list_by_second=sorted(l1,key=take_second)\n",
        "sorted_list_by_first=sorted(l1,key=take_first)\n",
        "\n",
        "print(l1)\n",
        "print(sorted_list_by_first)\n",
        "\n",
        "print(sorted_list_by_second)\n",
        "\n",
        "\n"
      ],
      "metadata": {
        "colab": {
          "base_uri": "https://localhost:8080/"
        },
        "id": "1VbTyJ3a306p",
        "outputId": "94c121d3-2985-42e4-977c-46215f06bf03"
      },
      "execution_count": 145,
      "outputs": [
        {
          "output_type": "stream",
          "name": "stdout",
          "text": [
            "[(2, 2), (3, 4), (4, 1), (1, 3)]\n",
            "[(1, 3), (2, 2), (3, 4), (4, 1)]\n",
            "[(4, 1), (2, 2), (1, 3), (3, 4)]\n"
          ]
        }
      ]
    }
  ]
}