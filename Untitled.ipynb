{
 "cells": [
  {
   "cell_type": "code",
   "execution_count": 1,
   "id": "673a1b72",
   "metadata": {},
   "outputs": [
    {
     "data": {
      "text/plain": [
       "'1234'"
      ]
     },
     "execution_count": 1,
     "metadata": {},
     "output_type": "execute_result"
    }
   ],
   "source": [
    "str(1234)"
   ]
  },
  {
   "cell_type": "code",
   "execution_count": 2,
   "id": "dbe5734a",
   "metadata": {},
   "outputs": [
    {
     "data": {
      "text/plain": [
       "'12334'"
      ]
     },
     "execution_count": 2,
     "metadata": {},
     "output_type": "execute_result"
    }
   ],
   "source": [
    "str(12334)"
   ]
  },
  {
   "cell_type": "code",
   "execution_count": 3,
   "id": "26cbfc1d",
   "metadata": {},
   "outputs": [
    {
     "name": "stdout",
     "output_type": "stream",
     "text": [
      "10\n"
     ]
    }
   ],
   "source": [
    "r=str(10)\n",
    "print(r)"
   ]
  },
  {
   "cell_type": "code",
   "execution_count": 7,
   "id": "19034371",
   "metadata": {},
   "outputs": [
    {
     "name": "stdout",
     "output_type": "stream",
     "text": [
      "b'Pyth\\xc3\\x96n'\n",
      "value: Pythn\n"
     ]
    }
   ],
   "source": [
    "b=bytes('PythÖn',encoding='utf-8')\n",
    "print(b)\n",
    "print('value:',str(b,encoding='ascii',errors='ignore'))"
   ]
  },
  {
   "cell_type": "code",
   "execution_count": null,
   "id": "c0f5bb46",
   "metadata": {},
   "outputs": [],
   "source": []
  }
 ],
 "metadata": {
  "kernelspec": {
   "display_name": "Python 3 (ipykernel)",
   "language": "python",
   "name": "python3"
  },
  "language_info": {
   "codemirror_mode": {
    "name": "ipython",
    "version": 3
   },
   "file_extension": ".py",
   "mimetype": "text/x-python",
   "name": "python",
   "nbconvert_exporter": "python",
   "pygments_lexer": "ipython3",
   "version": "3.9.13"
  }
 },
 "nbformat": 4,
 "nbformat_minor": 5
}
