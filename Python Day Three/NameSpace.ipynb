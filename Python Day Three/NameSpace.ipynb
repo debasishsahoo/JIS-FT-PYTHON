{
  "nbformat": 4,
  "nbformat_minor": 0,
  "metadata": {
    "colab": {
      "provenance": []
    },
    "kernelspec": {
      "name": "python3",
      "display_name": "Python 3"
    },
    "language_info": {
      "name": "python"
    }
  },
  "cells": [
    {
      "cell_type": "code",
      "execution_count": null,
      "metadata": {
        "colab": {
          "base_uri": "https://localhost:8080/"
        },
        "id": "LTtib2p69IOl",
        "outputId": "52770903-8b6d-4c5c-81e1-a6446fe6776c"
      },
      "outputs": [
        {
          "output_type": "stream",
          "name": "stdout",
          "text": [
            "id(9)= 9793344\n",
            "id(a)= 9793344\n"
          ]
        }
      ],
      "source": [
        "a=9;\n",
        "# id function is return the the memory address of a value or variable\n",
        "print('id(9)=',id(9))\n",
        "print('id(a)=',id(a))"
      ]
    },
    {
      "cell_type": "code",
      "source": [
        "a=2\n",
        "print('id(2)=',id(a))\n",
        "a+=1\n",
        "print('id(a)=',id(a))\n",
        "print('id(3)=',id(3))"
      ],
      "metadata": {
        "colab": {
          "base_uri": "https://localhost:8080/"
        },
        "id": "A2RJpST8Aht9",
        "outputId": "d545efd1-5eaf-4564-bbbc-24b0a150b8c7"
      },
      "execution_count": null,
      "outputs": [
        {
          "output_type": "stream",
          "name": "stdout",
          "text": [
            "id(2)= 9793120\n",
            "id(a)= 9793152\n",
            "id(3)= 9793152\n"
          ]
        }
      ]
    },
    {
      "cell_type": "code",
      "source": [
        "a=2  # Global Variable cause any one acess the variable in this file\n",
        "print(a)\n",
        "\n",
        "def fun():\n",
        "  b=3\n",
        "  b+=1\n",
        "  print(b) # local scoap of b valriable cause b declar under function fun() so its all access resticted to function fun() only\n",
        "\n",
        "fun()\n",
        "\n",
        "print(b)"
      ],
      "metadata": {
        "colab": {
          "base_uri": "https://localhost:8080/",
          "height": 241
        },
        "id": "DUzXpU54BDAo",
        "outputId": "64037e36-fd5e-4251-aee6-94e3149bd8d8"
      },
      "execution_count": 12,
      "outputs": [
        {
          "output_type": "stream",
          "name": "stdout",
          "text": [
            "2\n",
            "4\n"
          ]
        },
        {
          "output_type": "error",
          "ename": "NameError",
          "evalue": "ignored",
          "traceback": [
            "\u001b[0;31m---------------------------------------------------------------------------\u001b[0m",
            "\u001b[0;31mNameError\u001b[0m                                 Traceback (most recent call last)",
            "\u001b[0;32m<ipython-input-12-167c1518729c>\u001b[0m in \u001b[0;36m<module>\u001b[0;34m\u001b[0m\n\u001b[1;32m      9\u001b[0m \u001b[0mfun\u001b[0m\u001b[0;34m(\u001b[0m\u001b[0;34m)\u001b[0m\u001b[0;34m\u001b[0m\u001b[0;34m\u001b[0m\u001b[0m\n\u001b[1;32m     10\u001b[0m \u001b[0;34m\u001b[0m\u001b[0m\n\u001b[0;32m---> 11\u001b[0;31m \u001b[0mprint\u001b[0m\u001b[0;34m(\u001b[0m\u001b[0mb\u001b[0m\u001b[0;34m)\u001b[0m\u001b[0;34m\u001b[0m\u001b[0;34m\u001b[0m\u001b[0m\n\u001b[0m",
            "\u001b[0;31mNameError\u001b[0m: name 'b' is not defined"
          ]
        }
      ]
    },
    {
      "cell_type": "code",
      "source": [
        "print(a) # we can access a cause the Global scope to the a variable"
      ],
      "metadata": {
        "colab": {
          "base_uri": "https://localhost:8080/"
        },
        "id": "1lZRx_A-ChIh",
        "outputId": "4d5afad0-0a01-43e9-ebe1-90893dde5006"
      },
      "execution_count": 13,
      "outputs": [
        {
          "output_type": "stream",
          "name": "stdout",
          "text": [
            "2\n"
          ]
        }
      ]
    },
    {
      "cell_type": "code",
      "source": [
        "def outer_function():\n",
        "  print('Outer function invoke')\n",
        "  a=30     # variable a is under the scope of outer_function()\n",
        "  def inner_function():\n",
        "    print('Inner function invoke')\n",
        "    a=60   # variable a is under the scope of inner_function()\n",
        "    print('from inner function a=',a)\n",
        "  inner_function()\n",
        "  print('from outer function a=',a)\n",
        "\n",
        "\n",
        "a=90      # variable a is under the scope ofoutside if the function\n",
        "outer_function()\n",
        "print(\"from outside of the function a=\",a)"
      ],
      "metadata": {
        "colab": {
          "base_uri": "https://localhost:8080/"
        },
        "id": "saio6xGQSr1q",
        "outputId": "07973973-f4bf-474c-af64-e8244ba0e273"
      },
      "execution_count": 17,
      "outputs": [
        {
          "output_type": "stream",
          "name": "stdout",
          "text": [
            "Outer function invoke\n",
            "Inner function invoke\n",
            "from inner function a= 60\n",
            "from outer function a= 30\n",
            "from outside of the function a= 90\n"
          ]
        }
      ]
    },
    {
      "cell_type": "code",
      "source": [
        "def outer_function():\n",
        "  print('Outer function invoke')\n",
        "  global a;\n",
        "  a=30     \n",
        "  def inner_function():\n",
        "    print('Inner function invoke')\n",
        "    global a   \n",
        "    a=60\n",
        "    print('from inner function a=',a)\n",
        "  inner_function()\n",
        "  print('from outer function a=',a)\n",
        "\n",
        "a=90     \n",
        "outer_function()\n",
        "print(\"from outside of the function a=\",a)"
      ],
      "metadata": {
        "colab": {
          "base_uri": "https://localhost:8080/"
        },
        "id": "9I_71GvtU4yB",
        "outputId": "af656b5d-c032-4896-9ba4-20a0c8a6e06f"
      },
      "execution_count": 19,
      "outputs": [
        {
          "output_type": "stream",
          "name": "stdout",
          "text": [
            "Outer function invoke\n",
            "Inner function invoke\n",
            "from inner function a= 60\n",
            "from outer function a= 60\n",
            "from outside of the function a= 60\n"
          ]
        }
      ]
    }
  ]
}