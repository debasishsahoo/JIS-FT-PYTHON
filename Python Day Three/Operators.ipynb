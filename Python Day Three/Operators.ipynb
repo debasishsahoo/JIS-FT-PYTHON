{
  "nbformat": 4,
  "nbformat_minor": 0,
  "metadata": {
    "colab": {
      "provenance": []
    },
    "kernelspec": {
      "name": "python3",
      "display_name": "Python 3"
    },
    "language_info": {
      "name": "python"
    }
  },
  "cells": [
    {
      "cell_type": "markdown",
      "source": [
        "# Python Operators\n",
        "\n",
        "Python can be used like a calculator. Simply type in expressions to get them evaluated.\n",
        "\n",
        "What are operators in python?\n",
        "\n",
        "Operators are special symbols in Python that carry out arithmetic or logical computation. The value that the operator operates on is called the operand.\n",
        "\n",
        "For example:\n",
        "\n",
        ">6+3\n",
        "\n",
        "9\n",
        "Here, + is the operator that performs addition. 6 and 3 are the operands and 9 is the output of the operation."
      ],
      "metadata": {
        "id": "s1WM5Wxscc09"
      }
    },
    {
      "cell_type": "code",
      "execution_count": null,
      "metadata": {
        "colab": {
          "base_uri": "https://localhost:8080/"
        },
        "id": "JsxLy0-Yb7cD",
        "outputId": "9eead58b-5d68-48e2-ec2c-00b86d81b5e5"
      },
      "outputs": [
        {
          "output_type": "execute_result",
          "data": {
            "text/plain": [
              "9"
            ]
          },
          "metadata": {},
          "execution_count": 1
        }
      ],
      "source": [
        "6+3"
      ]
    },
    {
      "cell_type": "markdown",
      "source": [
        "\n",
        "   # 1. Arithmatic Operators\n",
        "Arithmetic operators are used to perform mathematical operations like addition, subtraction, multiplication etc.\n",
        "\n",
        "<b>+, -, **, /, %, //, **** </b>"
      ],
      "metadata": {
        "id": "GAxZdvggc1I3"
      }
    },
    {
      "cell_type": "code",
      "source": [
        "print('Additaion:', 1+2)\n",
        "print('Substration:',2-1)\n",
        "print('Multiplction:',2*3)\n",
        "print('Division:',6/2)      # Result will come in int\n",
        "print('Division:',7/2)      # Result will come in float\n",
        "print('Division:',7//2)     # result will come in only int every time or with out floating point number\n",
        "print(\"Modulas:\",3%2)\n",
        "print(\"Modulas:\",4%2)\n",
        "print(\"Exponential:\",3**2) # 3*3=9\n",
        "print(\"Exponential:\",3**3) # 3*3*3=27\n",
        "\n"
      ],
      "metadata": {
        "colab": {
          "base_uri": "https://localhost:8080/"
        },
        "id": "Ev0RiouLhjOw",
        "outputId": "7b0869d3-78ef-48ea-964c-78b7886edab2"
      },
      "execution_count": null,
      "outputs": [
        {
          "output_type": "stream",
          "name": "stdout",
          "text": [
            "Additaion: 3\n",
            "Substration: 1\n",
            "Multiplction: 6\n",
            "Division: 3.0\n",
            "Division: 3.5\n",
            "Division: 3\n",
            "Modulas: 1\n",
            "Modulas: 0\n",
            "Exponential: 9\n",
            "Exponential: 27\n"
          ]
        }
      ]
    },
    {
      "cell_type": "code",
      "source": [
        "22**600  # python3 is natively allows (nearly) infinite length integers while floationg point number are double preision number"
      ],
      "metadata": {
        "colab": {
          "base_uri": "https://localhost:8080/"
        },
        "id": "ff7cls_NjsGW",
        "outputId": "af5c46c6-b62e-4403-bbcb-e4e95faf5255"
      },
      "execution_count": null,
      "outputs": [
        {
          "output_type": "execute_result",
          "data": {
            "text/plain": [
              "28418980453852622603883856494709731311218158362293224700445543940796643776911788129508577246309929258069598467896008287596053863082109746801947722280783720032649818198464452375358348619120021135797251857019557032565638659667745421115194468559021541269027438746788486392649581405327516658718317011453858465218779880972140612551504149701082164179367484198570734230003528355826545644223794779911723917115845213739921327820409005460708547942445234906498880588411276755120002108963510955276534630522965966177951626038063994937181228938844252668098515385045718428663547788122173798704717510979319749834083419004355222012043715855123615249682039587844431246269017612728291710718821388840627277407189863509789929339102406655115786899696829902032282666983426897111750208839152830573688512831984602085360572485861376"
            ]
          },
          "metadata": {},
          "execution_count": 11
        }
      ]
    },
    {
      "cell_type": "code",
      "source": [
        "22.0**600"
      ],
      "metadata": {
        "colab": {
          "base_uri": "https://localhost:8080/",
          "height": 169
        },
        "id": "jqG_wdj6kJBg",
        "outputId": "077b6a99-57e7-49d6-ea1f-e7bf80807289"
      },
      "execution_count": null,
      "outputs": [
        {
          "output_type": "error",
          "ename": "OverflowError",
          "evalue": "ignored",
          "traceback": [
            "\u001b[0;31m---------------------------------------------------------------------------\u001b[0m",
            "\u001b[0;31mOverflowError\u001b[0m                             Traceback (most recent call last)",
            "\u001b[0;32m<ipython-input-12-bfc5aa62a0ff>\u001b[0m in \u001b[0;36m<module>\u001b[0;34m\u001b[0m\n\u001b[0;32m----> 1\u001b[0;31m \u001b[0;36m22.0\u001b[0m\u001b[0;34m**\u001b[0m\u001b[0;36m600\u001b[0m\u001b[0;34m\u001b[0m\u001b[0;34m\u001b[0m\u001b[0m\n\u001b[0m",
            "\u001b[0;31mOverflowError\u001b[0m: (34, 'Numerical result out of range')"
          ]
        }
      ]
    },
    {
      "cell_type": "markdown",
      "source": [
        "# 2. Comparison/Relational operators\n",
        "\n",
        "Comparison operators are used to compare values. It either returns True or False according to the condition.\n",
        "\n",
        "\n",
        "** >, <, ==, !=, >=, <= **"
      ],
      "metadata": {
        "id": "5GVAINYpfugC"
      }
    },
    {
      "cell_type": "code",
      "source": [
        "print(6>3) # true because 6 is greater then 3\n",
        "print(6>=3) # true because 6 is greater then 3\n",
        "print(6>=6) # true because 6 is equal to 6\n",
        "\n",
        "print(6<3) # false because 6 is greater then 3\n",
        "print(6<=3) # false because 6 is greater then 3\n",
        "print(6>=6) # true because 6 is equal to 6\n",
        "\n",
        "# == comapare the between values and === comapare the between values and datatype\n",
        "\n",
        "\n",
        "print(6==6);  # true because 6 is equal to 6\n",
        "print(6!=3);  # true because 6 is not equal to 3"
      ],
      "metadata": {
        "colab": {
          "base_uri": "https://localhost:8080/"
        },
        "id": "A2bq7yEJkgca",
        "outputId": "48dae078-8829-45b2-8906-844442c454c6"
      },
      "execution_count": null,
      "outputs": [
        {
          "output_type": "stream",
          "name": "stdout",
          "text": [
            "True\n",
            "True\n",
            "True\n",
            "False\n",
            "False\n",
            "True\n",
            "True\n",
            "True\n"
          ]
        }
      ]
    },
    {
      "cell_type": "code",
      "source": [
        "a='Apple'\n",
        "b='Banna'\n",
        "c='avocado'\n",
        "d='orange'\n",
        "e='potato'\n",
        "print(len(a)==len(b)) \n",
        "print(len(a)!=len(b)) "
      ],
      "metadata": {
        "colab": {
          "base_uri": "https://localhost:8080/"
        },
        "id": "3f4mBjifmngh",
        "outputId": "a4d612b1-ea3f-41a4-8c53-92e96ab894d1"
      },
      "execution_count": null,
      "outputs": [
        {
          "output_type": "stream",
          "name": "stdout",
          "text": [
            "True\n",
            "False\n"
          ]
        }
      ]
    },
    {
      "cell_type": "code",
      "source": [
        "z=3   # is Assignment a value to Z\n",
        "z==3  # checking that z equal to 3"
      ],
      "metadata": {
        "colab": {
          "base_uri": "https://localhost:8080/"
        },
        "id": "TVP-aggAnKDm",
        "outputId": "ab1264a2-9edc-4b61-b764-ccabc315c7f0"
      },
      "execution_count": null,
      "outputs": [
        {
          "output_type": "execute_result",
          "data": {
            "text/plain": [
              "True"
            ]
          },
          "metadata": {},
          "execution_count": 20
        }
      ]
    },
    {
      "cell_type": "code",
      "source": [
        "# comparisons van be chained (thats only in python  not in C/C++/JAVA)\n",
        "\n",
        "0.5 < z <= 1"
      ],
      "metadata": {
        "colab": {
          "base_uri": "https://localhost:8080/"
        },
        "id": "YhjwX4TVndIX",
        "outputId": "ef3c607b-41be-4216-dffd-bbfe2afb4919"
      },
      "execution_count": null,
      "outputs": [
        {
          "output_type": "execute_result",
          "data": {
            "text/plain": [
              "False"
            ]
          },
          "metadata": {},
          "execution_count": 22
        }
      ]
    },
    {
      "cell_type": "markdown",
      "source": [
        "# 3. Logical/Boolean operators\n",
        "Logical operators are the and, or, not operators."
      ],
      "metadata": {
        "id": "0At6JYU9gCo1"
      }
    },
    {
      "cell_type": "code",
      "source": [
        "# in and operator All the operands need to return true\n",
        "\n",
        "print(True == True)    ## return true cause both are true\n",
        "print(True == False)   ## return false cause one of them is False\n",
        "print(False == False)  ## return true cause both are False\n",
        "\n",
        "print(True and True)\n",
        "print(True and False)\n",
        "print(True and True and False)"
      ],
      "metadata": {
        "colab": {
          "base_uri": "https://localhost:8080/"
        },
        "id": "cfEbFdQppFBa",
        "outputId": "b803ee00-1a22-4508-b4b7-f609b801f541"
      },
      "execution_count": null,
      "outputs": [
        {
          "output_type": "stream",
          "name": "stdout",
          "text": [
            "True\n",
            "False\n",
            "True\n",
            "True\n",
            "False\n",
            "False\n"
          ]
        }
      ]
    },
    {
      "cell_type": "code",
      "source": [
        "print(1 is 1)  # 'is' means '=='\n",
        "print(1 is 2)\n",
        "print(1 is not 2) # 'is not' means '!='\n",
        "print('a' in 'Debasish') # if the value is found in expression then return true else false \n",
        "print('c' in 'Debasish')\n",
        "print('A' in 'Debasish')# case sensetive\n",
        "print('python' in 'i am woking with a software it is made with python')\n",
        "\n",
        "print(27 is 3**3)\n",
        "print(28 is 3**3)"
      ],
      "metadata": {
        "colab": {
          "base_uri": "https://localhost:8080/"
        },
        "id": "_HrsdNpDqu5d",
        "outputId": "ee4eaab3-9bde-4812-fbea-0c930d6ecad0"
      },
      "execution_count": null,
      "outputs": [
        {
          "output_type": "stream",
          "name": "stdout",
          "text": [
            "True\n",
            "False\n",
            "True\n",
            "True\n",
            "False\n",
            "False\n",
            "True\n",
            "True\n",
            "False\n"
          ]
        },
        {
          "output_type": "stream",
          "name": "stderr",
          "text": [
            "<>:1: SyntaxWarning: \"is\" with a literal. Did you mean \"==\"?\n",
            "<>:2: SyntaxWarning: \"is\" with a literal. Did you mean \"==\"?\n",
            "<>:3: SyntaxWarning: \"is not\" with a literal. Did you mean \"!=\"?\n",
            "<>:9: SyntaxWarning: \"is\" with a literal. Did you mean \"==\"?\n",
            "<>:10: SyntaxWarning: \"is\" with a literal. Did you mean \"==\"?\n",
            "<>:1: SyntaxWarning: \"is\" with a literal. Did you mean \"==\"?\n",
            "<>:2: SyntaxWarning: \"is\" with a literal. Did you mean \"==\"?\n",
            "<>:3: SyntaxWarning: \"is not\" with a literal. Did you mean \"!=\"?\n",
            "<>:9: SyntaxWarning: \"is\" with a literal. Did you mean \"==\"?\n",
            "<>:10: SyntaxWarning: \"is\" with a literal. Did you mean \"==\"?\n",
            "<ipython-input-34-0e10b85f0371>:1: SyntaxWarning: \"is\" with a literal. Did you mean \"==\"?\n",
            "  print(1 is 1)  # 'is' means '=='\n",
            "<ipython-input-34-0e10b85f0371>:2: SyntaxWarning: \"is\" with a literal. Did you mean \"==\"?\n",
            "  print(1 is 2)\n",
            "<ipython-input-34-0e10b85f0371>:3: SyntaxWarning: \"is not\" with a literal. Did you mean \"!=\"?\n",
            "  print(1 is not 2) # 'is not' means '!='\n",
            "<ipython-input-34-0e10b85f0371>:9: SyntaxWarning: \"is\" with a literal. Did you mean \"==\"?\n",
            "  print(27 is 3**3)\n",
            "<ipython-input-34-0e10b85f0371>:10: SyntaxWarning: \"is\" with a literal. Did you mean \"==\"?\n",
            "  print(28 is 3**3)\n"
          ]
        }
      ]
    },
    {
      "cell_type": "code",
      "source": [
        "print(6>3 and 5>3) #True\n",
        "print(6<3 and 5<3) #False\n",
        "print(6>3 and 5<3) #False\n",
        "\n",
        "\n",
        "\n",
        "print(6>3 or 5>3) #True\n",
        "print(6<3 or 5<3) #False\n",
        "print(6>3 or 5<3) #True\n",
        "print(5<3 or 6>3) #True\n",
        "\n",
        "print(not 6>3) # not True\n",
        "print(not True)\n",
        "print(not False)\n",
        "print(not not True) # not False => True\n",
        "print(not not False) # not True => Flase\n",
        "\n",
        "\n",
        "\n",
        "\n",
        "\n",
        "\n"
      ],
      "metadata": {
        "colab": {
          "base_uri": "https://localhost:8080/"
        },
        "id": "pzRIa4NPtCys",
        "outputId": "65d6dc9d-26bf-4733-9a4c-157f6beb603a"
      },
      "execution_count": null,
      "outputs": [
        {
          "output_type": "stream",
          "name": "stdout",
          "text": [
            "True\n",
            "False\n",
            "False\n",
            "True\n",
            "False\n",
            "True\n",
            "True\n",
            "False\n",
            "False\n",
            "True\n",
            "True\n",
            "False\n"
          ]
        }
      ]
    },
    {
      "cell_type": "code",
      "source": [
        "True and (not(not False)) or (True and (not True))\n",
        "# True and (not(True)) or(True and (False))\n",
        "# True and False or True and False\n",
        "# False or False\n",
        "#False"
      ],
      "metadata": {
        "colab": {
          "base_uri": "https://localhost:8080/"
        },
        "id": "XKuHODBKvUNt",
        "outputId": "a3e96c11-8a73-46b8-b57d-c32b58443b43"
      },
      "execution_count": null,
      "outputs": [
        {
          "output_type": "execute_result",
          "data": {
            "text/plain": [
              "False"
            ]
          },
          "metadata": {},
          "execution_count": 36
        }
      ]
    },
    {
      "cell_type": "markdown",
      "source": [
        "# 4. Bitwise operators\n",
        "Bitwise operators act on operands as if they were string of binary digits. It operates bit by bit, hence the name.\n",
        "\n",
        "For example: **2 is 10** in binary and **7 is 111**.\n",
        "\n",
        "In the table below: Let x = 10 (0000 1010 in binary) and y = 4 (0000 0100 in binary)"
      ],
      "metadata": {
        "id": "jQ7F26kjgMEW"
      }
    },
    {
      "cell_type": "code",
      "source": [
        "# Bitwise AND(&)        AND != and \n",
        "a=2 # binary: 0010\n",
        "b=3 # binary: 0011\n",
        "# & = AND\n",
        "print('a & b=',a&b)\n",
        "# the & operator compare each bit and set it to 1 if both bit are 1 ,else it set 0\n",
        "    #0010\n",
        "    #0011\n",
        "    #-----\n",
        "    #0010 # is decmial number is 2      \n"
      ],
      "metadata": {
        "colab": {
          "base_uri": "https://localhost:8080/"
        },
        "id": "2BtEhKAOw3PV",
        "outputId": "1ad54df2-cb57-4b71-c3e0-a55ba3e635d4"
      },
      "execution_count": null,
      "outputs": [
        {
          "output_type": "stream",
          "name": "stdout",
          "text": [
            "a & b= 2\n"
          ]
        }
      ]
    },
    {
      "cell_type": "code",
      "source": [
        "# Bitwise OR(|)        OR != or \n",
        "a=2 # binary: 0010\n",
        "b=3 # binary: 0011\n",
        "# | = OR\n",
        "print('a | b=',a|b)\n",
        "# the | operator compare each bit and set it to 1 if any bit is 1 ,else it set 0\n",
        "    #0010\n",
        "    #0011\n",
        "    #-----\n",
        "    #0011 # is decmial number is 3  "
      ],
      "metadata": {
        "colab": {
          "base_uri": "https://localhost:8080/"
        },
        "id": "EHwATnAxy29b",
        "outputId": "ee751acf-40de-4bfc-c412-c7f8284a211c"
      },
      "execution_count": null,
      "outputs": [
        {
          "output_type": "stream",
          "name": "stdout",
          "text": [
            "a | b= 3\n"
          ]
        }
      ]
    },
    {
      "cell_type": "code",
      "source": [
        "# Bitwise XOR(^)     \n",
        "a=2 # binary: 0010\n",
        "b=3 # binary: 0011\n",
        "# ^ = XOR\n",
        "print('a ^ b=',a^b)\n",
        "# the ^ operator compare each bit and set it to 1 if only one is 1 otherwise if both bit is 1 the set 0 and if both bit 0 then 0 also\n",
        "    #0010\n",
        "    #0011\n",
        "    #-----\n",
        "    #0001 # is decmial number is 1  \n",
        "\n",
        "# TRUE TRUE  => FALSE\n",
        "# FALSE FALSE => FALSE\n",
        "# TRUE FALSE => TRUE\n",
        "# FALSE TRUE => TRUE\n"
      ],
      "metadata": {
        "colab": {
          "base_uri": "https://localhost:8080/"
        },
        "id": "17dAOOkEzjyI",
        "outputId": "45eab1bd-8b35-4eab-c076-e67e5a6b76f7"
      },
      "execution_count": null,
      "outputs": [
        {
          "output_type": "stream",
          "name": "stdout",
          "text": [
            "a ^ b= 1\n"
          ]
        }
      ]
    },
    {
      "cell_type": "code",
      "source": [
        "# Bitwise NOT(~)        NOT != not \n",
        "a=2 # binary: 0010\n",
        "\n",
        "# ~ = NOT\n",
        "print('~a=',~a)\n",
        "# the ~ operator is invert every bit that means 1 become 0 and 0 becomes 1\n",
        "    #0010\n",
        "    #-----\n",
        "    #1101   # is decmial number is -3  "
      ],
      "metadata": {
        "colab": {
          "base_uri": "https://localhost:8080/"
        },
        "id": "CKitbsQq03aJ",
        "outputId": "d1c33c30-e1e7-43cc-a18d-26e47afcf852"
      },
      "execution_count": null,
      "outputs": [
        {
          "output_type": "stream",
          "name": "stdout",
          "text": [
            "~a= -3\n"
          ]
        }
      ]
    },
    {
      "cell_type": "code",
      "source": [
        "# << Zero file left shift\n",
        "a=3 # binary: 0011\n",
        "print(a<<2)\n",
        "print(a<<3)\n",
        "print(a<<5)\n",
        "\n",
        "# the << operator insert the specified number of 0's( in our case 2) from the rigth and let the some amount of leftmost bit fall of\n",
        "\n",
        "# 0011 << 1100 (we are just push two 0 from the right)\n",
        "# 0011 << 1000 (we are just push three 0 from the right)\n",
        "\n",
        "\n",
        "# 0000000000000011 << 0000000000001100  \n",
        "# 0000000000000011 << 0000000000011000 \n",
        "# 0000000000000011 << 0000000001100000\n",
        "\n",
        "\n",
        "\n"
      ],
      "metadata": {
        "colab": {
          "base_uri": "https://localhost:8080/"
        },
        "id": "0ao_Md2112PA",
        "outputId": "7e42b5d9-b153-4422-95ed-205598a5f49f"
      },
      "execution_count": null,
      "outputs": [
        {
          "output_type": "stream",
          "name": "stdout",
          "text": [
            "12\n",
            "24\n",
            "96\n"
          ]
        }
      ]
    },
    {
      "cell_type": "code",
      "source": [
        "# >> Zero file right shift\n",
        "a=8 # binary: 1000\n",
        "print(a>>2)\n",
        "print(a>>3)\n",
        "print(a>>5)\n",
        "\n",
        "# the >> operator move each bit the specified number of times to the right.\n",
        "# emplty space at the left are filled with 0\n",
        "\n",
        "# 1000 << 0010 (we are just push two 0 from the left)\n",
        "# 1000 << 0001 (we are just push three 0 from the left)\n",
        "\n",
        "\n",
        "# 0000000000001000 << 0000000000000010  \n",
        "# 0000000000001000 << 0000000000000001 \n",
        "# 0000000000001000 << 0000000000000000"
      ],
      "metadata": {
        "colab": {
          "base_uri": "https://localhost:8080/"
        },
        "id": "bN9ax7yD4evh",
        "outputId": "463b53b6-f1bf-4cee-e44d-065293e56974"
      },
      "execution_count": null,
      "outputs": [
        {
          "output_type": "stream",
          "name": "stdout",
          "text": [
            "2\n",
            "1\n",
            "0\n"
          ]
        }
      ]
    },
    {
      "cell_type": "markdown",
      "source": [
        "# 5. Assignment operators\n",
        "Assignment operators are used in Python to assign values to variables.\n",
        "\n",
        "a = 5 is a simple assignment operator that assigns the value 5 on the right to the variable a on the left.\n",
        "\n",
        "There are various compound operators in Python like a += 5 that adds to the variable and later assigns the same. It is equivalent to a = a + 5.\n",
        "\n",
        "\n",
        "= \n",
        "\n",
        "+=\n",
        "\n",
        "-=\n",
        "\n",
        "*=\n",
        "\n",
        "/=\n",
        "\n",
        "%=\n",
        "\n",
        "//=\n",
        "\n",
        "**=\n",
        "\n",
        "&=\n",
        "\n",
        "|=\n",
        "\n",
        "^=\n",
        "\n",
        "'>>=\n",
        "\n",
        "<<=\n",
        "\n",
        "\n",
        "\n"
      ],
      "metadata": {
        "id": "8g9UMdA7gZpQ"
      }
    },
    {
      "cell_type": "code",
      "source": [
        "x=1    # Assigmnet of 1\n",
        "print(\"x is \",x)\n",
        "\n",
        "x+=2   # x=x+2\n",
        "print(\"x is \",x)\n",
        "\n",
        "x<<=2  # x=x*4\n",
        "print(\"x is \",x)\n",
        "\n",
        "x**=2  # x=x^2    x=12*12\n",
        "print(\"x is \",x)\n",
        "\n",
        "\n",
        "\n"
      ],
      "metadata": {
        "colab": {
          "base_uri": "https://localhost:8080/"
        },
        "id": "8vptm77X6BA6",
        "outputId": "f33165ce-6da3-464b-933f-566f604f6963"
      },
      "execution_count": null,
      "outputs": [
        {
          "output_type": "stream",
          "name": "stdout",
          "text": [
            "x is  1\n",
            "x is  3\n",
            "x is  12\n"
          ]
        }
      ]
    },
    {
      "cell_type": "markdown",
      "source": [
        "# 6. Special operators\n",
        "Python language offers some special types of operators like the identity operator or the membership operator. They are described below with examples."
      ],
      "metadata": {
        "id": "V7NqPGIggcuA"
      }
    },
    {
      "cell_type": "markdown",
      "source": [
        "## 1. Identity operators\n",
        "is and is not are the identity operators in Python. They are used to check if two values (or variables) are located on the same part of the memory. Two variables that are equal does not imply that they are identical.\n",
        "\n",
        "\n",
        ">  is , not is\n",
        "\n",
        "\n"
      ],
      "metadata": {
        "id": "zalEUk6SggJg"
      }
    },
    {
      "cell_type": "markdown",
      "source": [
        "## 2. Membership operators\n",
        "in and not in are the membership operators in Python. They are used to test whether a value or variable is found in a sequence (string, list, tuple, set and dictionary).\n",
        "\n",
        "> in , not in\n",
        "\n"
      ],
      "metadata": {
        "id": "uuVHxplTgnO5"
      }
    }
  ]
}