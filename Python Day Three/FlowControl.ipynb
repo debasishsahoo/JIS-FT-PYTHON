{
  "nbformat": 4,
  "nbformat_minor": 0,
  "metadata": {
    "colab": {
      "provenance": []
    },
    "kernelspec": {
      "name": "python3",
      "display_name": "Python 3"
    },
    "language_info": {
      "name": "python"
    }
  },
  "cells": [
    {
      "cell_type": "markdown",
      "source": [
        "# Conditinal Statement\n",
        "\n",
        "\n",
        "* if\n",
        "* if-else\n",
        "* if-elif-else\n",
        "* nested if_else "
      ],
      "metadata": {
        "id": "BEFtXzR1W1lF"
      }
    },
    {
      "cell_type": "code",
      "source": [
        "# if the condition is True then the if Block will Excute\n",
        "grade=70\n",
        "if grade >= 65:\n",
        " print('Pass')"
      ],
      "metadata": {
        "colab": {
          "base_uri": "https://localhost:8080/"
        },
        "id": "fhv4Tbk7XU9w",
        "outputId": "fa14e96e-a22a-4487-998e-7a2db1c75c75"
      },
      "execution_count": null,
      "outputs": [
        {
          "output_type": "stream",
          "name": "stdout",
          "text": [
            "Pass\n"
          ]
        }
      ]
    },
    {
      "cell_type": "code",
      "source": [
        "num=3\n",
        "if num%2==0:\n",
        "  print(num,'is Even Number');\n",
        "print('This block is Excute every time cause it is afetr the if block')"
      ],
      "metadata": {
        "colab": {
          "base_uri": "https://localhost:8080/"
        },
        "id": "WupqsdyNYm_J",
        "outputId": "375c1c94-c374-4df3-8713-07462ae941b8"
      },
      "execution_count": null,
      "outputs": [
        {
          "output_type": "stream",
          "name": "stdout",
          "text": [
            "This block is Excute every time cause it is afetr the if block\n"
          ]
        }
      ]
    },
    {
      "cell_type": "code",
      "source": [
        "num=-1\n",
        "if num>0:\n",
        "  print(num*num)\n",
        "print('Next line of Code')"
      ],
      "metadata": {
        "colab": {
          "base_uri": "https://localhost:8080/"
        },
        "id": "vtI6_z1PZL1u",
        "outputId": "0b38ceea-8e63-4a0b-849e-96650502224a"
      },
      "execution_count": null,
      "outputs": [
        {
          "output_type": "stream",
          "name": "stdout",
          "text": [
            "1\n",
            "Next line of Code\n"
          ]
        }
      ]
    },
    {
      "cell_type": "code",
      "source": [
        "a,b=6,9\n",
        "if(a<b):\n",
        "  print(\"a is less then b\")"
      ],
      "metadata": {
        "colab": {
          "base_uri": "https://localhost:8080/"
        },
        "id": "tXb2m7FsZxZx",
        "outputId": "6cf7dcfc-f929-469b-bede-785e4bca5ded"
      },
      "execution_count": null,
      "outputs": [
        {
          "output_type": "stream",
          "name": "stdout",
          "text": [
            "a is less then b\n"
          ]
        }
      ]
    },
    {
      "cell_type": "code",
      "source": [
        "if 5!=3*6:\n",
        "  print('uff.....')\n"
      ],
      "metadata": {
        "colab": {
          "base_uri": "https://localhost:8080/"
        },
        "id": "o07Ac0TAaFd4",
        "outputId": "09cde451-5dc0-4551-d5e4-5b3421c8444d"
      },
      "execution_count": null,
      "outputs": [
        {
          "output_type": "stream",
          "name": "stdout",
          "text": [
            "uff.....\n"
          ]
        }
      ]
    },
    {
      "cell_type": "code",
      "source": [
        "if 5==15/3:\n",
        "  print('Its Working.....')"
      ],
      "metadata": {
        "colab": {
          "base_uri": "https://localhost:8080/"
        },
        "id": "q6gar9B8aREr",
        "outputId": "ce341697-bfcb-4ebc-a427-91c44be3c6b2"
      },
      "execution_count": null,
      "outputs": [
        {
          "output_type": "stream",
          "name": "stdout",
          "text": [
            "Its Working.....\n"
          ]
        }
      ]
    },
    {
      "cell_type": "code",
      "source": [
        "if 5==15/3:print('Its Working.....')\n",
        "if 5!=3*6:print('uff.....')"
      ],
      "metadata": {
        "colab": {
          "base_uri": "https://localhost:8080/"
        },
        "id": "Bjvjtdu8afrV",
        "outputId": "7d6a007b-6e06-48cc-f0af-3c0c58905dc6"
      },
      "execution_count": null,
      "outputs": [
        {
          "output_type": "stream",
          "name": "stdout",
          "text": [
            "Its Working.....\n",
            "uff.....\n"
          ]
        }
      ]
    },
    {
      "cell_type": "code",
      "source": [
        "# if the condition is True then the if Block will Excute otherwise the else block will excute\n",
        "grade=60\n",
        "if grade >= 65:\n",
        "  print('Pass')\n",
        "else:            # it is default block\n",
        "  print('Fail')"
      ],
      "metadata": {
        "colab": {
          "base_uri": "https://localhost:8080/"
        },
        "id": "U-zjCBzQbE6J",
        "outputId": "30e2782a-edcd-4070-f167-cfd3a687dbc1"
      },
      "execution_count": null,
      "outputs": [
        {
          "output_type": "stream",
          "name": "stdout",
          "text": [
            "Fail\n"
          ]
        }
      ]
    },
    {
      "cell_type": "code",
      "source": [
        "num=3\n",
        "if num%2==0:\n",
        "  print(num,'is Even Number');\n",
        "else:\n",
        "  print(num, 'is odd number');\n",
        "print('This block is Excute every time cause it is afetr the if block')"
      ],
      "metadata": {
        "colab": {
          "base_uri": "https://localhost:8080/"
        },
        "id": "YsG0Jcfdbn5l",
        "outputId": "4f61855d-3c19-4c9b-cbcb-de4bfaf64d2f"
      },
      "execution_count": null,
      "outputs": [
        {
          "output_type": "stream",
          "name": "stdout",
          "text": [
            "3 is odd number\n",
            "This block is Excute every time cause it is afetr the if block\n"
          ]
        }
      ]
    },
    {
      "cell_type": "code",
      "source": [
        "a,b=6,9\n",
        "if(a<b):\n",
        "  print(\"a is less then b\")\n",
        "else:\n",
        "  print(\"a is grater then b\")\n",
        "  "
      ],
      "metadata": {
        "colab": {
          "base_uri": "https://localhost:8080/"
        },
        "id": "MwsvYl-4b1BP",
        "outputId": "14442967-a0e0-4400-b67a-baed2a1fdc93"
      },
      "execution_count": null,
      "outputs": [
        {
          "output_type": "stream",
          "name": "stdout",
          "text": [
            "a is less then b\n"
          ]
        }
      ]
    },
    {
      "cell_type": "code",
      "source": [
        "#Password Check\n",
        "def password_check(password):\n",
        "  if password==\"123456\":\n",
        "    print('Password is Correct.....')\n",
        "  else:\n",
        "    print('Incorrect Password.....')\n",
        "\n",
        "password_check(\"1234567\")\n",
        "password_check(\"123456\")\n",
        "password_check(\"1234\")\n",
        "password_check(\"abcdef\")\n"
      ],
      "metadata": {
        "colab": {
          "base_uri": "https://localhost:8080/"
        },
        "id": "WhL9uh9rcBNn",
        "outputId": "53ae32eb-9c79-4ee9-f723-3764ac7a0beb"
      },
      "execution_count": null,
      "outputs": [
        {
          "output_type": "stream",
          "name": "stdout",
          "text": [
            "Incorrect Password.....\n",
            "Password is Correct.....\n",
            "Incorrect Password.....\n",
            "Incorrect Password.....\n"
          ]
        }
      ]
    },
    {
      "cell_type": "code",
      "source": [
        "a=0\n",
        "print('A is Positive')if a>0 else print('A is negitive');"
      ],
      "metadata": {
        "colab": {
          "base_uri": "https://localhost:8080/"
        },
        "id": "GIp6i1VoeRIX",
        "outputId": "0f0292bb-0b86-4314-8939-e39350a44c14"
      },
      "execution_count": null,
      "outputs": [
        {
          "output_type": "stream",
          "name": "stdout",
          "text": [
            "A is negitive\n"
          ]
        }
      ]
    },
    {
      "cell_type": "code",
      "source": [
        "statement=False\n",
        "x=\"Statement is True\" if statement else \"Statement is Flase\"\n",
        "print(x)\n",
        "\n",
        "\n",
        "\n",
        "\n",
        "#statement=False\n",
        "#x=\"Statement is True\" if False else \"Statement is Flase\"\n",
        "#print(x)"
      ],
      "metadata": {
        "colab": {
          "base_uri": "https://localhost:8080/"
        },
        "id": "LQabddx8eyj6",
        "outputId": "f05782c2-fdc6-43a6-d265-00ab57b5c268"
      },
      "execution_count": null,
      "outputs": [
        {
          "output_type": "stream",
          "name": "stdout",
          "text": [
            "Statement is Flase\n"
          ]
        }
      ]
    },
    {
      "cell_type": "code",
      "source": [
        "a,b=6,5\n",
        "print('a is less then b') if(a<b) else print('a is grater then b')"
      ],
      "metadata": {
        "colab": {
          "base_uri": "https://localhost:8080/"
        },
        "id": "CMSFH6cOfUyO",
        "outputId": "b7e188f0-7f44-464a-b979-4eae42c8585f"
      },
      "execution_count": null,
      "outputs": [
        {
          "output_type": "stream",
          "name": "stdout",
          "text": [
            "a is grater then b\n"
          ]
        }
      ]
    },
    {
      "cell_type": "code",
      "source": [
        "num=96\n",
        "if num >0:print('Positive')\n",
        "else:print('Negative')"
      ],
      "metadata": {
        "id": "QdacxisDfpCn"
      },
      "execution_count": null,
      "outputs": []
    },
    {
      "cell_type": "code",
      "source": [
        "x=12\n",
        "if 10<x<12:\n",
        "  print(\"Hello\")\n",
        "else:\n",
        "  print(\"World\")\n"
      ],
      "metadata": {
        "colab": {
          "base_uri": "https://localhost:8080/"
        },
        "id": "J13FF4PTf5aB",
        "outputId": "a8859a93-4ee1-4936-b51e-4c589376923d"
      },
      "execution_count": null,
      "outputs": [
        {
          "output_type": "stream",
          "name": "stdout",
          "text": [
            "World\n"
          ]
        }
      ]
    },
    {
      "cell_type": "code",
      "source": [
        "a,b=5,5\n",
        "print(\"Value of a is:\",a)\n",
        "print(\"Value of b is:\",b)\n",
        "\n",
        "if(a>b):\n",
        "  print(\"a is less then b\")\n",
        "else:\n",
        "  print(\"b is less then a\")"
      ],
      "metadata": {
        "colab": {
          "base_uri": "https://localhost:8080/"
        },
        "id": "PGeXYHmIg4to",
        "outputId": "409685a2-ef89-4f5d-c37d-62a17e4ef5cd"
      },
      "execution_count": null,
      "outputs": [
        {
          "output_type": "stream",
          "name": "stdout",
          "text": [
            "Value of a is: 5\n",
            "Value of b is: 5\n",
            "b is less then a\n"
          ]
        }
      ]
    },
    {
      "cell_type": "code",
      "source": [
        "a,b=5,5\n",
        "print(\"Value of a is:\",a)\n",
        "print(\"Value of b is:\",b)\n",
        "\n",
        "if(a>b):\n",
        "  print(\"a is less then b\")\n",
        "elif (a<b):\n",
        "  print(\"a is, grater then b\")\n",
        "else:\n",
        "  print(\" a and b are equal\")"
      ],
      "metadata": {
        "colab": {
          "base_uri": "https://localhost:8080/"
        },
        "id": "-ntJwbLAh7c3",
        "outputId": "31b28cd4-28c1-42b7-bcea-0333765401d6"
      },
      "execution_count": null,
      "outputs": [
        {
          "output_type": "stream",
          "name": "stdout",
          "text": [
            "Value of a is: 5\n",
            "Value of b is: 5\n",
            " a and b are equal\n"
          ]
        }
      ]
    },
    {
      "cell_type": "code",
      "source": [
        "# HomeWork how to check the value is less then or equal to 100\n",
        "grade=int(input(\"Enter your Number:\"));\n",
        "\n",
        "if grade>=90:\n",
        "  print(\"A grade\")\n",
        "elif grade>=80:\n",
        "  print(\"B grade\")\n",
        "elif grade>=70:\n",
        "  print(\"C grade\")\n",
        "elif grade>=60:\n",
        "  print(\"D grade\")\n",
        "elif grade>=50:\n",
        "  print(\"E grade\")\n",
        "else:\n",
        "  print(\"Fail....\")"
      ],
      "metadata": {
        "colab": {
          "base_uri": "https://localhost:8080/"
        },
        "id": "7wj_AFP6ieWK",
        "outputId": "440c5a69-2214-4b86-d3a1-185378109e6b"
      },
      "execution_count": null,
      "outputs": [
        {
          "output_type": "stream",
          "name": "stdout",
          "text": [
            "Enter your Number:6789\n",
            "A grade\n"
          ]
        }
      ]
    },
    {
      "cell_type": "code",
      "source": [
        "# Homework for user choice program that is user is giving 1 then print Admin if 2 the user 3 the guest or else show Wrong Entry"
      ],
      "metadata": {
        "id": "oiM1P0lBjx5L"
      },
      "execution_count": null,
      "outputs": []
    },
    {
      "cell_type": "code",
      "source": [
        "a=5\n",
        "\n",
        "if a>0 and a%2 ==0:\n",
        "  print('A is an Even and Positive Number')\n",
        "elif a>0 and a%2 !=0:\n",
        "  print(\"A is Poistive number\")\n",
        "elif a==0:\n",
        "  print('A is Zero')\n",
        "else:\n",
        "  print('A is Negitive')"
      ],
      "metadata": {
        "colab": {
          "base_uri": "https://localhost:8080/"
        },
        "id": "0m6AOswWkeRw",
        "outputId": "f789eb5e-56b2-4417-de87-0f7ea28ba1dc"
      },
      "execution_count": null,
      "outputs": [
        {
          "output_type": "stream",
          "name": "stdout",
          "text": [
            "A is Poistive number\n"
          ]
        }
      ]
    },
    {
      "cell_type": "code",
      "source": [
        "user='Admin'\n",
        "access_level=3\n",
        "if user =='Admin' or access_level>=4:\n",
        "  print('Access Granted.....')\n",
        "else:\n",
        "  print('Acess denied...')\n"
      ],
      "metadata": {
        "colab": {
          "base_uri": "https://localhost:8080/"
        },
        "id": "Yh_a5MOKlfr4",
        "outputId": "387f0138-4be4-41a2-b065-d3bee69ca6b9"
      },
      "execution_count": null,
      "outputs": [
        {
          "output_type": "stream",
          "name": "stdout",
          "text": [
            "Access Granted.....\n"
          ]
        }
      ]
    },
    {
      "cell_type": "code",
      "source": [
        "a=10\n",
        "if a>=20:\n",
        "  print(\"Condition is True....\")\n",
        "else:\n",
        "  if a>=15:\n",
        "    print('Checking second value......')\n",
        "  else:\n",
        "    print('All conditation is false......')"
      ],
      "metadata": {
        "colab": {
          "base_uri": "https://localhost:8080/"
        },
        "id": "4KmCB2D7mc0-",
        "outputId": "9cf387bc-2c4e-455f-f0d0-57e4b6447986"
      },
      "execution_count": null,
      "outputs": [
        {
          "output_type": "stream",
          "name": "stdout",
          "text": [
            "All conditation is false......\n"
          ]
        }
      ]
    },
    {
      "cell_type": "code",
      "source": [
        "x=13\n",
        "y=13\n",
        "if x>y:\n",
        "  print(\"x>y\")\n",
        "elif x<y:\n",
        "  print(\"x<y\")\n",
        "  if x==10:\n",
        "    print(\"x =10\")\n",
        "  else:\n",
        "    print('Invalid')\n",
        "else:\n",
        "  print(\"x=y\")"
      ],
      "metadata": {
        "colab": {
          "base_uri": "https://localhost:8080/"
        },
        "id": "-F6CSjvQnBkZ",
        "outputId": "a6948ff3-945c-45e5-e922-9f48a77e2bbf"
      },
      "execution_count": null,
      "outputs": [
        {
          "output_type": "stream",
          "name": "stdout",
          "text": [
            "x=y\n"
          ]
        }
      ]
    },
    {
      "cell_type": "markdown",
      "source": [
        "#Iterative Statement\n",
        "\n",
        "* for\n",
        "* while"
      ],
      "metadata": {
        "id": "aKRILWZJXJLP"
      }
    },
    {
      "cell_type": "code",
      "source": [
        "# for Loop is Working on String,list,dictionary,set,tuple\n",
        "\n",
        "word=['One','Two','Three','Four','Five']\n",
        "\n",
        "for i in word:\n",
        "  print(i)\n",
        "\n",
        "\n",
        "#for(int i=0;i<=10;i++){\n",
        "  #printf(i)\n",
        "#}\n",
        "\n"
      ],
      "metadata": {
        "colab": {
          "base_uri": "https://localhost:8080/"
        },
        "id": "FJ2H6-oOXX0n",
        "outputId": "229ee980-4eb2-4af5-a4a9-001dbf16cc30"
      },
      "execution_count": null,
      "outputs": [
        {
          "output_type": "stream",
          "name": "stdout",
          "text": [
            "One\n",
            "Two\n",
            "Three\n",
            "Four\n",
            "Five\n"
          ]
        }
      ]
    },
    {
      "cell_type": "code",
      "source": [
        "num=[10,20,30,40,50,60]\n",
        "sum=0\n",
        "for i in num:\n",
        "  sum=sum+i\n",
        "\n",
        "list_size=len(num)\n",
        "\n",
        "avg=sum/list_size\n",
        "\n",
        "print(avg)"
      ],
      "metadata": {
        "colab": {
          "base_uri": "https://localhost:8080/"
        },
        "id": "N1GCDwEBpxLU",
        "outputId": "68afd944-805f-4d4d-8025-238cf6174072"
      },
      "execution_count": null,
      "outputs": [
        {
          "output_type": "stream",
          "name": "stdout",
          "text": [
            "35.0\n"
          ]
        }
      ]
    },
    {
      "cell_type": "code",
      "source": [
        "i=3"
      ],
      "metadata": {
        "id": "KeyOKBpGrvUo"
      },
      "execution_count": null,
      "outputs": []
    },
    {
      "cell_type": "code",
      "source": [
        "#range(5)   => range(start=0, end=5,step=1)\n",
        "\n",
        "print(list(range(5)))\n",
        "\n",
        "\n",
        "print(list(range(10)))\n",
        "\n",
        "print(list(range(1,100)))\n"
      ],
      "metadata": {
        "colab": {
          "base_uri": "https://localhost:8080/"
        },
        "id": "MgoCHbuaqpQy",
        "outputId": "a9369928-820c-41c5-c7a7-cfd04de26252"
      },
      "execution_count": null,
      "outputs": [
        {
          "output_type": "stream",
          "name": "stdout",
          "text": [
            "[0, 1, 2, 3, 4]\n",
            "[0, 1, 2, 3, 4, 5, 6, 7, 8, 9]\n",
            "[1, 2, 3, 4, 5, 6, 7, 8, 9, 10, 11, 12, 13, 14, 15, 16, 17, 18, 19, 20, 21, 22, 23, 24, 25, 26, 27, 28, 29, 30, 31, 32, 33, 34, 35, 36, 37, 38, 39, 40, 41, 42, 43, 44, 45, 46, 47, 48, 49, 50, 51, 52, 53, 54, 55, 56, 57, 58, 59, 60, 61, 62, 63, 64, 65, 66, 67, 68, 69, 70, 71, 72, 73, 74, 75, 76, 77, 78, 79, 80, 81, 82, 83, 84, 85, 86, 87, 88, 89, 90, 91, 92, 93, 94, 95, 96, 97, 98, 99]\n"
          ]
        }
      ]
    },
    {
      "cell_type": "code",
      "source": [
        "for num in range(10):\n",
        "  print(num)"
      ],
      "metadata": {
        "colab": {
          "base_uri": "https://localhost:8080/"
        },
        "id": "lzgMANL5rRZs",
        "outputId": "01429f81-ab32-4af9-ba74-8481f88fdf32"
      },
      "execution_count": null,
      "outputs": [
        {
          "output_type": "stream",
          "name": "stdout",
          "text": [
            "0\n",
            "1\n",
            "2\n",
            "3\n",
            "4\n",
            "5\n",
            "6\n",
            "7\n",
            "8\n",
            "9\n"
          ]
        }
      ]
    },
    {
      "cell_type": "code",
      "source": [
        "for i in range(1,11):\n",
        "  print(i)"
      ],
      "metadata": {
        "colab": {
          "base_uri": "https://localhost:8080/"
        },
        "id": "4J3x1_QMr0uY",
        "outputId": "f86c1eb2-e35b-4f62-c113-3ef9437b2bb4"
      },
      "execution_count": null,
      "outputs": [
        {
          "output_type": "stream",
          "name": "stdout",
          "text": [
            "1\n",
            "2\n",
            "3\n",
            "4\n",
            "5\n",
            "6\n",
            "7\n",
            "8\n",
            "9\n",
            "10\n"
          ]
        }
      ]
    },
    {
      "cell_type": "code",
      "source": [
        "for i in range(2,32,4):\n",
        "  print(i)"
      ],
      "metadata": {
        "colab": {
          "base_uri": "https://localhost:8080/"
        },
        "id": "ZSLW17p6rkko",
        "outputId": "0f7985d7-1f66-4b70-f900-4397571f2de5"
      },
      "execution_count": null,
      "outputs": [
        {
          "output_type": "stream",
          "name": "stdout",
          "text": [
            "2\n",
            "6\n",
            "10\n",
            "14\n",
            "18\n",
            "22\n",
            "26\n",
            "30\n"
          ]
        }
      ]
    },
    {
      "cell_type": "code",
      "source": [
        "a=7\n",
        "for i in range(1,11):\n",
        "  print('{0}x{1}={2}'.format(a,i,a*i))"
      ],
      "metadata": {
        "colab": {
          "base_uri": "https://localhost:8080/"
        },
        "id": "C4-yyNDtsYO1",
        "outputId": "e1f98b99-3681-485c-b025-9ff40617e190"
      },
      "execution_count": null,
      "outputs": [
        {
          "output_type": "stream",
          "name": "stdout",
          "text": [
            "7x1=7\n",
            "7x2=14\n",
            "7x3=21\n",
            "7x4=28\n",
            "7x5=35\n",
            "7x6=42\n",
            "7x7=49\n",
            "7x8=56\n",
            "7x9=63\n",
            "7x10=70\n"
          ]
        }
      ]
    },
    {
      "cell_type": "code",
      "source": [
        "sum=0\n",
        "for n in range(1,11):\n",
        "  sum=sum+n\n",
        "  print(sum)"
      ],
      "metadata": {
        "colab": {
          "base_uri": "https://localhost:8080/"
        },
        "id": "UVvUdc9FtJ3K",
        "outputId": "56b32882-d487-4b7a-bd95-08f63e42a330"
      },
      "execution_count": null,
      "outputs": [
        {
          "output_type": "stream",
          "name": "stdout",
          "text": [
            "1\n",
            "3\n",
            "6\n",
            "10\n",
            "15\n",
            "21\n",
            "28\n",
            "36\n",
            "45\n",
            "55\n"
          ]
        }
      ]
    },
    {
      "cell_type": "code",
      "source": [
        "for i in range(1,11):\n",
        "  if i%2 ==0:\n",
        "    print(\"Even Number\",i)\n",
        "  else:\n",
        "    print(\"Odd Number\",i)"
      ],
      "metadata": {
        "colab": {
          "base_uri": "https://localhost:8080/"
        },
        "id": "glznFns4uQ8q",
        "outputId": "0de2327a-2825-43d5-9773-225a37bd7e4f"
      },
      "execution_count": null,
      "outputs": [
        {
          "output_type": "stream",
          "name": "stdout",
          "text": [
            "Odd Number 1\n",
            "Even Number 2\n",
            "Odd Number 3\n",
            "Even Number 4\n",
            "Odd Number 5\n",
            "Even Number 6\n",
            "Odd Number 7\n",
            "Even Number 8\n",
            "Odd Number 9\n",
            "Even Number 10\n"
          ]
        }
      ]
    },
    {
      "cell_type": "code",
      "source": [
        "num=[0,1,2,3,4,5]\n",
        "for i in num:\n",
        "  print(i)\n",
        "else:\n",
        "  print(\"No item Left.. and loop will stop at\",i)"
      ],
      "metadata": {
        "colab": {
          "base_uri": "https://localhost:8080/"
        },
        "id": "aTGHUEpUuuu0",
        "outputId": "32f2b9ba-97ee-4ae6-e228-d0bc85c1317e"
      },
      "execution_count": null,
      "outputs": [
        {
          "output_type": "stream",
          "name": "stdout",
          "text": [
            "0\n",
            "1\n",
            "2\n",
            "3\n",
            "4\n",
            "5\n",
            "No item Left.. and loop will stop at 5\n"
          ]
        }
      ]
    },
    {
      "cell_type": "code",
      "source": [
        "name='Bill'\n",
        "marks={'Arnab':99,'Bill':55,'Cory':77}\n",
        "\n",
        "for student in marks:\n",
        "    if student == name:\n",
        "      print(marks[student])\n",
        "      break\n",
        "else:\n",
        "  print('No entry with that name found.....') "
      ],
      "metadata": {
        "colab": {
          "base_uri": "https://localhost:8080/"
        },
        "id": "r36qUNzwvSdo",
        "outputId": "dc25329f-de77-4a30-bf48-04787e12aaad"
      },
      "execution_count": null,
      "outputs": [
        {
          "output_type": "stream",
          "name": "stdout",
          "text": [
            "55\n"
          ]
        }
      ]
    },
    {
      "cell_type": "code",
      "source": [
        "#Example 1:\n",
        "\n",
        "count=1\n",
        "while count <5:\n",
        "  print(count)\n",
        "  count=count+1"
      ],
      "metadata": {
        "colab": {
          "base_uri": "https://localhost:8080/"
        },
        "id": "hiV-iGvupvpP",
        "outputId": "ce2460bf-37ce-40d2-e47e-40681695859f"
      },
      "execution_count": 1,
      "outputs": [
        {
          "output_type": "stream",
          "name": "stdout",
          "text": [
            "1\n",
            "2\n",
            "3\n",
            "4\n"
          ]
        }
      ]
    },
    {
      "cell_type": "code",
      "source": [
        "#Sum of the firts !0 number\n",
        "\n",
        "num=10;\n",
        "sum=0;\n",
        "i=1\n",
        "\n",
        "while i<=num:\n",
        "  sum=sum+i\n",
        "  i=i+1\n",
        "print(\"Sum of first 10 number is:\",sum)"
      ],
      "metadata": {
        "colab": {
          "base_uri": "https://localhost:8080/"
        },
        "id": "7i3CKjj2qtSt",
        "outputId": "eb331f7e-e283-43e1-bd6c-0f9e79c9da83"
      },
      "execution_count": 2,
      "outputs": [
        {
          "output_type": "stream",
          "name": "stdout",
          "text": [
            "Sum of first 10 number is: 55\n"
          ]
        }
      ]
    },
    {
      "cell_type": "code",
      "source": [
        "a=10;\n",
        "while a>0:\n",
        "  print(\"Value of a is:\",a)\n",
        "  a=a-2\n",
        "print(\"Loop Complted\")"
      ],
      "metadata": {
        "colab": {
          "base_uri": "https://localhost:8080/"
        },
        "id": "blrcDFzHra9c",
        "outputId": "04290fa8-5378-49e8-c99f-f8043c813b4a"
      },
      "execution_count": 4,
      "outputs": [
        {
          "output_type": "stream",
          "name": "stdout",
          "text": [
            "Value of a is: 10\n",
            "Value of a is: 8\n",
            "Value of a is: 6\n",
            "Value of a is: 4\n",
            "Value of a is: 2\n",
            "Loop Complted\n"
          ]
        }
      ]
    },
    {
      "cell_type": "code",
      "source": [
        "# fibonacci \n",
        "\n",
        "a,b=0,1\n",
        "while b<1000:\n",
        "  print(b,end=' ',flush=True)\n",
        "  a,b=b,a+b\n",
        "print()\n",
        "\n",
        "\n",
        "\n"
      ],
      "metadata": {
        "colab": {
          "base_uri": "https://localhost:8080/"
        },
        "id": "CDsKpEZ4r92n",
        "outputId": "b86d8976-86ca-44ba-b74a-1d5e9c92d537"
      },
      "execution_count": 6,
      "outputs": [
        {
          "output_type": "stream",
          "name": "stdout",
          "text": [
            "1 1 2 3 5 8 13 21 34 55 89 144 233 377 610 987 \n"
          ]
        }
      ]
    },
    {
      "cell_type": "code",
      "source": [
        "n=10\n",
        "while n>0:\n",
        "  if n%2==0:\n",
        "    print(n,\" is Even Number\")\n",
        "  else:\n",
        "    print(n,\" is Odd Number\")\n",
        "  n=n-1"
      ],
      "metadata": {
        "colab": {
          "base_uri": "https://localhost:8080/"
        },
        "id": "OnaSY_Iested",
        "outputId": "72f3001e-019a-4b3d-bdda-e5b892847e64"
      },
      "execution_count": 7,
      "outputs": [
        {
          "output_type": "stream",
          "name": "stdout",
          "text": [
            "10  is Even Number\n",
            "9  is Odd Number\n",
            "8  is Even Number\n",
            "7  is Odd Number\n",
            "6  is Even Number\n",
            "5  is Odd Number\n",
            "4  is Even Number\n",
            "3  is Odd Number\n",
            "2  is Even Number\n",
            "1  is Odd Number\n"
          ]
        }
      ]
    },
    {
      "cell_type": "markdown",
      "source": [
        "#  Transfar Statement\n",
        "\n",
        "* Break\n",
        "* continue\n",
        "* pass\n"
      ],
      "metadata": {
        "id": "Ozcx1bO0XS_g"
      }
    },
    {
      "cell_type": "code",
      "execution_count": 10,
      "metadata": {
        "id": "mUMHNiWrWq0L",
        "colab": {
          "base_uri": "https://localhost:8080/"
        },
        "outputId": "856f7d68-5bae-484c-df1f-e46ea39acf55"
      },
      "outputs": [
        {
          "output_type": "stream",
          "name": "stdout",
          "text": [
            "1\n",
            "2\n"
          ]
        }
      ],
      "source": [
        "count=0\n",
        "for i in range(1,6):\n",
        "  count=count+1\n",
        "  if count>2:\n",
        "    break    # Exit from the Block itself.\n",
        "  else:\n",
        "    print(i)\n",
        "else:\n",
        "  print(\"Done\")\n"
      ]
    },
    {
      "cell_type": "code",
      "source": [
        "count=0\n",
        "for i in range(1,6):\n",
        "  count=count+1\n",
        "  if count>2:\n",
        "    continue\n",
        "  else:\n",
        "    print(i)\n",
        "else:\n",
        "  print(\"Done\")"
      ],
      "metadata": {
        "colab": {
          "base_uri": "https://localhost:8080/"
        },
        "id": "iF25WJS8t6lW",
        "outputId": "5908fea2-8781-4f8f-a258-0d642c6ed5ea"
      },
      "execution_count": 9,
      "outputs": [
        {
          "output_type": "stream",
          "name": "stdout",
          "text": [
            "1\n",
            "2\n",
            "Done\n"
          ]
        }
      ]
    },
    {
      "cell_type": "code",
      "source": [
        "num=[1,4,5,6,17,18,9]\n",
        "for i in num:\n",
        "  if i>17:\n",
        "    break\n",
        "  else:\n",
        "    print(i)\n"
      ],
      "metadata": {
        "colab": {
          "base_uri": "https://localhost:8080/"
        },
        "id": "M4SjN9NHuOa5",
        "outputId": "1f06bad0-8e8d-4586-ef9e-67d2e33992f6"
      },
      "execution_count": 14,
      "outputs": [
        {
          "output_type": "stream",
          "name": "stdout",
          "text": [
            "1\n",
            "4\n",
            "5\n",
            "6\n",
            "17\n"
          ]
        }
      ]
    },
    {
      "cell_type": "code",
      "source": [
        "fn=[3,6,9]\n",
        "sec=[3,6,9]\n",
        "\n",
        "for i in fn:\n",
        "  for j in sec:\n",
        "    if i==j:\n",
        "      continue\n",
        "    print(i,\"*\",j,\"=\",i*j)"
      ],
      "metadata": {
        "colab": {
          "base_uri": "https://localhost:8080/"
        },
        "id": "7IekSY3BuzYt",
        "outputId": "8037baf1-26e1-4e46-b31c-04698f5a325b"
      },
      "execution_count": 15,
      "outputs": [
        {
          "output_type": "stream",
          "name": "stdout",
          "text": [
            "3 * 6 = 18\n",
            "3 * 9 = 27\n",
            "6 * 3 = 18\n",
            "6 * 9 = 54\n",
            "9 * 3 = 27\n",
            "9 * 6 = 54\n"
          ]
        }
      ]
    },
    {
      "cell_type": "code",
      "source": [
        "for num in range(6):\n",
        "  pass"
      ],
      "metadata": {
        "id": "OCH35Onuv6Rt"
      },
      "execution_count": 16,
      "outputs": []
    },
    {
      "cell_type": "code",
      "source": [
        "# using for loop print reverse of the list\n",
        "num=[10,20,30,40]\n",
        "for i in reversed(num):\n",
        "  print(i)"
      ],
      "metadata": {
        "colab": {
          "base_uri": "https://localhost:8080/"
        },
        "id": "OCgTnVqiwgZa",
        "outputId": "b3740098-1ce5-4f3a-83e2-71fe75cab692"
      },
      "execution_count": 17,
      "outputs": [
        {
          "output_type": "stream",
          "name": "stdout",
          "text": [
            "40\n",
            "30\n",
            "20\n",
            "10\n"
          ]
        }
      ]
    },
    {
      "cell_type": "code",
      "source": [
        "num=10;\n",
        "for i in range(num,-3,-1):   \n",
        "  print(i)"
      ],
      "metadata": {
        "colab": {
          "base_uri": "https://localhost:8080/"
        },
        "id": "f1DmIMZ8xTPX",
        "outputId": "bbdb570c-fa93-41c0-8dd4-d78c32905d58"
      },
      "execution_count": 20,
      "outputs": [
        {
          "output_type": "stream",
          "name": "stdout",
          "text": [
            "10\n",
            "9\n",
            "8\n",
            "7\n",
            "6\n",
            "5\n",
            "4\n",
            "3\n",
            "2\n",
            "1\n",
            "0\n",
            "-1\n",
            "-2\n"
          ]
        }
      ]
    },
    {
      "cell_type": "code",
      "source": [
        "print(\"Reversed: \\t\",end=\"\")\n",
        "for ch in reversed(\"ABCDEFGHIJKLMNOPQRSTUVWXYZ\"):\n",
        "  print(ch,end=\" \")\n",
        "\n",
        "print(\"\\nenuemerated: \\t\",end=\"\")\n",
        "for i,ch in enumerate(\"ABCDEFGHIJKLMNOPQRSTUVWXYZ\"):\n",
        "  print(i,\"=\",ch,end='; ')\n",
        "\n",
        "print(\"\\nZip:\")\n",
        "for a,x in zip (\"ABCDEF\",\"abcdef\"):\n",
        "  print(a,\":\",x)\n",
        "\n",
        "print(\"\\nZip:\")\n",
        "for a,x in zip (\"ABCDEF\",\"abcde\"):\n",
        "  print(a,\":\",x)\n"
      ],
      "metadata": {
        "colab": {
          "base_uri": "https://localhost:8080/"
        },
        "id": "2TROv-aeyD-k",
        "outputId": "04afc7bc-aab5-4918-affe-8a214f5c3e6f"
      },
      "execution_count": 27,
      "outputs": [
        {
          "output_type": "stream",
          "name": "stdout",
          "text": [
            "Reversed: \tZ Y X W V U T S R Q P O N M L K J I H G F E D C B A \n",
            "enuemerated: \t0 = A; 1 = B; 2 = C; 3 = D; 4 = E; 5 = F; 6 = G; 7 = H; 8 = I; 9 = J; 10 = K; 11 = L; 12 = M; 13 = N; 14 = O; 15 = P; 16 = Q; 17 = R; 18 = S; 19 = T; 20 = U; 21 = V; 22 = W; 23 = X; 24 = Y; 25 = Z; \n",
            "Zip:\n",
            "A : a\n",
            "B : b\n",
            "C : c\n",
            "D : d\n",
            "E : e\n",
            "F : f\n",
            "\n",
            "Zip:\n",
            "A : a\n",
            "B : b\n",
            "C : c\n",
            "D : d\n",
            "E : e\n"
          ]
        }
      ]
    },
    {
      "cell_type": "code",
      "source": [
        "r=5\n",
        "for i in range(1,r+1):\n",
        "  for j in range(1,i+1):\n",
        "    print(\"*\",end=\" \")\n",
        "  print(\"\")"
      ],
      "metadata": {
        "colab": {
          "base_uri": "https://localhost:8080/"
        },
        "id": "MXll6nN_03Vb",
        "outputId": "d6ab28a1-0830-4761-9020-4ec2c57ae0fa"
      },
      "execution_count": 28,
      "outputs": [
        {
          "output_type": "stream",
          "name": "stdout",
          "text": [
            "* \n",
            "* * \n",
            "* * * \n",
            "* * * * \n",
            "* * * * * \n"
          ]
        }
      ]
    },
    {
      "cell_type": "code",
      "source": [
        "for i in range(1,6):\n",
        "  for j in range(1,i+1):\n",
        "    print(i,end=\" \")\n",
        "  print(\" \")"
      ],
      "metadata": {
        "colab": {
          "base_uri": "https://localhost:8080/"
        },
        "id": "y1LmRWcG1dkv",
        "outputId": "677e6357-c0d0-4ee8-d144-9235d6438d8d"
      },
      "execution_count": 30,
      "outputs": [
        {
          "output_type": "stream",
          "name": "stdout",
          "text": [
            "1  \n",
            "2 2  \n",
            "3 3 3  \n",
            "4 4 4 4  \n",
            "5 5 5 5 5  \n"
          ]
        }
      ]
    }
  ]
}