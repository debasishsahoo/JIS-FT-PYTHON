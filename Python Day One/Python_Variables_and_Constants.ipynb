{
  "nbformat": 4,
  "nbformat_minor": 0,
  "metadata": {
    "colab": {
      "provenance": [],
      "collapsed_sections": [
        "TGJYcv-KLPIk"
      ]
    },
    "kernelspec": {
      "name": "python3",
      "display_name": "Python 3"
    },
    "language_info": {
      "name": "python"
    }
  },
  "cells": [
    {
      "cell_type": "markdown",
      "source": [
        "#1. Python Variables"
      ],
      "metadata": {
        "id": "3kdcJr_jKfNP"
      }
    },
    {
      "cell_type": "code",
      "execution_count": null,
      "metadata": {
        "id": "zJOpf9NJKY96"
      },
      "outputs": [],
      "source": [
        "# Noramal Variable Declaration is like\n",
        "x=10;\n",
        "y='this is String'\n",
        "z=True"
      ]
    },
    {
      "cell_type": "markdown",
      "source": [
        "## number "
      ],
      "metadata": {
        "id": "TGJYcv-KLPIk"
      }
    },
    {
      "cell_type": "code",
      "source": [
        "x=1       #int\n",
        "y=2.8     #float\n",
        "z=1+1j      #complex number"
      ],
      "metadata": {
        "id": "9_XHxV5tLOrE"
      },
      "execution_count": null,
      "outputs": []
    },
    {
      "cell_type": "code",
      "source": [
        "# to know what data type a value has in python\n",
        "# int is a Whole Number,positive or negative ,without decimal of unlimited length\n",
        "a=1\n",
        "b=-123\n",
        "c=3124214123532152352353265324643643765475475686586584575427547547455832905832058231058\n",
        "print(type(x))\n",
        "print(type(a))\n",
        "print(type(b))\n",
        "print(type(c))\n"
      ],
      "metadata": {
        "colab": {
          "base_uri": "https://localhost:8080/"
        },
        "id": "LST1o6atLlc2",
        "outputId": "aaefa12b-afd4-4d2c-848e-3256111185f7"
      },
      "execution_count": null,
      "outputs": [
        {
          "output_type": "stream",
          "name": "stdout",
          "text": [
            "<class 'int'>\n",
            "<class 'int'>\n",
            "<class 'int'>\n",
            "<class 'int'>\n"
          ]
        }
      ]
    },
    {
      "cell_type": "code",
      "source": [
        "# float is Floating point number ,positive or negative ,with one or more decimal of unlimited length\n",
        "# Support \"e\" to indicate the power of 10;\n",
        "\n",
        "a=1.10\n",
        "b=-1.10\n",
        "c=31242141235.32152352353265324643643765475475686586584575427547547455832905832058231058\n",
        "x=35e3\n",
        "y=12E5\n",
        "z=-87.7e100\n",
        "print(type(y))\n",
        "print(type(a))\n",
        "print(type(b))\n",
        "print(type(c))\n",
        "\n",
        "print(x)\n",
        "print(y)\n",
        "print(z)\n",
        "\n",
        "\n",
        "\n"
      ],
      "metadata": {
        "colab": {
          "base_uri": "https://localhost:8080/"
        },
        "id": "ElkjqklyL2wZ",
        "outputId": "39879649-3e41-4e44-e64e-c50d8422af5c"
      },
      "execution_count": null,
      "outputs": [
        {
          "output_type": "stream",
          "name": "stdout",
          "text": [
            "<class 'float'>\n",
            "<class 'float'>\n",
            "<class 'float'>\n",
            "<class 'float'>\n",
            "35000.0\n",
            "1200000.0\n",
            "-8.77e+101\n"
          ]
        }
      ]
    },
    {
      "cell_type": "code",
      "source": [
        "print(z)"
      ],
      "metadata": {
        "colab": {
          "base_uri": "https://localhost:8080/"
        },
        "id": "JC6GFo3UL7MB",
        "outputId": "6b26483f-87e0-4b87-dd1e-c4fd703aaba4"
      },
      "execution_count": null,
      "outputs": [
        {
          "output_type": "stream",
          "name": "stdout",
          "text": [
            "(1+1j)\n"
          ]
        }
      ]
    },
    {
      "cell_type": "markdown",
      "source": [
        "## String"
      ],
      "metadata": {
        "id": "xIPW6jaXTzrP"
      }
    },
    {
      "cell_type": "code",
      "source": [
        "str1='Hello GNIT' \n",
        "str2=\" How are you\"\n",
        "\n",
        "# access string value\n",
        "print(str1)\n",
        "\n",
        "#concatnation \n",
        "print(str1+ str2)\n",
        "\n",
        "# Hello GNIT\n",
        "# 0123456789\n",
        "\n",
        "#Slice Operator(:)\n",
        "print(str1[0:2]) # Slice the first two Charector\n",
        "print(str1[2:5]) # slicing is start from 2 index and end before 5 index so the index are 2,3,4. upto 5 means slice ended before 5.\n",
        "print(str1[3:7]) # Space is charector\n",
        "print(str1.strip())\n",
        "\n",
        "print(len(str1))\n",
        "print(str1.lower())\n",
        "print(str1.upper())\n",
        "\n",
        "print(str1.replace(\"H\",\"J\"))\n",
        "\n",
        "print(str1[4])\n",
        "\n",
        "# -10 -9 -8 -7 -6 -5 -4 -3 -2 -1      negitive index\n",
        "#   H  e  l  l     o  G  N  I  T\n",
        "#   0  1  2  3  4  5  6  7  8  9      positive index\n",
        "\n",
        "print(str1[-2])\n",
        "print(str1[-7]) # Negitave Indexing is possible in python\n",
        "print(str1[-10])\n",
        "\n",
        "\n",
        "print(2+2+2+2%4)\n",
        "\n",
        "del str2\n",
        "print(str2)\n",
        "\n"
      ],
      "metadata": {
        "colab": {
          "base_uri": "https://localhost:8080/",
          "height": 489
        },
        "id": "NDWee4DBOeii",
        "outputId": "7f5ae31f-e3ea-4d6e-e039-a9d206e61d32"
      },
      "execution_count": null,
      "outputs": [
        {
          "output_type": "stream",
          "name": "stdout",
          "text": [
            "Hello GNIT\n",
            "Hello GNIT How are you\n",
            "He\n",
            "llo\n",
            "lo G\n",
            "Hello GNIT\n",
            "10\n",
            "hello gnit\n",
            "HELLO GNIT\n",
            "Jello GNIT\n",
            "o\n",
            "I\n",
            "l\n",
            "H\n",
            "8\n"
          ]
        },
        {
          "output_type": "error",
          "ename": "NameError",
          "evalue": "ignored",
          "traceback": [
            "\u001b[0;31m---------------------------------------------------------------------------\u001b[0m",
            "\u001b[0;31mNameError\u001b[0m                                 Traceback (most recent call last)",
            "\u001b[0;32m<ipython-input-32-0f616170b764>\u001b[0m in \u001b[0;36m<module>\u001b[0;34m\u001b[0m\n\u001b[1;32m     37\u001b[0m \u001b[0;34m\u001b[0m\u001b[0m\n\u001b[1;32m     38\u001b[0m \u001b[0;32mdel\u001b[0m \u001b[0mstr2\u001b[0m\u001b[0;34m\u001b[0m\u001b[0;34m\u001b[0m\u001b[0m\n\u001b[0;32m---> 39\u001b[0;31m \u001b[0mprint\u001b[0m\u001b[0;34m(\u001b[0m\u001b[0mstr2\u001b[0m\u001b[0;34m)\u001b[0m\u001b[0;34m\u001b[0m\u001b[0;34m\u001b[0m\u001b[0m\n\u001b[0m\u001b[1;32m     40\u001b[0m \u001b[0;34m\u001b[0m\u001b[0m\n",
            "\u001b[0;31mNameError\u001b[0m: name 'str2' is not defined"
          ]
        }
      ]
    },
    {
      "cell_type": "markdown",
      "source": [
        "## Input/OutPut"
      ],
      "metadata": {
        "id": "mgOr8HHeT97_"
      }
    },
    {
      "cell_type": "code",
      "source": [
        "print(\"Enter Your Name\");\n",
        "x=input();\n",
        "print(\"Hello,\",x)"
      ],
      "metadata": {
        "colab": {
          "base_uri": "https://localhost:8080/"
        },
        "id": "BLlwf7beTwr3",
        "outputId": "6a9b7d6a-774e-4421-bd1c-69aeee316f7b"
      },
      "execution_count": null,
      "outputs": [
        {
          "output_type": "stream",
          "name": "stdout",
          "text": [
            "Enter Your Name\n",
            "Debasish Sahoo\n",
            "Hello, Debasish Sahoo\n"
          ]
        }
      ]
    },
    {
      "cell_type": "code",
      "source": [
        "# any data is comming from input field is converted into string:\n",
        "print(\"Enter Number for x\");\n",
        "x=input();                      #input fields\n",
        "print(\"Enter Number for y\");\n",
        "y=input();\n",
        "\n",
        "print(type(x))\n",
        "print(type(y))\n",
        "\n",
        "print(x+y)\n"
      ],
      "metadata": {
        "colab": {
          "base_uri": "https://localhost:8080/"
        },
        "id": "uo6UxE7MUrXa",
        "outputId": "171cdda3-b161-4166-eed1-6e0c194d5a7b"
      },
      "execution_count": null,
      "outputs": [
        {
          "output_type": "stream",
          "name": "stdout",
          "text": [
            "Enter Number for x\n",
            "5\n",
            "Enter Number for y\n",
            "7\n",
            "<class 'str'>\n",
            "<class 'str'>\n",
            "57\n"
          ]
        }
      ]
    },
    {
      "cell_type": "code",
      "source": [
        "# any data is comming from input field is converted into string:\n",
        "# to deal with this we have to cast the input with desaire data type methods\n",
        "print(\"Enter Number for x\");\n",
        "x=int(input())                      #input fields\n",
        "print(\"Enter Number for y\");\n",
        "y=int(input()) \n",
        "\n",
        "print(type(x))\n",
        "print(type(y))\n",
        "\n",
        "print(x+y)"
      ],
      "metadata": {
        "colab": {
          "base_uri": "https://localhost:8080/"
        },
        "id": "D54vFBVXXGPF",
        "outputId": "aba1b2ad-c678-4b3b-b2dd-2789a652a18e"
      },
      "execution_count": null,
      "outputs": [
        {
          "output_type": "stream",
          "name": "stdout",
          "text": [
            "Enter Number for x\n",
            "5\n",
            "Enter Number for y\n",
            "7\n",
            "<class 'int'>\n",
            "<class 'int'>\n",
            "12\n"
          ]
        }
      ]
    },
    {
      "cell_type": "code",
      "source": [
        "a, b,c=5,10,15;\n",
        "print(a)\n",
        "print(b)\n",
        "print(c)"
      ],
      "metadata": {
        "colab": {
          "base_uri": "https://localhost:8080/"
        },
        "id": "qLjvag_aXuNJ",
        "outputId": "e9315ca3-afa8-4c6b-8bea-25e906577070"
      },
      "execution_count": null,
      "outputs": [
        {
          "output_type": "stream",
          "name": "stdout",
          "text": [
            "5\n",
            "10\n",
            "15\n"
          ]
        }
      ]
    },
    {
      "cell_type": "code",
      "source": [
        "x=y=z=10;\n",
        "print(x)\n",
        "print(y)\n",
        "print(z)"
      ],
      "metadata": {
        "colab": {
          "base_uri": "https://localhost:8080/"
        },
        "id": "PmMb7PecX9Fr",
        "outputId": "f418165c-cb2a-41a9-b897-af4cb3af5037"
      },
      "execution_count": null,
      "outputs": [
        {
          "output_type": "stream",
          "name": "stdout",
          "text": [
            "10\n",
            "10\n",
            "10\n"
          ]
        }
      ]
    },
    {
      "cell_type": "code",
      "source": [
        "X=5\n",
        "Y=10\n",
        "\n",
        "# Srabasti Deb\n",
        "#X=X+Y \n",
        "#Y=X-Y  \n",
        "#X=X-Y\n",
        "\n",
        "#Sandipan Chakraborty\n",
        "#temp = x\n",
        "#x = y\n",
        "#y = temp\n",
        "\n",
        "# Debasish Sahoo\n",
        "\n",
        "X,Y=Y,X\n",
        "\n",
        "print('x and y are:',X,Y)"
      ],
      "metadata": {
        "colab": {
          "base_uri": "https://localhost:8080/"
        },
        "id": "D0rgaKwDYcvn",
        "outputId": "e1d54b46-963b-44c3-dfa6-5985e4e785b5"
      },
      "execution_count": null,
      "outputs": [
        {
          "output_type": "stream",
          "name": "stdout",
          "text": [
            "x and y are: 10 5\n"
          ]
        }
      ]
    }
  ]
}