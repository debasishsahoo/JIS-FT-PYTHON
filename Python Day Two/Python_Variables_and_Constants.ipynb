{
  "nbformat": 4,
  "nbformat_minor": 0,
  "metadata": {
    "colab": {
      "provenance": [],
      "collapsed_sections": [
        "TGJYcv-KLPIk",
        "xIPW6jaXTzrP",
        "SzcJLFnuVVIO",
        "I68ttQNgZY65",
        "KnMtDimSXAdB"
      ]
    },
    "kernelspec": {
      "name": "python3",
      "display_name": "Python 3"
    },
    "language_info": {
      "name": "python"
    }
  },
  "cells": [
    {
      "cell_type": "markdown",
      "source": [
        "#1. Python Variables"
      ],
      "metadata": {
        "id": "3kdcJr_jKfNP"
      }
    },
    {
      "cell_type": "code",
      "source": [
        "from google.colab import drive\n",
        "drive.mount('/content/drive')"
      ],
      "metadata": {
        "id": "9hhA0hTbbVbE"
      },
      "execution_count": null,
      "outputs": []
    },
    {
      "cell_type": "code",
      "execution_count": null,
      "metadata": {
        "id": "zJOpf9NJKY96"
      },
      "outputs": [],
      "source": [
        "# Noramal Variable Declaration is like\n",
        "x=10;\n",
        "y='this is String'\n",
        "z=True"
      ]
    },
    {
      "cell_type": "markdown",
      "source": [
        "## number "
      ],
      "metadata": {
        "id": "TGJYcv-KLPIk"
      }
    },
    {
      "cell_type": "code",
      "source": [
        "x=1       #int\n",
        "y=2.8     #float\n",
        "z=1+1j      #complex number"
      ],
      "metadata": {
        "id": "9_XHxV5tLOrE"
      },
      "execution_count": null,
      "outputs": []
    },
    {
      "cell_type": "code",
      "source": [
        "# to know what data type a value has in python\n",
        "# int is a Whole Number,positive or negative ,without decimal of unlimited length\n",
        "a=1\n",
        "b=-123\n",
        "c=3124214123532152352353265324643643765475475686586584575427547547455832905832058231058\n",
        "print(type(x))\n",
        "print(type(a))\n",
        "print(type(b))\n",
        "print(type(c))\n"
      ],
      "metadata": {
        "colab": {
          "base_uri": "https://localhost:8080/"
        },
        "id": "LST1o6atLlc2",
        "outputId": "913a0fc7-12b7-4706-dca4-a5a28e55fd32"
      },
      "execution_count": null,
      "outputs": [
        {
          "output_type": "stream",
          "name": "stdout",
          "text": [
            "<class 'int'>\n",
            "<class 'int'>\n",
            "<class 'int'>\n",
            "<class 'int'>\n"
          ]
        }
      ]
    },
    {
      "cell_type": "code",
      "source": [
        "# float is Floating point number ,positive or negative ,with one or more decimal of unlimited length\n",
        "# Support \"e\" to indicate the power of 10;\n",
        "\n",
        "a=1.10\n",
        "b=-1.10\n",
        "c=31242141235.32152352353265324643643765475475686586584575427547547455832905832058231058\n",
        "x=35e3\n",
        "y=12E5\n",
        "z=-87.7e100\n",
        "print(type(y))\n",
        "print(type(a))\n",
        "print(type(b))\n",
        "print(type(c))\n",
        "\n",
        "print(x)\n",
        "print(y)\n",
        "print(z)\n",
        "\n",
        "\n",
        "\n"
      ],
      "metadata": {
        "colab": {
          "base_uri": "https://localhost:8080/"
        },
        "id": "ElkjqklyL2wZ",
        "outputId": "76047d99-c28a-4792-d734-9c9b46943899"
      },
      "execution_count": null,
      "outputs": [
        {
          "output_type": "stream",
          "name": "stdout",
          "text": [
            "<class 'float'>\n",
            "<class 'float'>\n",
            "<class 'float'>\n",
            "<class 'float'>\n",
            "35000.0\n",
            "1200000.0\n",
            "-8.77e+101\n"
          ]
        }
      ]
    },
    {
      "cell_type": "code",
      "source": [
        "print(z)"
      ],
      "metadata": {
        "colab": {
          "base_uri": "https://localhost:8080/"
        },
        "id": "JC6GFo3UL7MB",
        "outputId": "80da9308-f77c-407e-88cc-b3c5b2d22f14"
      },
      "execution_count": null,
      "outputs": [
        {
          "output_type": "stream",
          "name": "stdout",
          "text": [
            "-8.77e+101\n"
          ]
        }
      ]
    },
    {
      "cell_type": "markdown",
      "source": [
        "## String"
      ],
      "metadata": {
        "id": "xIPW6jaXTzrP"
      }
    },
    {
      "cell_type": "code",
      "source": [
        "str1='Hello GNIT' \n",
        "str2=\" How are you\"\n",
        "\n",
        "# access string value\n",
        "print(str1)\n",
        "\n",
        "#concatnation \n",
        "print(str1+ str2)\n",
        "\n",
        "# Hello GNIT\n",
        "# 0123456789\n",
        "\n",
        "#Slice Operator(:)\n",
        "print(str1[0:2]) # Slice the first two Charector\n",
        "print(str1[2:5]) # slicing is start from 2 index and end before 5 index so the index are 2,3,4. upto 5 means slice ended before 5.\n",
        "print(str1[3:7]) # Space is charector\n",
        "print(str1.strip())\n",
        "\n",
        "print(len(str1))\n",
        "print(str1.lower())\n",
        "print(str1.upper())\n",
        "\n",
        "print(str1.replace(\"H\",\"J\"))\n",
        "\n",
        "print(str1[4])\n",
        "\n",
        "# -10 -9 -8 -7 -6 -5 -4 -3 -2 -1      negitive index\n",
        "#   H  e  l  l     o  G  N  I  T\n",
        "#   0  1  2  3  4  5  6  7  8  9      positive index\n",
        "\n",
        "print(str1[-2])\n",
        "print(str1[-7]) # Negitave Indexing is possible in python\n",
        "print(str1[-10])\n",
        "\n",
        "\n",
        "print(2+2+2+2%4)\n",
        "\n",
        "\n",
        "# Throw An Error couse str2 is not prestent\n",
        "del str2\n",
        "print(str2)\n",
        "\n"
      ],
      "metadata": {
        "colab": {
          "base_uri": "https://localhost:8080/",
          "height": 491
        },
        "id": "NDWee4DBOeii",
        "outputId": "bc75457d-f691-4c8f-feb8-8c8f54b8e887"
      },
      "execution_count": null,
      "outputs": [
        {
          "output_type": "stream",
          "name": "stdout",
          "text": [
            "Hello GNIT\n",
            "Hello GNIT How are you\n",
            "He\n",
            "llo\n",
            "lo G\n",
            "Hello GNIT\n",
            "10\n",
            "hello gnit\n",
            "HELLO GNIT\n",
            "Jello GNIT\n",
            "o\n",
            "I\n",
            "l\n",
            "H\n",
            "8\n"
          ]
        },
        {
          "output_type": "error",
          "ename": "NameError",
          "evalue": "ignored",
          "traceback": [
            "\u001b[0;31m---------------------------------------------------------------------------\u001b[0m",
            "\u001b[0;31mNameError\u001b[0m                                 Traceback (most recent call last)",
            "\u001b[0;32m<ipython-input-25-2aa86bb83f21>\u001b[0m in \u001b[0;36m<module>\u001b[0;34m\u001b[0m\n\u001b[1;32m     39\u001b[0m \u001b[0;31m# Throw An Error couse str2 is not prestent\u001b[0m\u001b[0;34m\u001b[0m\u001b[0;34m\u001b[0m\u001b[0;34m\u001b[0m\u001b[0m\n\u001b[1;32m     40\u001b[0m \u001b[0;32mdel\u001b[0m \u001b[0mstr2\u001b[0m\u001b[0;34m\u001b[0m\u001b[0;34m\u001b[0m\u001b[0m\n\u001b[0;32m---> 41\u001b[0;31m \u001b[0mprint\u001b[0m\u001b[0;34m(\u001b[0m\u001b[0mstr2\u001b[0m\u001b[0;34m)\u001b[0m\u001b[0;34m\u001b[0m\u001b[0;34m\u001b[0m\u001b[0m\n\u001b[0m\u001b[1;32m     42\u001b[0m \u001b[0;34m\u001b[0m\u001b[0m\n",
            "\u001b[0;31mNameError\u001b[0m: name 'str2' is not defined"
          ]
        }
      ]
    },
    {
      "cell_type": "markdown",
      "source": [
        "## Input/OutPut"
      ],
      "metadata": {
        "id": "mgOr8HHeT97_"
      }
    },
    {
      "cell_type": "code",
      "source": [
        "print(\"Enter Your Name\");\n",
        "x=input();\n",
        "print(\"Hello,\",x)"
      ],
      "metadata": {
        "colab": {
          "base_uri": "https://localhost:8080/"
        },
        "id": "BLlwf7beTwr3",
        "outputId": "1992924d-cbdd-4d86-abbe-bd08fb4c3559"
      },
      "execution_count": null,
      "outputs": [
        {
          "output_type": "stream",
          "name": "stdout",
          "text": [
            "Enter Your Name\n",
            "debasish\n",
            "Hello, debasish\n"
          ]
        }
      ]
    },
    {
      "cell_type": "code",
      "source": [
        "# any data is comming from input field is converted into string:\n",
        "print(\"Enter Number for x\");\n",
        "x=input();                      #input fields\n",
        "print(\"Enter Number for y\");\n",
        "y=input();\n",
        "\n",
        "print(type(x))\n",
        "print(type(y))\n",
        "\n",
        "print(x+y)\n"
      ],
      "metadata": {
        "colab": {
          "base_uri": "https://localhost:8080/"
        },
        "id": "uo6UxE7MUrXa",
        "outputId": "fa463f4a-5c86-41e7-f139-ae07fdd2663f"
      },
      "execution_count": null,
      "outputs": [
        {
          "output_type": "stream",
          "name": "stdout",
          "text": [
            "Enter Number for x\n",
            "2\n",
            "Enter Number for y\n",
            "2\n",
            "<class 'str'>\n",
            "<class 'str'>\n",
            "22\n"
          ]
        }
      ]
    },
    {
      "cell_type": "code",
      "source": [
        "# any data is comming from input field is converted into string:\n",
        "# to deal with this we have to cast the input with desaire data type methods\n",
        "print(\"Enter Number for x\");\n",
        "x=int(input())                      #input fields\n",
        "print(\"Enter Number for y\");\n",
        "y=int(input()) \n",
        "\n",
        "print(type(x))\n",
        "print(type(y))\n",
        "\n",
        "print(x+y)"
      ],
      "metadata": {
        "colab": {
          "base_uri": "https://localhost:8080/"
        },
        "id": "D54vFBVXXGPF",
        "outputId": "7ee48248-6e8a-450e-edd1-4d1af14eb18c"
      },
      "execution_count": null,
      "outputs": [
        {
          "output_type": "stream",
          "name": "stdout",
          "text": [
            "Enter Number for x\n",
            "2\n",
            "Enter Number for y\n",
            "3\n",
            "<class 'int'>\n",
            "<class 'int'>\n",
            "5\n"
          ]
        }
      ]
    },
    {
      "cell_type": "markdown",
      "source": [
        "## Declar Multiple Variable in one line"
      ],
      "metadata": {
        "id": "SzcJLFnuVVIO"
      }
    },
    {
      "cell_type": "code",
      "source": [
        "a,b,c=5,10,15;\n",
        "print(a)\n",
        "print(b)\n",
        "print(c)"
      ],
      "metadata": {
        "colab": {
          "base_uri": "https://localhost:8080/"
        },
        "id": "qLjvag_aXuNJ",
        "outputId": "f32f4dc6-8195-4799-903b-f672d0128b61"
      },
      "execution_count": null,
      "outputs": [
        {
          "output_type": "stream",
          "name": "stdout",
          "text": [
            "5\n",
            "10\n",
            "15\n"
          ]
        }
      ]
    },
    {
      "cell_type": "code",
      "source": [
        "a=1; b=2;c=3;\n",
        "print(a) \n",
        "print(b)\n",
        "print(c)\n",
        "print(a,b,c)"
      ],
      "metadata": {
        "colab": {
          "base_uri": "https://localhost:8080/"
        },
        "id": "sBK11dk_VmsX",
        "outputId": "489c433a-7d6d-496d-d4ee-815763b6bb6c"
      },
      "execution_count": null,
      "outputs": [
        {
          "output_type": "stream",
          "name": "stdout",
          "text": [
            "1\n",
            "2\n",
            "3\n",
            "1 2 3\n"
          ]
        }
      ]
    },
    {
      "cell_type": "markdown",
      "source": [
        "## Assign Same Value to Multiple/Chained Variables at Ones"
      ],
      "metadata": {
        "id": "I68ttQNgZY65"
      }
    },
    {
      "cell_type": "code",
      "source": [
        "x=y=z=10;\n",
        "print(x)\n",
        "print(y)\n",
        "print(z)"
      ],
      "metadata": {
        "colab": {
          "base_uri": "https://localhost:8080/"
        },
        "id": "PmMb7PecX9Fr",
        "outputId": "e8f05eac-fd50-463d-a274-e78c8dceecc5"
      },
      "execution_count": null,
      "outputs": [
        {
          "output_type": "stream",
          "name": "stdout",
          "text": [
            "10\n",
            "10\n",
            "10\n"
          ]
        }
      ]
    },
    {
      "cell_type": "markdown",
      "source": [
        "## Swaping Problam"
      ],
      "metadata": {
        "id": "KnMtDimSXAdB"
      }
    },
    {
      "cell_type": "code",
      "source": [
        "X=5\n",
        "Y=10\n",
        "X,Y=Y,X\n",
        "\n",
        "print('x and y are:',X,Y)"
      ],
      "metadata": {
        "colab": {
          "base_uri": "https://localhost:8080/"
        },
        "id": "D0rgaKwDYcvn",
        "outputId": "e900e722-05e2-470c-afa8-62e2ea9e05c3"
      },
      "execution_count": null,
      "outputs": [
        {
          "output_type": "stream",
          "name": "stdout",
          "text": [
            "x and y are: 10 5\n"
          ]
        }
      ]
    },
    {
      "cell_type": "markdown",
      "source": [
        "## Multiple Datatype Declaration"
      ],
      "metadata": {
        "id": "Eh3EQlygXG9h"
      }
    },
    {
      "cell_type": "code",
      "source": [
        "first_name=\"Debasish\"\n",
        "liast_name=\"Sahoo\"\n",
        "country='India'\n",
        "city='KOLKATA'                 #String\n",
        "age=32                         #number\n",
        "Skill=['PYTHON','ML','DATASCIENCE','ANGULAR','REACT','C#']  # Array\n",
        "is_male=True                    #boolean\n",
        "job_info={                               #Object\n",
        "    'Company1':'SkyBullStocks',\n",
        "    'Company2':'AST',\n",
        "    'Company3':'JOBA ONLINE PVT LTD',\n",
        "    'Company4':'AGIT TECH AVIDS'\n",
        "}"
      ],
      "metadata": {
        "id": "W8Yl8qj9XOP9"
      },
      "execution_count": null,
      "outputs": []
    },
    {
      "cell_type": "code",
      "source": [
        "print(first_name)\n",
        "print(is_male)\n",
        "print(Skill[3])\n",
        "print(job_info)\n",
        "print(job_info['Company1'])"
      ],
      "metadata": {
        "colab": {
          "base_uri": "https://localhost:8080/"
        },
        "id": "qQGtnWF8XMR6",
        "outputId": "5a23d6e7-0606-4910-ff0b-996afbcca52e"
      },
      "execution_count": null,
      "outputs": [
        {
          "output_type": "stream",
          "name": "stdout",
          "text": [
            "Debasish\n",
            "True\n",
            "ANGULAR\n",
            "{'Company1': 'SkyBullStocks', 'Company2': 'AST', 'Company3': 'JOBA ONLINE PVT LTD', 'Company4': 'AGIT TECH AVIDS'}\n",
            "SkyBullStocks\n"
          ]
        }
      ]
    },
    {
      "cell_type": "code",
      "source": [
        "x=12\n",
        "print(x)\n",
        "x='Debasish'\n",
        "print(x)"
      ],
      "metadata": {
        "colab": {
          "base_uri": "https://localhost:8080/"
        },
        "id": "5k3AbfsMZ8Ez",
        "outputId": "53c0d63d-ec7f-47b7-f8cc-ba542cd294d1"
      },
      "execution_count": null,
      "outputs": [
        {
          "output_type": "stream",
          "name": "stdout",
          "text": [
            "12\n",
            "Debasish\n"
          ]
        }
      ]
    },
    {
      "cell_type": "markdown",
      "source": [
        "#2 Constants"
      ],
      "metadata": {
        "id": "hpiV6EY8acyP"
      }
    },
    {
      "cell_type": "markdown",
      "source": [
        "A Constants is a type of variable whose value cannot be changed .\n",
        "\n",
        "Example Value of Pi=3.14"
      ],
      "metadata": {
        "id": "_ho2gVstapLv"
      }
    }
  ]
}