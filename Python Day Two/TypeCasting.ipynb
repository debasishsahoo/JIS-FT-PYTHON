{
  "nbformat": 4,
  "nbformat_minor": 0,
  "metadata": {
    "colab": {
      "provenance": []
    },
    "kernelspec": {
      "name": "python3",
      "display_name": "Python 3"
    },
    "language_info": {
      "name": "python"
    }
  },
  "cells": [
    {
      "cell_type": "markdown",
      "source": [
        "# Python Type Convertion and Type Casting\n",
        "the Process of Converting the Value of one data type to another data type is called type convertion.\n",
        "\n",
        "*   Implicit Type Convertion\n",
        "*   Explicit Type Convertion\n",
        "\n"
      ],
      "metadata": {
        "id": "lSKWmnQGMRaV"
      }
    },
    {
      "cell_type": "markdown",
      "source": [
        "## 1.Implicit Type Convertion \n",
        "In this case Python Automatically convert one data type to another data type.\n",
        ">Note: no need to manuall intervetion.\n"
      ],
      "metadata": {
        "id": "p9mQdiNOM1DQ"
      }
    },
    {
      "cell_type": "code",
      "execution_count": null,
      "metadata": {
        "colab": {
          "base_uri": "https://localhost:8080/"
        },
        "id": "jX1Ovzw4MMK2",
        "outputId": "65f6bcae-e00c-4b39-c210-d94e6d0592bd"
      },
      "outputs": [
        {
          "output_type": "stream",
          "name": "stdout",
          "text": [
            "246.0\n",
            "Data type of a <class 'int'>\n",
            "Data type of b <class 'float'>\n",
            "Data type of c <class 'float'>\n"
          ]
        }
      ],
      "source": [
        "a=123\n",
        "b=123.0\n",
        "\n",
        "c=a+b  # Python convert c into float Implicitly couse float is greater then int \n",
        "# Implicit convertion always happne between lower data type to higher data type \n",
        "print(c)\n",
        "print(\"Data type of a\",type(a))\n",
        "print(\"Data type of b\",type(b))\n",
        "print(\"Data type of c\",type(c))"
      ]
    },
    {
      "cell_type": "code",
      "source": [
        "a=123\n",
        "b='123'\n",
        "\n",
        "c=a+b     #python is not able to convert str to int Implicitly\n",
        "print(c)\n",
        "print(\"Data type of a\",type(a))\n",
        "print(\"Data type of b\",type(b))\n",
        "print(\"Data type of c\",type(c))"
      ],
      "metadata": {
        "colab": {
          "base_uri": "https://localhost:8080/",
          "height": 240
        },
        "id": "ux9g2ZYPO2S2",
        "outputId": "38e9fcd8-5d8d-48ed-b5a3-75701db3ffd9"
      },
      "execution_count": null,
      "outputs": [
        {
          "output_type": "error",
          "ename": "TypeError",
          "evalue": "ignored",
          "traceback": [
            "\u001b[0;31m---------------------------------------------------------------------------\u001b[0m",
            "\u001b[0;31mTypeError\u001b[0m                                 Traceback (most recent call last)",
            "\u001b[0;32m<ipython-input-5-a6e834eaa3a1>\u001b[0m in \u001b[0;36m<module>\u001b[0;34m\u001b[0m\n\u001b[1;32m      2\u001b[0m \u001b[0mb\u001b[0m\u001b[0;34m=\u001b[0m\u001b[0;34m'123'\u001b[0m\u001b[0;34m\u001b[0m\u001b[0;34m\u001b[0m\u001b[0m\n\u001b[1;32m      3\u001b[0m \u001b[0;34m\u001b[0m\u001b[0m\n\u001b[0;32m----> 4\u001b[0;31m \u001b[0mc\u001b[0m\u001b[0;34m=\u001b[0m\u001b[0ma\u001b[0m\u001b[0;34m+\u001b[0m\u001b[0mb\u001b[0m  \u001b[0;31m# Python convert c into float Implicitly couse float is greater then int\u001b[0m\u001b[0;34m\u001b[0m\u001b[0;34m\u001b[0m\u001b[0m\n\u001b[0m\u001b[1;32m      5\u001b[0m \u001b[0;31m# Implicit convertion always happne between lower data type to higher data type\u001b[0m\u001b[0;34m\u001b[0m\u001b[0;34m\u001b[0m\u001b[0;34m\u001b[0m\u001b[0m\n\u001b[1;32m      6\u001b[0m \u001b[0mprint\u001b[0m\u001b[0;34m(\u001b[0m\u001b[0mc\u001b[0m\u001b[0;34m)\u001b[0m\u001b[0;34m\u001b[0m\u001b[0;34m\u001b[0m\u001b[0m\n",
            "\u001b[0;31mTypeError\u001b[0m: unsupported operand type(s) for +: 'int' and 'str'"
          ]
        }
      ]
    },
    {
      "cell_type": "markdown",
      "source": [
        "# 2.Explicit Convertion \n",
        "is convert one data type into another data type useing maunal intervention.\n",
        "\n",
        "for this convertion we have to use built_in_ function like int(),float(),str()\n"
      ],
      "metadata": {
        "id": "Thq1139JPbPJ"
      }
    },
    {
      "cell_type": "code",
      "source": [
        "a=10;\n",
        "print(a);\n",
        "print(type(a))\n",
        "\n",
        "b=float(a);\n",
        "print(b)\n",
        "print(type(b))\n"
      ],
      "metadata": {
        "colab": {
          "base_uri": "https://localhost:8080/"
        },
        "id": "VfDNVirFPa3z",
        "outputId": "934f4a3a-e3a6-4463-f2d0-cb9e702de349"
      },
      "execution_count": null,
      "outputs": [
        {
          "output_type": "stream",
          "name": "stdout",
          "text": [
            "10\n",
            "<class 'int'>\n",
            "10.0\n",
            "<class 'float'>\n"
          ]
        }
      ]
    },
    {
      "cell_type": "code",
      "source": [
        "pi=3.14\n",
        "print(int(pi))"
      ],
      "metadata": {
        "colab": {
          "base_uri": "https://localhost:8080/"
        },
        "id": "lmsU7fjaQr_p",
        "outputId": "e46df38a-2bb4-4f1b-e6b3-2e2ef958b64f"
      },
      "execution_count": null,
      "outputs": [
        {
          "output_type": "stream",
          "name": "stdout",
          "text": [
            "3\n"
          ]
        }
      ]
    },
    {
      "cell_type": "code",
      "source": [
        "a=123\n",
        "b='123'\n",
        "\n",
        "print(\"Data type of a\",type(a))\n",
        "print(\"Data type of b\",type(b))\n",
        "print(\"Data type of b after convertion:\",type(int(b)))\n",
        "\n",
        "c=a+int(b) \n",
        "print(c)\n",
        "\n",
        "print(\"Data type of c\",type(c))"
      ],
      "metadata": {
        "colab": {
          "base_uri": "https://localhost:8080/"
        },
        "id": "cbjRcvv_RGK9",
        "outputId": "af37978b-4a7b-487a-bfd4-92e44ecd9a26"
      },
      "execution_count": null,
      "outputs": [
        {
          "output_type": "stream",
          "name": "stdout",
          "text": [
            "Data type of a <class 'int'>\n",
            "Data type of b <class 'str'>\n",
            "Data type of b after convertion: <class 'int'>\n",
            "246\n",
            "Data type of c <class 'int'>\n"
          ]
        }
      ]
    },
    {
      "cell_type": "code",
      "source": [
        "a='Debasish'\n",
        "print(int(a))"
      ],
      "metadata": {
        "colab": {
          "base_uri": "https://localhost:8080/",
          "height": 187
        },
        "id": "dfYM-oh6RoCg",
        "outputId": "4019f295-8d6b-497a-986f-a41124868fd1"
      },
      "execution_count": null,
      "outputs": [
        {
          "output_type": "error",
          "ename": "ValueError",
          "evalue": "ignored",
          "traceback": [
            "\u001b[0;31m---------------------------------------------------------------------------\u001b[0m",
            "\u001b[0;31mValueError\u001b[0m                                Traceback (most recent call last)",
            "\u001b[0;32m<ipython-input-10-7205bd76ca49>\u001b[0m in \u001b[0;36m<module>\u001b[0;34m\u001b[0m\n\u001b[1;32m      1\u001b[0m \u001b[0ma\u001b[0m\u001b[0;34m=\u001b[0m\u001b[0;34m'Debasish'\u001b[0m\u001b[0;34m\u001b[0m\u001b[0;34m\u001b[0m\u001b[0m\n\u001b[0;32m----> 2\u001b[0;31m \u001b[0mprint\u001b[0m\u001b[0;34m(\u001b[0m\u001b[0mint\u001b[0m\u001b[0;34m(\u001b[0m\u001b[0ma\u001b[0m\u001b[0;34m)\u001b[0m\u001b[0;34m)\u001b[0m\u001b[0;34m\u001b[0m\u001b[0;34m\u001b[0m\u001b[0m\n\u001b[0m",
            "\u001b[0;31mValueError\u001b[0m: invalid literal for int() with base 10: 'Debasish'"
          ]
        }
      ]
    },
    {
      "cell_type": "code",
      "source": [
        "# List To set\n",
        "a=[1,2,3,4]\n",
        "print(set(a))"
      ],
      "metadata": {
        "colab": {
          "base_uri": "https://localhost:8080/"
        },
        "id": "nEmX_NyiSIXs",
        "outputId": "dc7c4b4f-9d27-4241-b08d-c5ee3fc1bef4"
      },
      "execution_count": null,
      "outputs": [
        {
          "output_type": "stream",
          "name": "stdout",
          "text": [
            "{1, 2, 3, 4}\n"
          ]
        }
      ]
    },
    {
      "cell_type": "code",
      "source": [
        "# Tuple To set\n",
        "a=(1,2,3,4)\n",
        "print(set(a))"
      ],
      "metadata": {
        "colab": {
          "base_uri": "https://localhost:8080/"
        },
        "id": "Mg3qHjGNSUEV",
        "outputId": "0f07b03f-d670-40e9-ac87-38df42419349"
      },
      "execution_count": null,
      "outputs": [
        {
          "output_type": "stream",
          "name": "stdout",
          "text": [
            "{1, 2, 3, 4}\n"
          ]
        }
      ]
    },
    {
      "cell_type": "code",
      "source": [
        "# List To tuple\n",
        "a=[1,2,3,4]\n",
        "print(tuple(a))"
      ],
      "metadata": {
        "colab": {
          "base_uri": "https://localhost:8080/"
        },
        "id": "8wvy-COYSe3-",
        "outputId": "f2710f4a-ab8f-4bb5-b2e4-dc085b171ae9"
      },
      "execution_count": null,
      "outputs": [
        {
          "output_type": "stream",
          "name": "stdout",
          "text": [
            "(1, 2, 3, 4)\n"
          ]
        }
      ]
    },
    {
      "cell_type": "code",
      "source": [
        "# tuple To List\n",
        "a=(1,2,3,4)\n",
        "print(list(a))"
      ],
      "metadata": {
        "colab": {
          "base_uri": "https://localhost:8080/"
        },
        "id": "iKGbkxdZSlSf",
        "outputId": "50b34024-5391-4507-e7cb-112c890a1521"
      },
      "execution_count": null,
      "outputs": [
        {
          "output_type": "stream",
          "name": "stdout",
          "text": [
            "[1, 2, 3, 4]\n"
          ]
        }
      ]
    },
    {
      "cell_type": "code",
      "source": [
        "# set To list\n",
        "a={1,2,3,4}\n",
        "print(list(a))"
      ],
      "metadata": {
        "colab": {
          "base_uri": "https://localhost:8080/"
        },
        "id": "VgDnGJkZStTo",
        "outputId": "425ec5bf-29d2-463e-952f-8aa36993842e"
      },
      "execution_count": null,
      "outputs": [
        {
          "output_type": "stream",
          "name": "stdout",
          "text": [
            "[1, 2, 3, 4]\n"
          ]
        }
      ]
    },
    {
      "cell_type": "code",
      "source": [
        "# Nested List to Dict\n",
        "list=[[1,'value1'],[2,'value2']];\n",
        "\n",
        "a=dict(list);\n",
        "print(a)"
      ],
      "metadata": {
        "colab": {
          "base_uri": "https://localhost:8080/"
        },
        "id": "UJX20I9rSz5Q",
        "outputId": "e8982e98-39ae-4621-b56b-07ee22e31bb6"
      },
      "execution_count": null,
      "outputs": [
        {
          "output_type": "stream",
          "name": "stdout",
          "text": [
            "{1: 'value1', 2: 'value2'}\n"
          ]
        }
      ]
    },
    {
      "cell_type": "code",
      "source": [
        "# Nested tuple to Dict\n",
        "tpl=[(1,'value1'),(2,'value2')];\n",
        "\n",
        "a=dict(tpl);\n",
        "print(a)"
      ],
      "metadata": {
        "colab": {
          "base_uri": "https://localhost:8080/"
        },
        "id": "mEgeQNb8TST7",
        "outputId": "a967ac7b-c14e-4858-9489-cea533d76fdc"
      },
      "execution_count": null,
      "outputs": [
        {
          "output_type": "stream",
          "name": "stdout",
          "text": [
            "{1: 'value1', 2: 'value2'}\n"
          ]
        }
      ]
    }
  ]
}