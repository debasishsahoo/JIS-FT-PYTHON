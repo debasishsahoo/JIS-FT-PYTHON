{
  "nbformat": 4,
  "nbformat_minor": 0,
  "metadata": {
    "colab": {
      "provenance": [],
      "collapsed_sections": [
        "-6rmCR4uUHAP",
        "KRg4OPCsX4uy",
        "R60AYVU0b72k",
        "d5zIeHHgcikI",
        "kXBYWUM9c_tD",
        "Ah_eV1pQefft",
        "b4tnIiothVR3"
      ]
    },
    "kernelspec": {
      "name": "python3",
      "display_name": "Python 3"
    },
    "language_info": {
      "name": "python"
    }
  },
  "cells": [
    {
      "cell_type": "markdown",
      "source": [
        "# Input Output Import"
      ],
      "metadata": {
        "id": "DKqiMKEuT8FO"
      }
    },
    {
      "cell_type": "markdown",
      "source": [
        "## Output Formationg using Print function "
      ],
      "metadata": {
        "id": "-6rmCR4uUHAP"
      }
    },
    {
      "cell_type": "code",
      "execution_count": null,
      "metadata": {
        "colab": {
          "base_uri": "https://localhost:8080/"
        },
        "id": "8PUbbVcdT3Yj",
        "outputId": "883a7e52-30d9-4350-8c88-28e556ba4bf3"
      },
      "outputs": [
        {
          "output_type": "stream",
          "name": "stdout",
          "text": [
            "This is Print function formationg\n"
          ]
        }
      ],
      "source": [
        "# Single Statement\n",
        "print('This is Print function formationg')"
      ]
    },
    {
      "cell_type": "code",
      "source": [
        "# Pass A value \n",
        "a=10;\n",
        "print('This Value of a is:',a)"
      ],
      "metadata": {
        "colab": {
          "base_uri": "https://localhost:8080/"
        },
        "id": "jasoEE-nT6UP",
        "outputId": "bcacef20-36a3-43e0-c401-76070780cf21"
      },
      "execution_count": null,
      "outputs": [
        {
          "output_type": "stream",
          "name": "stdout",
          "text": [
            "This Value of a is: 10\n"
          ]
        }
      ]
    },
    {
      "cell_type": "code",
      "source": [
        "print(1,1,1,1)\n",
        "print(1,1,1,1,sep='@') # \"sep\" is seprate the output value with # element\n",
        "print(1,1,1,1,sep=' * ',end='&') # \"sep\" is seprate the output value with * element and end with '&'"
      ],
      "metadata": {
        "colab": {
          "base_uri": "https://localhost:8080/"
        },
        "id": "o4YIUAn7UuHV",
        "outputId": "a497ac7d-a0e9-410d-9276-1901d10b4acf"
      },
      "execution_count": null,
      "outputs": [
        {
          "output_type": "stream",
          "name": "stdout",
          "text": [
            "1 1 1 1\n",
            "1@1@1@1\n",
            "1 * 1 * 1 * 1&"
          ]
        }
      ]
    },
    {
      "cell_type": "code",
      "source": [
        "# str.format()\n",
        "x=6;\n",
        "y=7;\n",
        "print('This value of x is {} and y is {}'.format(x,y))"
      ],
      "metadata": {
        "colab": {
          "base_uri": "https://localhost:8080/"
        },
        "id": "-rnYBCDsVf2i",
        "outputId": "889c5025-4e27-4a5c-c041-e83d94030801"
      },
      "execution_count": null,
      "outputs": [
        {
          "output_type": "stream",
          "name": "stdout",
          "text": [
            "This value of x is 6 and y is 7\n"
          ]
        }
      ]
    },
    {
      "cell_type": "code",
      "source": [
        "print('I love {} and {}'.format('Mango','Banana'))\n",
        "\n",
        "print('I love {0} and {1}'.format('Mango','Banana'))\n",
        "\n",
        "print('I love {1} and {0}'.format('Mango','Banana'))"
      ],
      "metadata": {
        "colab": {
          "base_uri": "https://localhost:8080/"
        },
        "id": "yDxgTgY3WDhX",
        "outputId": "d13790c7-8b7d-4f0c-8f57-37e95b5ce77b"
      },
      "execution_count": null,
      "outputs": [
        {
          "output_type": "stream",
          "name": "stdout",
          "text": [
            "I love Mango and Banana\n",
            "I love Mango and Banana\n",
            "I love Banana and Mango\n"
          ]
        }
      ]
    },
    {
      "cell_type": "code",
      "source": [
        "print('hello {name} ,{greeting}'.format(greeting='good Morning',name='Debasish'))"
      ],
      "metadata": {
        "colab": {
          "base_uri": "https://localhost:8080/"
        },
        "id": "tXwClH3MWii6",
        "outputId": "2660a30c-c265-4bab-81dd-474a8f87feae"
      },
      "execution_count": null,
      "outputs": [
        {
          "output_type": "stream",
          "name": "stdout",
          "text": [
            "hello Debasish ,good Morning\n"
          ]
        }
      ]
    },
    {
      "cell_type": "code",
      "source": [
        "x=12.132423523532231435;\n",
        "print('The Value of X is %0.2f'%x);\n",
        "print('The Value of X is %0.5f'%x);"
      ],
      "metadata": {
        "colab": {
          "base_uri": "https://localhost:8080/"
        },
        "id": "oHIKJMAUXDpt",
        "outputId": "094efb3e-1bba-46c2-e7af-b8e6a956945f"
      },
      "execution_count": null,
      "outputs": [
        {
          "output_type": "stream",
          "name": "stdout",
          "text": [
            "The Value of X is 12.13\n",
            "The Value of X is 12.13242\n"
          ]
        }
      ]
    },
    {
      "cell_type": "markdown",
      "source": [
        "## input Formating"
      ],
      "metadata": {
        "id": "KRg4OPCsX4uy"
      }
    },
    {
      "cell_type": "code",
      "source": [
        "num=input('Enter a Number')\n",
        "print(num)\n",
        "num"
      ],
      "metadata": {
        "colab": {
          "base_uri": "https://localhost:8080/",
          "height": 71
        },
        "id": "mS_coul7YAKq",
        "outputId": "f2aec017-3335-4f30-e9d3-00aa36ee41d7"
      },
      "execution_count": null,
      "outputs": [
        {
          "output_type": "stream",
          "name": "stdout",
          "text": [
            "Enter a Number123\n",
            "123\n"
          ]
        },
        {
          "output_type": "execute_result",
          "data": {
            "text/plain": [
              "'123'"
            ],
            "application/vnd.google.colaboratory.intrinsic+json": {
              "type": "string"
            }
          },
          "metadata": {},
          "execution_count": 16
        }
      ]
    },
    {
      "cell_type": "code",
      "source": [
        "num=int(input('Enter a Number'))\n",
        "print(num)\n",
        "num"
      ],
      "metadata": {
        "colab": {
          "base_uri": "https://localhost:8080/"
        },
        "id": "czB31EPlYvMu",
        "outputId": "f82a1a40-3afd-4bfa-b3b6-11dce947afa6"
      },
      "execution_count": null,
      "outputs": [
        {
          "output_type": "stream",
          "name": "stdout",
          "text": [
            "Enter a Number123\n",
            "123\n"
          ]
        },
        {
          "output_type": "execute_result",
          "data": {
            "text/plain": [
              "123"
            ]
          },
          "metadata": {},
          "execution_count": 17
        }
      ]
    },
    {
      "cell_type": "code",
      "source": [
        "num=float(input('Enter a Number'))\n",
        "print(num)\n",
        "num"
      ],
      "metadata": {
        "colab": {
          "base_uri": "https://localhost:8080/"
        },
        "id": "eLyCcBKgY8cA",
        "outputId": "0f9dc607-7eb3-44ea-f148-db0b5677e748"
      },
      "execution_count": null,
      "outputs": [
        {
          "output_type": "stream",
          "name": "stdout",
          "text": [
            "Enter a Number123\n",
            "123.0\n"
          ]
        },
        {
          "output_type": "execute_result",
          "data": {
            "text/plain": [
              "123.0"
            ]
          },
          "metadata": {},
          "execution_count": 18
        }
      ]
    },
    {
      "cell_type": "code",
      "source": [
        "a='Debasish'\n",
        "b=' Sahoo'\n",
        "\n",
        "print(a+b);"
      ],
      "metadata": {
        "colab": {
          "base_uri": "https://localhost:8080/"
        },
        "id": "wMjZWHInZFGa",
        "outputId": "ccff786e-3726-4228-859d-4fb00a4b2655"
      },
      "execution_count": null,
      "outputs": [
        {
          "output_type": "stream",
          "name": "stdout",
          "text": [
            "Debasish Sahoo\n"
          ]
        }
      ]
    },
    {
      "cell_type": "code",
      "source": [
        "a=23\n",
        "b='23'\n",
        "print(a+b); "
      ],
      "metadata": {
        "colab": {
          "base_uri": "https://localhost:8080/",
          "height": 204
        },
        "id": "k-iyJTlIZV6j",
        "outputId": "848297c9-dd07-4a92-bcbb-281e46b65d66"
      },
      "execution_count": null,
      "outputs": [
        {
          "output_type": "error",
          "ename": "TypeError",
          "evalue": "ignored",
          "traceback": [
            "\u001b[0;31m---------------------------------------------------------------------------\u001b[0m",
            "\u001b[0;31mTypeError\u001b[0m                                 Traceback (most recent call last)",
            "\u001b[0;32m<ipython-input-22-140fa8ccdb2d>\u001b[0m in \u001b[0;36m<module>\u001b[0;34m\u001b[0m\n\u001b[1;32m      1\u001b[0m \u001b[0ma\u001b[0m\u001b[0;34m=\u001b[0m\u001b[0;36m23\u001b[0m\u001b[0;34m\u001b[0m\u001b[0;34m\u001b[0m\u001b[0m\n\u001b[1;32m      2\u001b[0m \u001b[0mb\u001b[0m\u001b[0;34m=\u001b[0m\u001b[0;34m'23'\u001b[0m\u001b[0;34m\u001b[0m\u001b[0;34m\u001b[0m\u001b[0m\n\u001b[0;32m----> 3\u001b[0;31m \u001b[0mprint\u001b[0m\u001b[0;34m(\u001b[0m\u001b[0ma\u001b[0m\u001b[0;34m+\u001b[0m\u001b[0mb\u001b[0m\u001b[0;34m)\u001b[0m\u001b[0;34m;\u001b[0m\u001b[0;34m\u001b[0m\u001b[0;34m\u001b[0m\u001b[0m\n\u001b[0m",
            "\u001b[0;31mTypeError\u001b[0m: unsupported operand type(s) for +: 'int' and 'str'"
          ]
        }
      ]
    },
    {
      "cell_type": "code",
      "source": [
        "a='2'\n",
        "b='33'\n",
        "print(a+b); "
      ],
      "metadata": {
        "colab": {
          "base_uri": "https://localhost:8080/"
        },
        "id": "Z4DEd2hIZd4U",
        "outputId": "f1063759-eebf-4a39-943a-290e5b27e308"
      },
      "execution_count": null,
      "outputs": [
        {
          "output_type": "stream",
          "name": "stdout",
          "text": [
            "233\n"
          ]
        }
      ]
    },
    {
      "cell_type": "code",
      "source": [
        "a='2'\n",
        "b='33'\n",
        "print(eval(a+b)); \n",
        "print(eval('2+33')); "
      ],
      "metadata": {
        "colab": {
          "base_uri": "https://localhost:8080/"
        },
        "id": "71mLmid3ZnLF",
        "outputId": "d262d6b7-8744-4228-c4fe-692112864efa"
      },
      "execution_count": null,
      "outputs": [
        {
          "output_type": "stream",
          "name": "stdout",
          "text": [
            "233\n",
            "35\n"
          ]
        }
      ]
    },
    {
      "cell_type": "markdown",
      "source": [
        "### only Int input"
      ],
      "metadata": {
        "id": "R60AYVU0b72k"
      }
    },
    {
      "cell_type": "code",
      "source": [
        "a=int(input(\"Enter First Number:\"));\n",
        "b=int(input(\"Enter Second Number:\"));\n",
        "print(type(a))\n",
        "print(type(b))"
      ],
      "metadata": {
        "colab": {
          "base_uri": "https://localhost:8080/"
        },
        "id": "YtiDAX7wb1AU",
        "outputId": "4152bf8a-d494-4668-bcf4-2e0858111137"
      },
      "execution_count": null,
      "outputs": [
        {
          "output_type": "stream",
          "name": "stdout",
          "text": [
            "Enter First Number:12\n",
            "Enter Second Number:13\n",
            "<class 'int'>\n",
            "<class 'int'>\n"
          ]
        }
      ]
    },
    {
      "cell_type": "markdown",
      "source": [
        "### Only  float Input"
      ],
      "metadata": {
        "id": "d5zIeHHgcikI"
      }
    },
    {
      "cell_type": "code",
      "source": [
        "a=float(input(\"Enter First Number:\"));\n",
        "b=float(input(\"Enter Second Number:\"));\n",
        "print(type(a))\n",
        "print(type(b))"
      ],
      "metadata": {
        "colab": {
          "base_uri": "https://localhost:8080/"
        },
        "id": "0tbfQoQfcdq5",
        "outputId": "26ee453a-85a7-4660-cb4a-bd1b1d48913f"
      },
      "execution_count": null,
      "outputs": [
        {
          "output_type": "stream",
          "name": "stdout",
          "text": [
            "Enter First Number:12\n",
            "Enter Second Number:1.45\n",
            "<class 'float'>\n",
            "<class 'float'>\n"
          ]
        }
      ]
    },
    {
      "cell_type": "markdown",
      "source": [
        "### Multiple Input\n"
      ],
      "metadata": {
        "id": "kXBYWUM9c_tD"
      }
    },
    {
      "cell_type": "code",
      "source": [
        "name,age,phone=input(\"Enter your Name,Age,Phone seperated by Space:\").split()\n",
        "print(\"\\n\");\n",
        "print(\"User Details:\",name,age,phone)"
      ],
      "metadata": {
        "colab": {
          "base_uri": "https://localhost:8080/"
        },
        "id": "jQBlDT4cdDWS",
        "outputId": "2d296ce9-be83-4083-e486-a9ac59018aa9"
      },
      "execution_count": null,
      "outputs": [
        {
          "output_type": "stream",
          "name": "stdout",
          "text": [
            "Enter your Name,Age,Phone seperated by Space:dev 23 9681\n",
            "\n",
            "\n",
            "User Details: dev 23 9681\n"
          ]
        }
      ]
    },
    {
      "cell_type": "code",
      "source": [
        "name,age,phone=input(\"Enter your Name,Age,Phone seperated by commma:\").split(',')\n",
        "print(\"\\n\");\n",
        "print(\"User Details:\",name,age,phone)"
      ],
      "metadata": {
        "colab": {
          "base_uri": "https://localhost:8080/"
        },
        "id": "64hNM3F_d1HZ",
        "outputId": "92f8c804-3633-4833-8e74-57c50f437c60"
      },
      "execution_count": null,
      "outputs": [
        {
          "output_type": "stream",
          "name": "stdout",
          "text": [
            "Enter your Name,Age,Phone seperated by commma:deb,23,9681224048\n",
            "\n",
            "\n",
            "User Details: deb 23 9681224048\n"
          ]
        }
      ]
    },
    {
      "cell_type": "markdown",
      "source": [
        "### Multiline Input"
      ],
      "metadata": {
        "id": "Ah_eV1pQefft"
      }
    },
    {
      "cell_type": "code",
      "source": [
        "Multiline=[]\n",
        "print(\"Tell me about yourself\");\n",
        "while True:\n",
        "  line=input()\n",
        "  if line:\n",
        "    Multiline.append(line)\n",
        "  else:\n",
        "    break\n",
        "finalText='\\n'.join(Multiline)\n",
        "print(\"\\n\")\n",
        "print(\"Final text input\")\n",
        "print(finalText)"
      ],
      "metadata": {
        "colab": {
          "base_uri": "https://localhost:8080/"
        },
        "id": "JpdnG15keeZ2",
        "outputId": "2360c6a5-25a3-4804-af67-52191c430294"
      },
      "execution_count": null,
      "outputs": [
        {
          "output_type": "stream",
          "name": "stdout",
          "text": [
            "Tell me about yourself\n",
            "hello python\n",
            "hi python \n",
            "bye python \n",
            "\n",
            "\n",
            "\n",
            "Final text input\n",
            "hello python\n",
            "hi python \n",
            "bye python \n"
          ]
        }
      ]
    },
    {
      "cell_type": "markdown",
      "source": [
        "### Format output strings by its positions"
      ],
      "metadata": {
        "id": "b4tnIiothVR3"
      }
    },
    {
      "cell_type": "code",
      "source": [
        "firstname=input('Enter the First Name');\n",
        "lastname=input('Enter the last Name');\n",
        "org=input('Enter office Name');\n",
        "\n",
        "print(\"\\n\")\n",
        "print('{0} {1} work at {2}'.format(firstname,lastname,org))\n",
        "print('{1} {0} work at {2}'.format(firstname,lastname,org))\n",
        "\n",
        "\n"
      ],
      "metadata": {
        "colab": {
          "base_uri": "https://localhost:8080/"
        },
        "id": "YXclGjoWgRej",
        "outputId": "0a6ea2d8-7997-4cde-c242-8b29c734c5c8"
      },
      "execution_count": null,
      "outputs": [
        {
          "output_type": "stream",
          "name": "stdout",
          "text": [
            "Enter the First Namedebasish\n",
            "Enter the last Namesahoo\n",
            "Enter office Namephonix opc ltd\n",
            "\n",
            "\n",
            "debasish sahoo work at phonix opc ltd\n",
            "sahoo debasish work at phonix opc ltd\n"
          ]
        }
      ]
    },
    {
      "cell_type": "markdown",
      "source": [
        "### Accessing output strings arguments by name"
      ],
      "metadata": {
        "id": "KEhOLQRlhfX4"
      }
    },
    {
      "cell_type": "code",
      "source": [
        "name=input('Enter Your Name');\n",
        "marks=input('Enter Your Marks');\n",
        "print('\\n')\n",
        "print(\"Student name is {NAME} and marks is {MARKS}\".format(NAME=name,MARKS=marks))"
      ],
      "metadata": {
        "colab": {
          "base_uri": "https://localhost:8080/"
        },
        "id": "i6loxqC9hTAI",
        "outputId": "55c07d4c-da47-4908-aab1-30ae51090b22"
      },
      "execution_count": null,
      "outputs": [
        {
          "output_type": "stream",
          "name": "stdout",
          "text": [
            "Enter Your Namedev \n",
            "Enter Your Marks23\n",
            "\n",
            "\n",
            "Student name is dev  and marks is 23\n"
          ]
        }
      ]
    },
    {
      "cell_type": "markdown",
      "source": [
        "## Import"
      ],
      "metadata": {
        "id": "a5qcuuW8iggA"
      }
    },
    {
      "cell_type": "code",
      "source": [
        "import math\n",
        "print(math.pi)"
      ],
      "metadata": {
        "colab": {
          "base_uri": "https://localhost:8080/"
        },
        "id": "se6_1Gkpim24",
        "outputId": "3202eb6a-302e-4486-9eff-32f93f6f6f8c"
      },
      "execution_count": null,
      "outputs": [
        {
          "output_type": "stream",
          "name": "stdout",
          "text": [
            "3.141592653589793\n"
          ]
        }
      ]
    },
    {
      "cell_type": "code",
      "source": [
        "from math import pi\n",
        "pi"
      ],
      "metadata": {
        "colab": {
          "base_uri": "https://localhost:8080/"
        },
        "id": "FK5tgwqci_hr",
        "outputId": "f2ea94f8-0767-4ac9-c772-ae2da6408f7d"
      },
      "execution_count": null,
      "outputs": [
        {
          "output_type": "execute_result",
          "data": {
            "text/plain": [
              "3.141592653589793"
            ]
          },
          "metadata": {},
          "execution_count": 45
        }
      ]
    },
    {
      "cell_type": "code",
      "source": [
        "import sys \n",
        "sys.path"
      ],
      "metadata": {
        "colab": {
          "base_uri": "https://localhost:8080/"
        },
        "id": "Y00SzoI9jYj_",
        "outputId": "98c3c6da-37a4-4084-e242-c4ac294a9c50"
      },
      "execution_count": null,
      "outputs": [
        {
          "output_type": "execute_result",
          "data": {
            "text/plain": [
              "['/content',\n",
              " '/env/python',\n",
              " '/usr/lib/python38.zip',\n",
              " '/usr/lib/python3.8',\n",
              " '/usr/lib/python3.8/lib-dynload',\n",
              " '',\n",
              " '/usr/local/lib/python3.8/dist-packages',\n",
              " '/usr/lib/python3/dist-packages',\n",
              " '/usr/local/lib/python3.8/dist-packages/IPython/extensions',\n",
              " '/root/.ipython']"
            ]
          },
          "metadata": {},
          "execution_count": 47
        }
      ]
    }
  ]
}