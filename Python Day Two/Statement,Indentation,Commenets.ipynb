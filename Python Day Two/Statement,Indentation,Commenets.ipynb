{
  "nbformat": 4,
  "nbformat_minor": 0,
  "metadata": {
    "colab": {
      "provenance": [],
      "collapsed_sections": [
        "1e68kf15lQX-",
        "YUH_5aLWpb9K",
        "2nuAuWjbp301"
      ]
    },
    "kernelspec": {
      "name": "python3",
      "display_name": "Python 3"
    },
    "language_info": {
      "name": "python"
    }
  },
  "cells": [
    {
      "cell_type": "markdown",
      "source": [
        "# 1.Python Statement\n",
        "\n",
        "**Statement**:instruction that a Python interpreter can excute are called Statement.\n",
        "\n",
        "Example: **a=2+3/(2+1)** is an Assignment Statement.\n",
        "\n",
        "**if,for,while** logical statement"
      ],
      "metadata": {
        "id": "1e68kf15lQX-"
      }
    },
    {
      "cell_type": "markdown",
      "source": [
        "## Multi line Statement\n",
        "\n",
        "In Python the end of a statement is marked by newlinw charector .\n",
        "\n",
        "for multiline statement we have to use line contituation statement(**\\**)"
      ],
      "metadata": {
        "id": "vnEaJenLorBc"
      }
    },
    {
      "cell_type": "markdown",
      "source": [
        "### Statement finish at the end of line:"
      ],
      "metadata": {
        "id": "YUH_5aLWpb9K"
      }
    },
    {
      "cell_type": "code",
      "execution_count": null,
      "metadata": {
        "colab": {
          "base_uri": "https://localhost:8080/"
        },
        "id": "Okx4_r1Kk4yQ",
        "outputId": "1e609929-bc3f-4b73-9f7b-24845d9af8dd"
      },
      "outputs": [
        {
          "output_type": "stream",
          "name": "stdout",
          "text": [
            "5\n"
          ]
        }
      ],
      "source": [
        "x=2+3\n",
        "+3   # illegal continuation of the Sum statement\n",
        "print(x)"
      ]
    },
    {
      "cell_type": "markdown",
      "source": [
        "### A single backslash at the end of the line can be used to indicate that a statement is still incomplite"
      ],
      "metadata": {
        "id": "2nuAuWjbp301"
      }
    },
    {
      "cell_type": "code",
      "source": [
        "x=2+3\\\n",
        "+3     # legal continuation of the Sum statement\n",
        "print(x)"
      ],
      "metadata": {
        "colab": {
          "base_uri": "https://localhost:8080/"
        },
        "id": "CvFvxm94l8t0",
        "outputId": "83c42cff-b710-4948-86fa-0715c72b73f1"
      },
      "execution_count": null,
      "outputs": [
        {
          "output_type": "stream",
          "name": "stdout",
          "text": [
            "8\n"
          ]
        }
      ]
    },
    {
      "cell_type": "markdown",
      "source": [
        ">**Note** : Dont use **#** or **space** after (**\\**) it will couse an Error."
      ],
      "metadata": {
        "id": "onCHmbCJrgfZ"
      }
    },
    {
      "cell_type": "code",
      "source": [
        "x=1+2+3+4\\ # this is acommint line\n",
        "+5+6+7+8\\\n",
        "+1             \n",
        "print(x)"
      ],
      "metadata": {
        "colab": {
          "base_uri": "https://localhost:8080/",
          "height": 132
        },
        "id": "E9sLpJn7mRCM",
        "outputId": "2dc07d03-d61f-4cdc-b09e-eab649f36985"
      },
      "execution_count": null,
      "outputs": [
        {
          "output_type": "error",
          "ename": "SyntaxError",
          "evalue": "ignored",
          "traceback": [
            "\u001b[0;36m  File \u001b[0;32m\"<ipython-input-20-2212b6605705>\"\u001b[0;36m, line \u001b[0;32m1\u001b[0m\n\u001b[0;31m    x=1+2+3+4\\ # this is acommint line\u001b[0m\n\u001b[0m                                      ^\u001b[0m\n\u001b[0;31mSyntaxError\u001b[0m\u001b[0;31m:\u001b[0m unexpected character after line continuation character\n"
          ]
        }
      ]
    },
    {
      "cell_type": "markdown",
      "source": [
        "##Implicit Line Continuation ((),{},[])"
      ],
      "metadata": {
        "id": "5DrHoh9rsDU7"
      }
    },
    {
      "cell_type": "code",
      "source": [
        "x=(2+3\n",
        "   \n",
        "\n",
        "\n",
        "\n",
        "\n",
        "\n",
        "   \n",
        "+3)\n",
        "print(x)"
      ],
      "metadata": {
        "colab": {
          "base_uri": "https://localhost:8080/"
        },
        "id": "Xztexa0vmvQg",
        "outputId": "e7b4828c-52aa-4299-f69f-0ae95fb8973c"
      },
      "execution_count": null,
      "outputs": [
        {
          "output_type": "stream",
          "name": "stdout",
          "text": [
            "8\n"
          ]
        }
      ]
    },
    {
      "cell_type": "code",
      "source": [
        "['a','b',\n",
        "\n",
        "\n",
        "\n",
        "\n",
        "\n",
        "'c','d',\n",
        "\n",
        "\n",
        "\n",
        "\n",
        "\n",
        "'e','f'\n",
        "\n",
        "]"
      ],
      "metadata": {
        "colab": {
          "base_uri": "https://localhost:8080/"
        },
        "id": "qUZiOLUxnhFV",
        "outputId": "1b44aa18-431c-44d4-ea70-bf8cc1220f2c"
      },
      "execution_count": null,
      "outputs": [
        {
          "output_type": "execute_result",
          "data": {
            "text/plain": [
              "['a', 'b', 'c', 'd', 'e', 'f']"
            ]
          },
          "metadata": {},
          "execution_count": 12
        }
      ]
    },
    {
      "cell_type": "markdown",
      "source": [
        "# 2. Python Indentation\n",
        "\n",
        "<pre>\n",
        "1.Code Block 1 Begins \n",
        "2.Code Block 1 continues\n",
        " 3.Code Block 2 Begins\n",
        "  4.Code Block 3 Begins\n",
        " 5.Code Block 2 continues\n",
        " 6.Code Block 2 continues  \n",
        "7.Code Block 1 continues\n",
        "</pre>\n",
        "\n",
        "Here: \n",
        "\n",
        "*   Line 1,2,7  are belongs to same block 1 couse they have same distance to the right.\n",
        "\n",
        "*   Line 3,5,6 are belongs to same block 2 couse they have same distance to the right. \n",
        "\n",
        "*   Line 4 are belongs to block 3 \n",
        "\n",
        "\n",
        "\n",
        "\n",
        "\n",
        "\n",
        "\n",
        "\n",
        "\n"
      ],
      "metadata": {
        "id": "uLB-yzHNtrW3"
      }
    },
    {
      "cell_type": "markdown",
      "source": [
        "## not using **{ }** to define a block of code like java,c++,c "
      ],
      "metadata": {
        "id": "8rG2dshX7CjI"
      }
    },
    {
      "cell_type": "markdown",
      "source": [
        "### Comparison of C & PYTHON programing\n",
        "\n",
        "**C programing Example**\n",
        "<pre>\n",
        "#include <stdio.h>\n",
        "\n",
        "int main(){   //this is for my main block\n",
        "  int a=4;\n",
        "  if(a%2==0){\n",
        "    printf(\"a is even\");\n",
        "  }else{\n",
        "    print(\"a is odd\");\n",
        "  }\n",
        "  return 0;\n",
        "}\n",
        "\n",
        "</pre>\n",
        "\n",
        "**Python Programing**\n",
        "\n",
        "<pre>\n",
        "a=4;\n",
        "if a%2==0:\n",
        "  print('a is even')\n",
        "else:\n",
        "   print('a is odd')\n",
        "</pre>"
      ],
      "metadata": {
        "id": "PoeTHwlW_LP6"
      }
    },
    {
      "cell_type": "markdown",
      "source": [
        "<pre>\n",
        "# include <stdio.h>\n",
        "\n",
        "int main(){  \n",
        "  for(int i=0;i<=10;i++){\n",
        "    printf(i)\n",
        "    if(i==7){\n",
        "      break;\n",
        "  }\n",
        "  }\n",
        " \n",
        "  return 0;\n",
        "}\n",
        "\n",
        "</pre>\n",
        "\n",
        "\n",
        "<pre>\n",
        "for i in range(1,11):\n",
        "  print(i)\n",
        "  if i==7:\n",
        "  break\n",
        "</pre>"
      ],
      "metadata": {
        "id": "cTcXgx0NA4ol"
      }
    },
    {
      "cell_type": "markdown",
      "source": [
        ">NOTE: Never use inditation for style purpose"
      ],
      "metadata": {
        "id": "XfVUfyhyB-JG"
      }
    },
    {
      "cell_type": "code",
      "source": [
        "x=2;\n",
        "y=4;\n",
        "\n",
        "if x>y:\n",
        "  print('x is big');\n",
        "else:\n",
        "print('y is big');"
      ],
      "metadata": {
        "colab": {
          "base_uri": "https://localhost:8080/",
          "height": 132
        },
        "id": "9IN19otnCpzS",
        "outputId": "246f01b2-4cc6-4f00-82a2-ea630bc527d4"
      },
      "execution_count": null,
      "outputs": [
        {
          "output_type": "error",
          "ename": "IndentationError",
          "evalue": "ignored",
          "traceback": [
            "\u001b[0;36m  File \u001b[0;32m\"<ipython-input-23-1dd4a2121f0c>\"\u001b[0;36m, line \u001b[0;32m7\u001b[0m\n\u001b[0;31m    print('y is big');\u001b[0m\n\u001b[0m    ^\u001b[0m\n\u001b[0;31mIndentationError\u001b[0m\u001b[0;31m:\u001b[0m expected an indented block\n"
          ]
        }
      ]
    },
    {
      "cell_type": "code",
      "source": [
        "x=2;\n",
        "y=4;\n",
        "\n",
        "if x>y:\n",
        "  print('x is big');\n",
        "else:\n",
        " \n",
        "\n",
        "\n",
        "\n",
        "\n",
        "\n",
        "\n",
        "print('Logic Ends Here');"
      ],
      "metadata": {
        "colab": {
          "base_uri": "https://localhost:8080/",
          "height": 132
        },
        "id": "sPoCsjpdDLi2",
        "outputId": "04947d0b-8124-4b0b-85cf-9f3a4d99bfd9"
      },
      "execution_count": null,
      "outputs": [
        {
          "output_type": "error",
          "ename": "IndentationError",
          "evalue": "ignored",
          "traceback": [
            "\u001b[0;36m  File \u001b[0;32m\"<ipython-input-27-8cb4508bc9ec>\"\u001b[0;36m, line \u001b[0;32m14\u001b[0m\n\u001b[0;31m    print('Logic Ends Here');\u001b[0m\n\u001b[0m    ^\u001b[0m\n\u001b[0;31mIndentationError\u001b[0m\u001b[0;31m:\u001b[0m expected an indented block\n"
          ]
        }
      ]
    },
    {
      "cell_type": "markdown",
      "source": [
        "#3.Python Comments"
      ],
      "metadata": {
        "id": "4m9gnmOaDp-p"
      }
    },
    {
      "cell_type": "markdown",
      "source": [
        "## In python Comment line is three type\n",
        "\n",
        "---\n",
        "* Single Line Comment\n",
        "* Multi Line Comment\n",
        "* Inline Comment\n",
        "\n",
        "> Note: DocString\n",
        "\n",
        "###for comment line we have to use **#**"
      ],
      "metadata": {
        "id": "JXGcCNHBECur"
      }
    },
    {
      "cell_type": "code",
      "source": [
        "# This is Single Line Commmnet \n",
        "\n",
        "\n",
        "x=3+4\n",
        "y=x+46;  # inline comment\n",
        "\n",
        "# this is comment 1\n",
        "# this is comment 2\n",
        "# this is Multiline comment\n",
        "\n",
        "#print(#this a comment)\n",
        "\n",
        "print('''this a comment''')"
      ],
      "metadata": {
        "colab": {
          "base_uri": "https://localhost:8080/"
        },
        "id": "Wop42ZxZEwsQ",
        "outputId": "524eb0c0-1e98-435f-aed0-d5c3e98cc848"
      },
      "execution_count": null,
      "outputs": [
        {
          "output_type": "stream",
          "name": "stdout",
          "text": [
            "this a comment\n"
          ]
        }
      ]
    },
    {
      "cell_type": "code",
      "source": [
        "print(\"This is another way to comment\" '''This is python multiline comment''' );"
      ],
      "metadata": {
        "colab": {
          "base_uri": "https://localhost:8080/"
        },
        "id": "SOri32v-FTrs",
        "outputId": "a613fb64-c69f-4d0b-fd8c-cd249d96bce1"
      },
      "execution_count": null,
      "outputs": [
        {
          "output_type": "stream",
          "name": "stdout",
          "text": [
            "This is another way to commentThis is python multiline comment\n"
          ]
        }
      ]
    },
    {
      "cell_type": "code",
      "source": [
        "# DocStrings\n",
        "def square(n):\n",
        "  ''' Takes a number n returns the square of n'''\n",
        "  return n**2\n",
        "\n",
        "print(square.__doc__)"
      ],
      "metadata": {
        "colab": {
          "base_uri": "https://localhost:8080/"
        },
        "id": "_gulRDurGTNb",
        "outputId": "56d7724c-cf18-4ead-8e80-c2bfc8a501d4"
      },
      "execution_count": null,
      "outputs": [
        {
          "output_type": "stream",
          "name": "stdout",
          "text": [
            " Takes a number n returns the square of n\n"
          ]
        }
      ]
    },
    {
      "cell_type": "code",
      "source": [
        "print(print.__doc__)"
      ],
      "metadata": {
        "colab": {
          "base_uri": "https://localhost:8080/"
        },
        "id": "-kpHQr1YHDXQ",
        "outputId": "52bd29bb-148d-4397-9fc3-5e58c8117fdb"
      },
      "execution_count": null,
      "outputs": [
        {
          "output_type": "stream",
          "name": "stdout",
          "text": [
            "print(value, ..., sep=' ', end='\\n', file=sys.stdout, flush=False)\n",
            "\n",
            "Prints the values to a stream, or to sys.stdout by default.\n",
            "Optional keyword arguments:\n",
            "file:  a file-like object (stream); defaults to the current sys.stdout.\n",
            "sep:   string inserted between values, default a space.\n",
            "end:   string appended after the last value, default a newline.\n",
            "flush: whether to forcibly flush the stream.\n"
          ]
        }
      ]
    },
    {
      "cell_type": "code",
      "source": [
        "print(map.__doc__)"
      ],
      "metadata": {
        "colab": {
          "base_uri": "https://localhost:8080/"
        },
        "id": "adJjFYSkHNDZ",
        "outputId": "ec8b6cc5-8a5e-4eeb-9a5a-2801f56033c1"
      },
      "execution_count": null,
      "outputs": [
        {
          "output_type": "stream",
          "name": "stdout",
          "text": [
            "map(func, *iterables) --> map object\n",
            "\n",
            "Make an iterator that computes the function using arguments from\n",
            "each of the iterables.  Stops when the shortest iterable is exhausted.\n"
          ]
        }
      ]
    },
    {
      "cell_type": "code",
      "source": [
        "def add_binary(a,b):\n",
        "  '''\n",
        "   return the sum of two decimal number in binary didgits.\n",
        "   Parameters:\n",
        "          a(int):decimal interger\n",
        "          b(int):decimal interger\n",
        "     returns:\n",
        "          binary_sum(str):Binary strinh of the sum of a and b\n",
        "  '''\n",
        "  binary_sum=bin(a+b)[2:]\n",
        "  return binary_sum\n",
        "\n",
        "\n",
        "\n",
        "\n",
        "print(add_binary.__doc__)"
      ],
      "metadata": {
        "colab": {
          "base_uri": "https://localhost:8080/"
        },
        "id": "6d2s1clyHlHk",
        "outputId": "7a47b78f-b269-4ed7-9608-38d63ebd2a43"
      },
      "execution_count": null,
      "outputs": [
        {
          "output_type": "stream",
          "name": "stdout",
          "text": [
            "\n",
            "   return the sum of two decimal number in binary didgits.\n",
            "   Parameters:\n",
            "          a(int):decimal interger\n",
            "          b(int):decimal interger\n",
            "     returns:\n",
            "          binary_sum(str):Binary strinh of the sum of a and b\n",
            "  \n"
          ]
        }
      ]
    },
    {
      "cell_type": "code",
      "source": [
        "help(\"topics\")"
      ],
      "metadata": {
        "colab": {
          "base_uri": "https://localhost:8080/"
        },
        "id": "lHw0W4BnI10s",
        "outputId": "6be2398d-dc57-42e7-8a08-827b75efd96f"
      },
      "execution_count": null,
      "outputs": [
        {
          "output_type": "stream",
          "name": "stdout",
          "text": [
            "\n",
            "Here is a list of available topics.  Enter any topic name to get more help.\n",
            "\n",
            "ASSERTION           DELETION            LOOPING             SHIFTING\n",
            "ASSIGNMENT          DICTIONARIES        MAPPINGMETHODS      SLICINGS\n",
            "ATTRIBUTEMETHODS    DICTIONARYLITERALS  MAPPINGS            SPECIALATTRIBUTES\n",
            "ATTRIBUTES          DYNAMICFEATURES     METHODS             SPECIALIDENTIFIERS\n",
            "AUGMENTEDASSIGNMENT ELLIPSIS            MODULES             SPECIALMETHODS\n",
            "BASICMETHODS        EXCEPTIONS          NAMESPACES          STRINGMETHODS\n",
            "BINARY              EXECUTION           NONE                STRINGS\n",
            "BITWISE             EXPRESSIONS         NUMBERMETHODS       SUBSCRIPTS\n",
            "BOOLEAN             FLOAT               NUMBERS             TRACEBACKS\n",
            "CALLABLEMETHODS     FORMATTING          OBJECTS             TRUTHVALUE\n",
            "CALLS               FRAMEOBJECTS        OPERATORS           TUPLELITERALS\n",
            "CLASSES             FRAMES              PACKAGES            TUPLES\n",
            "CODEOBJECTS         FUNCTIONS           POWER               TYPEOBJECTS\n",
            "COMPARISON          IDENTIFIERS         PRECEDENCE          TYPES\n",
            "COMPLEX             IMPORTING           PRIVATENAMES        UNARY\n",
            "CONDITIONAL         INTEGER             RETURNING           UNICODE\n",
            "CONTEXTMANAGERS     LISTLITERALS        SCOPING             \n",
            "CONVERSIONS         LISTS               SEQUENCEMETHODS     \n",
            "DEBUGGING           LITERALS            SEQUENCES           \n",
            "\n"
          ]
        }
      ]
    },
    {
      "cell_type": "code",
      "source": [
        "help('LISTS')"
      ],
      "metadata": {
        "colab": {
          "base_uri": "https://localhost:8080/"
        },
        "id": "hrvd9TSvI_7V",
        "outputId": "bb4236ee-0522-4b9d-ad1e-5097b7cd2673"
      },
      "execution_count": null,
      "outputs": [
        {
          "output_type": "stream",
          "name": "stdout",
          "text": [
            "Mutable Sequence Types\n",
            "**********************\n",
            "\n",
            "The operations in the following table are defined on mutable sequence\n",
            "types. The \"collections.abc.MutableSequence\" ABC is provided to make\n",
            "it easier to correctly implement these operations on custom sequence\n",
            "types.\n",
            "\n",
            "In the table *s* is an instance of a mutable sequence type, *t* is any\n",
            "iterable object and *x* is an arbitrary object that meets any type and\n",
            "value restrictions imposed by *s* (for example, \"bytearray\" only\n",
            "accepts integers that meet the value restriction \"0 <= x <= 255\").\n",
            "\n",
            "+--------------------------------+----------------------------------+-----------------------+\n",
            "| Operation                      | Result                           | Notes                 |\n",
            "|================================|==================================|=======================|\n",
            "| \"s[i] = x\"                     | item *i* of *s* is replaced by   |                       |\n",
            "|                                | *x*                              |                       |\n",
            "+--------------------------------+----------------------------------+-----------------------+\n",
            "| \"s[i:j] = t\"                   | slice of *s* from *i* to *j* is  |                       |\n",
            "|                                | replaced by the contents of the  |                       |\n",
            "|                                | iterable *t*                     |                       |\n",
            "+--------------------------------+----------------------------------+-----------------------+\n",
            "| \"del s[i:j]\"                   | same as \"s[i:j] = []\"            |                       |\n",
            "+--------------------------------+----------------------------------+-----------------------+\n",
            "| \"s[i:j:k] = t\"                 | the elements of \"s[i:j:k]\" are   | (1)                   |\n",
            "|                                | replaced by those of *t*         |                       |\n",
            "+--------------------------------+----------------------------------+-----------------------+\n",
            "| \"del s[i:j:k]\"                 | removes the elements of          |                       |\n",
            "|                                | \"s[i:j:k]\" from the list         |                       |\n",
            "+--------------------------------+----------------------------------+-----------------------+\n",
            "| \"s.append(x)\"                  | appends *x* to the end of the    |                       |\n",
            "|                                | sequence (same as                |                       |\n",
            "|                                | \"s[len(s):len(s)] = [x]\")        |                       |\n",
            "+--------------------------------+----------------------------------+-----------------------+\n",
            "| \"s.clear()\"                    | removes all items from *s* (same | (5)                   |\n",
            "|                                | as \"del s[:]\")                   |                       |\n",
            "+--------------------------------+----------------------------------+-----------------------+\n",
            "| \"s.copy()\"                     | creates a shallow copy of *s*    | (5)                   |\n",
            "|                                | (same as \"s[:]\")                 |                       |\n",
            "+--------------------------------+----------------------------------+-----------------------+\n",
            "| \"s.extend(t)\" or \"s += t\"      | extends *s* with the contents of |                       |\n",
            "|                                | *t* (for the most part the same  |                       |\n",
            "|                                | as \"s[len(s):len(s)] = t\")       |                       |\n",
            "+--------------------------------+----------------------------------+-----------------------+\n",
            "| \"s *= n\"                       | updates *s* with its contents    | (6)                   |\n",
            "|                                | repeated *n* times               |                       |\n",
            "+--------------------------------+----------------------------------+-----------------------+\n",
            "| \"s.insert(i, x)\"               | inserts *x* into *s* at the      |                       |\n",
            "|                                | index given by *i* (same as      |                       |\n",
            "|                                | \"s[i:i] = [x]\")                  |                       |\n",
            "+--------------------------------+----------------------------------+-----------------------+\n",
            "| \"s.pop([i])\"                   | retrieves the item at *i* and    | (2)                   |\n",
            "|                                | also removes it from *s*         |                       |\n",
            "+--------------------------------+----------------------------------+-----------------------+\n",
            "| \"s.remove(x)\"                  | remove the first item from *s*   | (3)                   |\n",
            "|                                | where \"s[i]\" is equal to *x*     |                       |\n",
            "+--------------------------------+----------------------------------+-----------------------+\n",
            "| \"s.reverse()\"                  | reverses the items of *s* in     | (4)                   |\n",
            "|                                | place                            |                       |\n",
            "+--------------------------------+----------------------------------+-----------------------+\n",
            "\n",
            "Notes:\n",
            "\n",
            "1. *t* must have the same length as the slice it is replacing.\n",
            "\n",
            "2. The optional argument *i* defaults to \"-1\", so that by default the\n",
            "   last item is removed and returned.\n",
            "\n",
            "3. \"remove()\" raises \"ValueError\" when *x* is not found in *s*.\n",
            "\n",
            "4. The \"reverse()\" method modifies the sequence in place for economy\n",
            "   of space when reversing a large sequence.  To remind users that it\n",
            "   operates by side effect, it does not return the reversed sequence.\n",
            "\n",
            "5. \"clear()\" and \"copy()\" are included for consistency with the\n",
            "   interfaces of mutable containers that don’t support slicing\n",
            "   operations (such as \"dict\" and \"set\"). \"copy()\" is not part of the\n",
            "   \"collections.abc.MutableSequence\" ABC, but most concrete mutable\n",
            "   sequence classes provide it.\n",
            "\n",
            "   New in version 3.3: \"clear()\" and \"copy()\" methods.\n",
            "\n",
            "6. The value *n* is an integer, or an object implementing\n",
            "   \"__index__()\".  Zero and negative values of *n* clear the sequence.\n",
            "   Items in the sequence are not copied; they are referenced multiple\n",
            "   times, as explained for \"s * n\" under Common Sequence Operations.\n",
            "\n",
            "Related help topics: LISTLITERALS\n",
            "\n"
          ]
        }
      ]
    }
  ]
}